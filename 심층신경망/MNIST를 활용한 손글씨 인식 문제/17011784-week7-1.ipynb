{
 "cells": [
  {
   "cell_type": "code",
   "execution_count": 1,
   "id": "e8cb7fdf",
   "metadata": {
    "_cell_guid": "b1076dfc-b9ad-4769-8c92-a6c4dae69d19",
    "_uuid": "8f2839f25d086af736a60e9eeb907d3b93b6e0e5",
    "execution": {
     "iopub.execute_input": "2021-10-14T19:20:21.040072Z",
     "iopub.status.busy": "2021-10-14T19:20:21.038610Z",
     "iopub.status.idle": "2021-10-14T19:20:21.117690Z",
     "shell.execute_reply": "2021-10-14T19:20:21.118311Z",
     "shell.execute_reply.started": "2021-10-14T13:01:48.343269Z"
    },
    "papermill": {
     "duration": 0.096905,
     "end_time": "2021-10-14T19:20:21.118633",
     "exception": false,
     "start_time": "2021-10-14T19:20:21.021728",
     "status": "completed"
    },
    "tags": []
   },
   "outputs": [
    {
     "name": "stdout",
     "output_type": "stream",
     "text": [
      "/kaggle/input/2021-ai-w7-p1/mnist_test.csv\n",
      "/kaggle/input/2021-ai-w7-p1/mnist_train.csv\n",
      "/kaggle/input/2021-ai-w7-p1/submission.csv\n"
     ]
    }
   ],
   "source": [
    "# This Python 3 environment comes with many helpful analytics libraries installed\n",
    "# It is defined by the kaggle/python Docker image: https://github.com/kaggle/docker-python\n",
    "# For example, here's several helpful packages to load\n",
    "\n",
    "import numpy as np # linear algebra\n",
    "import pandas as pd # data processing, CSV file I/O (e.g. pd.read_csv)\n",
    "\n",
    "# Input data files are available in the read-only \"../input/\" directory\n",
    "# For example, running this (by clicking run or pressing Shift+Enter) will list all files under the input directory\n",
    "\n",
    "import os\n",
    "for dirname, _, filenames in os.walk('/kaggle/input'):\n",
    "    for filename in filenames:\n",
    "        print(os.path.join(dirname, filename))\n",
    "\n",
    "# You can write up to 20GB to the current directory (/kaggle/working/) that gets preserved as output when you create a version using \"Save & Run All\" \n",
    "# You can also write temporary files to /kaggle/temp/, but they won't be saved outside of the current session"
   ]
  },
  {
   "cell_type": "code",
   "execution_count": 2,
   "id": "b880f341",
   "metadata": {
    "execution": {
     "iopub.execute_input": "2021-10-14T19:20:21.148512Z",
     "iopub.status.busy": "2021-10-14T19:20:21.147848Z",
     "iopub.status.idle": "2021-10-14T19:20:25.503472Z",
     "shell.execute_reply": "2021-10-14T19:20:25.502590Z",
     "shell.execute_reply.started": "2021-10-14T13:01:48.505805Z"
    },
    "papermill": {
     "duration": 4.371057,
     "end_time": "2021-10-14T19:20:25.503622",
     "exception": false,
     "start_time": "2021-10-14T19:20:21.132565",
     "status": "completed"
    },
    "tags": []
   },
   "outputs": [],
   "source": [
    "import torch\n",
    "import torch.optim as optim"
   ]
  },
  {
   "cell_type": "code",
   "execution_count": 3,
   "id": "19267a2e",
   "metadata": {
    "execution": {
     "iopub.execute_input": "2021-10-14T19:20:25.569912Z",
     "iopub.status.busy": "2021-10-14T19:20:25.569346Z",
     "iopub.status.idle": "2021-10-14T19:20:25.580666Z",
     "shell.execute_reply": "2021-10-14T19:20:25.580119Z",
     "shell.execute_reply.started": "2021-10-14T13:01:49.258023Z"
    },
    "papermill": {
     "duration": 0.064691,
     "end_time": "2021-10-14T19:20:25.580779",
     "exception": false,
     "start_time": "2021-10-14T19:20:25.516088",
     "status": "completed"
    },
    "tags": []
   },
   "outputs": [],
   "source": [
    "device = 'cuda' if torch.cuda.is_available() else 'cpu'\n",
    "torch.manual_seed(777)\n",
    "\n",
    "import random\n",
    "random.seed(777)\n",
    "if device == 'cuda':\n",
    "    torch.cuda.manual_seed_all(777)"
   ]
  },
  {
   "cell_type": "code",
   "execution_count": 4,
   "id": "7d835df7",
   "metadata": {
    "execution": {
     "iopub.execute_input": "2021-10-14T19:20:25.609329Z",
     "iopub.status.busy": "2021-10-14T19:20:25.608568Z",
     "iopub.status.idle": "2021-10-14T19:20:25.610552Z",
     "shell.execute_reply": "2021-10-14T19:20:25.610903Z",
     "shell.execute_reply.started": "2021-10-14T13:01:49.290533Z"
    },
    "papermill": {
     "duration": 0.017632,
     "end_time": "2021-10-14T19:20:25.611036",
     "exception": false,
     "start_time": "2021-10-14T19:20:25.593404",
     "status": "completed"
    },
    "tags": []
   },
   "outputs": [],
   "source": [
    "LR=0.001\n",
    "epochs=15\n",
    "BS=100\n",
    "drop=0.3"
   ]
  },
  {
   "cell_type": "code",
   "execution_count": 5,
   "id": "2b569682",
   "metadata": {
    "execution": {
     "iopub.execute_input": "2021-10-14T19:20:25.639575Z",
     "iopub.status.busy": "2021-10-14T19:20:25.639077Z",
     "iopub.status.idle": "2021-10-14T19:20:34.398079Z",
     "shell.execute_reply": "2021-10-14T19:20:34.397465Z",
     "shell.execute_reply.started": "2021-10-14T13:01:49.30154Z"
    },
    "papermill": {
     "duration": 8.775054,
     "end_time": "2021-10-14T19:20:34.398256",
     "exception": false,
     "start_time": "2021-10-14T19:20:25.623202",
     "status": "completed"
    },
    "tags": []
   },
   "outputs": [
    {
     "name": "stdout",
     "output_type": "stream",
     "text": [
      "(60000, 786)\n",
      "(10000, 785)\n",
      "   id  Label\n",
      "0   0      1\n",
      "1   1      1\n",
      "2   2      1\n",
      "3   3      1\n",
      "4   4      1\n"
     ]
    }
   ],
   "source": [
    "train=pd.read_csv('/kaggle/input/2021-ai-w7-p1/mnist_train.csv')\n",
    "test=pd.read_csv('/kaggle/input/2021-ai-w7-p1/mnist_test.csv')\n",
    "submit=pd.read_csv('/kaggle/input/2021-ai-w7-p1/submission.csv')\n",
    "print(train.shape)\n",
    "print(test.shape)\n",
    "print(submit.head())"
   ]
  },
  {
   "cell_type": "code",
   "execution_count": 6,
   "id": "631ec1ff",
   "metadata": {
    "execution": {
     "iopub.execute_input": "2021-10-14T19:20:34.555824Z",
     "iopub.status.busy": "2021-10-14T19:20:34.536183Z",
     "iopub.status.idle": "2021-10-14T19:20:34.620846Z",
     "shell.execute_reply": "2021-10-14T19:20:34.620231Z",
     "shell.execute_reply.started": "2021-10-14T13:01:58.703594Z"
    },
    "papermill": {
     "duration": 0.209609,
     "end_time": "2021-10-14T19:20:34.621014",
     "exception": false,
     "start_time": "2021-10-14T19:20:34.411405",
     "status": "completed"
    },
    "tags": []
   },
   "outputs": [
    {
     "name": "stdout",
     "output_type": "stream",
     "text": [
      "255.0\n",
      "255.0\n"
     ]
    }
   ],
   "source": [
    "x=train.iloc[:,1:-1]\n",
    "y=train.iloc[:,-1]\n",
    "xtest=test.iloc[:,1:]\n",
    "print(x.max().max())\n",
    "print(xtest.max().max())"
   ]
  },
  {
   "cell_type": "code",
   "execution_count": 7,
   "id": "dcdb8634",
   "metadata": {
    "execution": {
     "iopub.execute_input": "2021-10-14T19:20:34.652901Z",
     "iopub.status.busy": "2021-10-14T19:20:34.652405Z",
     "iopub.status.idle": "2021-10-14T19:20:34.884077Z",
     "shell.execute_reply": "2021-10-14T19:20:34.885003Z",
     "shell.execute_reply.started": "2021-10-14T13:01:58.952125Z"
    },
    "papermill": {
     "duration": 0.250454,
     "end_time": "2021-10-14T19:20:34.885226",
     "exception": false,
     "start_time": "2021-10-14T19:20:34.634772",
     "status": "completed"
    },
    "tags": []
   },
   "outputs": [
    {
     "name": "stdout",
     "output_type": "stream",
     "text": [
      "1.0\n",
      "1.0\n"
     ]
    }
   ],
   "source": [
    "x/=255\n",
    "xtest/=255\n",
    "print(x.max().max())\n",
    "print(xtest.max().max())"
   ]
  },
  {
   "cell_type": "code",
   "execution_count": 8,
   "id": "13be60eb",
   "metadata": {
    "execution": {
     "iopub.execute_input": "2021-10-14T19:20:34.915913Z",
     "iopub.status.busy": "2021-10-14T19:20:34.915122Z",
     "iopub.status.idle": "2021-10-14T19:20:40.259613Z",
     "shell.execute_reply": "2021-10-14T19:20:40.260605Z",
     "shell.execute_reply.started": "2021-10-14T13:01:59.215367Z"
    },
    "papermill": {
     "duration": 5.361146,
     "end_time": "2021-10-14T19:20:40.260812",
     "exception": false,
     "start_time": "2021-10-14T19:20:34.899666",
     "status": "completed"
    },
    "tags": []
   },
   "outputs": [
    {
     "name": "stdout",
     "output_type": "stream",
     "text": [
      "torch.Size([60000, 784])\n",
      "torch.Size([60000])\n",
      "torch.Size([10000, 784])\n"
     ]
    }
   ],
   "source": [
    "x=torch.FloatTensor(x.values).to(device)\n",
    "y=torch.LongTensor(y.values).to(device)\n",
    "xtest=torch.FloatTensor(xtest.values).to(device)\n",
    "print(x.shape)\n",
    "print(y.shape)\n",
    "print(xtest.shape)"
   ]
  },
  {
   "cell_type": "code",
   "execution_count": 9,
   "id": "887bcb01",
   "metadata": {
    "execution": {
     "iopub.execute_input": "2021-10-14T19:20:40.294268Z",
     "iopub.status.busy": "2021-10-14T19:20:40.292715Z",
     "iopub.status.idle": "2021-10-14T19:20:40.294886Z",
     "shell.execute_reply": "2021-10-14T19:20:40.295331Z",
     "shell.execute_reply.started": "2021-10-14T13:02:02.054983Z"
    },
    "papermill": {
     "duration": 0.020413,
     "end_time": "2021-10-14T19:20:40.295457",
     "exception": false,
     "start_time": "2021-10-14T19:20:40.275044",
     "status": "completed"
    },
    "tags": []
   },
   "outputs": [],
   "source": [
    "dataset=torch.utils.data.TensorDataset(x,y)\n",
    "DataLoader=torch.utils.data.DataLoader(dataset,batch_size=BS,shuffle=True)"
   ]
  },
  {
   "cell_type": "code",
   "execution_count": 10,
   "id": "6bfc8e1f",
   "metadata": {
    "execution": {
     "iopub.execute_input": "2021-10-14T19:20:40.327051Z",
     "iopub.status.busy": "2021-10-14T19:20:40.326455Z",
     "iopub.status.idle": "2021-10-14T19:20:40.340059Z",
     "shell.execute_reply": "2021-10-14T19:20:40.340499Z",
     "shell.execute_reply.started": "2021-10-14T13:02:02.064833Z"
    },
    "papermill": {
     "duration": 0.032105,
     "end_time": "2021-10-14T19:20:40.340622",
     "exception": false,
     "start_time": "2021-10-14T19:20:40.308517",
     "status": "completed"
    },
    "tags": []
   },
   "outputs": [],
   "source": [
    "linear1=torch.nn.Linear(784,512,bias=True)\n",
    "linear2=torch.nn.Linear(512,512,bias=True)\n",
    "linear3=torch.nn.Linear(512,512,bias=True)\n",
    "linear4=torch.nn.Linear(512,512,bias=True)\n",
    "linear5=torch.nn.Linear(512,10,bias=True)\n",
    "relu=torch.nn.ReLU()\n",
    "dropout=torch.nn.Dropout(p=drop)"
   ]
  },
  {
   "cell_type": "code",
   "execution_count": 11,
   "id": "5adb1a0c",
   "metadata": {
    "execution": {
     "iopub.execute_input": "2021-10-14T19:20:40.371749Z",
     "iopub.status.busy": "2021-10-14T19:20:40.371014Z",
     "iopub.status.idle": "2021-10-14T19:20:40.435240Z",
     "shell.execute_reply": "2021-10-14T19:20:40.435653Z",
     "shell.execute_reply.started": "2021-10-14T13:02:02.089897Z"
    },
    "papermill": {
     "duration": 0.081925,
     "end_time": "2021-10-14T19:20:40.435775",
     "exception": false,
     "start_time": "2021-10-14T19:20:40.353850",
     "status": "completed"
    },
    "tags": []
   },
   "outputs": [
    {
     "data": {
      "text/plain": [
       "Parameter containing:\n",
       "tensor([[-0.0565,  0.0423, -0.0155,  ...,  0.1012,  0.0459, -0.0191],\n",
       "        [ 0.0772,  0.0452, -0.0638,  ...,  0.0476, -0.0638,  0.0528],\n",
       "        [ 0.0311, -0.1023, -0.0701,  ...,  0.0412, -0.1004,  0.0738],\n",
       "        ...,\n",
       "        [ 0.0334,  0.0187, -0.1021,  ...,  0.0280, -0.0583, -0.1018],\n",
       "        [-0.0506, -0.0939, -0.0467,  ..., -0.0554, -0.0325,  0.0640],\n",
       "        [-0.0183, -0.0123,  0.1025,  ..., -0.0214,  0.0220, -0.0741]],\n",
       "       requires_grad=True)"
      ]
     },
     "execution_count": 11,
     "metadata": {},
     "output_type": "execute_result"
    }
   ],
   "source": [
    "torch.nn.init.xavier_uniform_(linear1.weight)\n",
    "torch.nn.init.xavier_uniform_(linear2.weight)\n",
    "torch.nn.init.xavier_uniform_(linear3.weight)\n",
    "torch.nn.init.xavier_uniform_(linear4.weight)\n",
    "torch.nn.init.xavier_uniform_(linear5.weight)"
   ]
  },
  {
   "cell_type": "code",
   "execution_count": 12,
   "id": "39bcaf44",
   "metadata": {
    "execution": {
     "iopub.execute_input": "2021-10-14T19:20:40.468111Z",
     "iopub.status.busy": "2021-10-14T19:20:40.467540Z",
     "iopub.status.idle": "2021-10-14T19:20:40.473745Z",
     "shell.execute_reply": "2021-10-14T19:20:40.474179Z",
     "shell.execute_reply.started": "2021-10-14T13:02:02.11629Z"
    },
    "papermill": {
     "duration": 0.024971,
     "end_time": "2021-10-14T19:20:40.474302",
     "exception": false,
     "start_time": "2021-10-14T19:20:40.449331",
     "status": "completed"
    },
    "tags": []
   },
   "outputs": [],
   "source": [
    "model=torch.nn.Sequential(\n",
    "    linear1,relu,dropout,\n",
    "    linear2,relu,dropout,\n",
    "    linear3,relu,dropout,\n",
    "    linear4,relu,dropout,\n",
    "    linear5).to(device)\n",
    "loss=torch.nn.CrossEntropyLoss().to(device)\n",
    "optimizer=torch.optim.Adam(model.parameters(),lr=LR)"
   ]
  },
  {
   "cell_type": "code",
   "execution_count": 13,
   "id": "2ea3ddfe",
   "metadata": {
    "execution": {
     "iopub.execute_input": "2021-10-14T19:20:40.512923Z",
     "iopub.status.busy": "2021-10-14T19:20:40.506992Z",
     "iopub.status.idle": "2021-10-14T19:21:21.946501Z",
     "shell.execute_reply": "2021-10-14T19:21:21.947206Z",
     "shell.execute_reply.started": "2021-10-14T13:02:02.133539Z"
    },
    "papermill": {
     "duration": 41.459542,
     "end_time": "2021-10-14T19:21:21.947373",
     "exception": false,
     "start_time": "2021-10-14T19:20:40.487831",
     "status": "completed"
    },
    "tags": []
   },
   "outputs": [
    {
     "name": "stdout",
     "output_type": "stream",
     "text": [
      "0 cost 0.307737172\n",
      "1 cost 0.145624638\n",
      "2 cost 0.112738363\n",
      "3 cost 0.094752125\n",
      "4 cost 0.081102587\n",
      "5 cost 0.076060072\n",
      "6 cost 0.068984285\n",
      "7 cost 0.066080607\n",
      "8 cost 0.056281734\n",
      "9 cost 0.057654969\n",
      "10 cost 0.053252812\n",
      "11 cost 0.049256250\n",
      "12 cost 0.045293149\n",
      "13 cost 0.050689258\n",
      "14 cost 0.041668333\n"
     ]
    }
   ],
   "source": [
    "le=len(DataLoader)\n",
    "model.train()\n",
    "\n",
    "for epoch in range(epochs):\n",
    "    total_cost=0\n",
    "    for X, Y in DataLoader:\n",
    "        optimizer.zero_grad()\n",
    "        cost=loss(model(X),Y)\n",
    "        cost.backward()\n",
    "        optimizer.step()\n",
    "        total_cost+=cost/le\n",
    "    print(epoch,'cost {:.9f}'.format(total_cost))"
   ]
  },
  {
   "cell_type": "code",
   "execution_count": 14,
   "id": "92545601",
   "metadata": {
    "execution": {
     "iopub.execute_input": "2021-10-14T19:21:21.988261Z",
     "iopub.status.busy": "2021-10-14T19:21:21.987412Z",
     "iopub.status.idle": "2021-10-14T19:21:22.015680Z",
     "shell.execute_reply": "2021-10-14T19:21:22.016082Z",
     "shell.execute_reply.started": "2021-10-14T13:02:59.653164Z"
    },
    "papermill": {
     "duration": 0.050829,
     "end_time": "2021-10-14T19:21:22.016216",
     "exception": false,
     "start_time": "2021-10-14T19:21:21.965387",
     "status": "completed"
    },
    "tags": []
   },
   "outputs": [
    {
     "name": "stdout",
     "output_type": "stream",
     "text": [
      "0.9955000281333923\n"
     ]
    }
   ],
   "source": [
    "with torch.no_grad():\n",
    "    model.eval()\n",
    "    prediction=model(x)\n",
    "    correct=torch.argmax(prediction,dim=1)==y\n",
    "    print((correct.float().sum()/len(correct)).item())"
   ]
  },
  {
   "cell_type": "code",
   "execution_count": 15,
   "id": "45998b2a",
   "metadata": {
    "execution": {
     "iopub.execute_input": "2021-10-14T19:21:22.065358Z",
     "iopub.status.busy": "2021-10-14T19:21:22.064571Z",
     "iopub.status.idle": "2021-10-14T19:21:22.072010Z",
     "shell.execute_reply": "2021-10-14T19:21:22.072425Z",
     "shell.execute_reply.started": "2021-10-14T13:02:59.689973Z"
    },
    "papermill": {
     "duration": 0.033304,
     "end_time": "2021-10-14T19:21:22.072554",
     "exception": false,
     "start_time": "2021-10-14T19:21:22.039250",
     "status": "completed"
    },
    "tags": []
   },
   "outputs": [
    {
     "name": "stdout",
     "output_type": "stream",
     "text": [
      "tensor([7, 2, 1,  ..., 4, 5, 6], device='cuda:0')\n"
     ]
    }
   ],
   "source": [
    "with torch.no_grad():\n",
    "    model.eval()\n",
    "    test_prediction=torch.argmax(model(xtest),dim=1)\n",
    "    print(test_prediction)"
   ]
  },
  {
   "cell_type": "code",
   "execution_count": 16,
   "id": "54c2fad7",
   "metadata": {
    "execution": {
     "iopub.execute_input": "2021-10-14T19:21:22.115479Z",
     "iopub.status.busy": "2021-10-14T19:21:22.114792Z",
     "iopub.status.idle": "2021-10-14T19:21:22.118949Z",
     "shell.execute_reply": "2021-10-14T19:21:22.118370Z",
     "shell.execute_reply.started": "2021-10-14T13:02:59.706257Z"
    },
    "papermill": {
     "duration": 0.029117,
     "end_time": "2021-10-14T19:21:22.119189",
     "exception": false,
     "start_time": "2021-10-14T19:21:22.090072",
     "status": "completed"
    },
    "tags": []
   },
   "outputs": [
    {
     "name": "stdout",
     "output_type": "stream",
     "text": [
      "   id  Label\n",
      "0   0      7\n",
      "1   1      2\n",
      "2   2      1\n",
      "3   3      0\n",
      "4   4      4\n"
     ]
    }
   ],
   "source": [
    "submit['Label']=test_prediction.cpu().numpy()\n",
    "print(submit.head())"
   ]
  },
  {
   "cell_type": "code",
   "execution_count": 17,
   "id": "49a5dc4a",
   "metadata": {
    "execution": {
     "iopub.execute_input": "2021-10-14T19:21:22.158879Z",
     "iopub.status.busy": "2021-10-14T19:21:22.158347Z",
     "iopub.status.idle": "2021-10-14T19:21:22.182682Z",
     "shell.execute_reply": "2021-10-14T19:21:22.182231Z",
     "shell.execute_reply.started": "2021-10-14T13:02:59.720422Z"
    },
    "papermill": {
     "duration": 0.045695,
     "end_time": "2021-10-14T19:21:22.182780",
     "exception": false,
     "start_time": "2021-10-14T19:21:22.137085",
     "status": "completed"
    },
    "tags": []
   },
   "outputs": [],
   "source": [
    "submit.to_csv('submission.csv',index=False,mode='w')"
   ]
  }
 ],
 "metadata": {
  "kernelspec": {
   "display_name": "Python 3",
   "language": "python",
   "name": "python3"
  },
  "language_info": {
   "codemirror_mode": {
    "name": "ipython",
    "version": 3
   },
   "file_extension": ".py",
   "mimetype": "text/x-python",
   "name": "python",
   "nbconvert_exporter": "python",
   "pygments_lexer": "ipython3",
   "version": "3.7.10"
  },
  "papermill": {
   "default_parameters": {},
   "duration": 68.628648,
   "end_time": "2021-10-14T19:21:23.110367",
   "environment_variables": {},
   "exception": null,
   "input_path": "__notebook__.ipynb",
   "output_path": "__notebook__.ipynb",
   "parameters": {},
   "start_time": "2021-10-14T19:20:14.481719",
   "version": "2.3.3"
  }
 },
 "nbformat": 4,
 "nbformat_minor": 5
}
