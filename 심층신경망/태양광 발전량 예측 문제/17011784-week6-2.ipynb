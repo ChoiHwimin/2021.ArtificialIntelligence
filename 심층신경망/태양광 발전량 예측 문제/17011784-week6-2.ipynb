{
 "cells": [
  {
   "cell_type": "code",
   "execution_count": 1,
   "id": "d7d900ed",
   "metadata": {
    "_cell_guid": "b1076dfc-b9ad-4769-8c92-a6c4dae69d19",
    "_uuid": "8f2839f25d086af736a60e9eeb907d3b93b6e0e5",
    "execution": {
     "iopub.execute_input": "2021-10-09T17:51:10.715128Z",
     "iopub.status.busy": "2021-10-09T17:51:10.713421Z",
     "iopub.status.idle": "2021-10-09T17:51:10.799407Z",
     "shell.execute_reply": "2021-10-09T17:51:10.799893Z",
     "shell.execute_reply.started": "2021-10-09T17:45:52.738755Z"
    },
    "papermill": {
     "duration": 0.105142,
     "end_time": "2021-10-09T17:51:10.800167",
     "exception": false,
     "start_time": "2021-10-09T17:51:10.695025",
     "status": "completed"
    },
    "tags": []
   },
   "outputs": [
    {
     "name": "stdout",
     "output_type": "stream",
     "text": [
      "/kaggle/input/2021-ai-w6-p2/X_test.csv\n",
      "/kaggle/input/2021-ai-w6-p2/train.csv\n",
      "/kaggle/input/2021-ai-w6-p2/sample_submit.csv\n"
     ]
    }
   ],
   "source": [
    "# This Python 3 environment comes with many helpful analytics libraries installed\n",
    "# It is defined by the kaggle/python Docker image: https://github.com/kaggle/docker-python\n",
    "# For example, here's several helpful packages to load\n",
    "\n",
    "import numpy as np # linear algebra\n",
    "import pandas as pd # data processing, CSV file I/O (e.g. pd.read_csv)\n",
    "\n",
    "# Input data files are available in the read-only \"../input/\" directory\n",
    "# For example, running this (by clicking run or pressing Shift+Enter) will list all files under the input directory\n",
    "\n",
    "import os\n",
    "for dirname, _, filenames in os.walk('/kaggle/input'):\n",
    "    for filename in filenames:\n",
    "        print(os.path.join(dirname, filename))\n",
    "\n",
    "# You can write up to 20GB to the current directory (/kaggle/working/) that gets preserved as output when you create a version using \"Save & Run All\" \n",
    "# You can also write temporary files to /kaggle/temp/, but they won't be saved outside of the current session"
   ]
  },
  {
   "cell_type": "code",
   "execution_count": 2,
   "id": "ef9d00bb",
   "metadata": {
    "execution": {
     "iopub.execute_input": "2021-10-09T17:51:10.832377Z",
     "iopub.status.busy": "2021-10-09T17:51:10.831747Z",
     "iopub.status.idle": "2021-10-09T17:51:15.250110Z",
     "shell.execute_reply": "2021-10-09T17:51:15.249607Z",
     "shell.execute_reply.started": "2021-10-09T17:45:52.852870Z"
    },
    "papermill": {
     "duration": 4.435508,
     "end_time": "2021-10-09T17:51:15.250239",
     "exception": false,
     "start_time": "2021-10-09T17:51:10.814731",
     "status": "completed"
    },
    "tags": []
   },
   "outputs": [],
   "source": [
    "import torch\n",
    "import torch.optim as optim"
   ]
  },
  {
   "cell_type": "code",
   "execution_count": 3,
   "id": "e310c4b1",
   "metadata": {
    "execution": {
     "iopub.execute_input": "2021-10-09T17:51:15.316595Z",
     "iopub.status.busy": "2021-10-09T17:51:15.315561Z",
     "iopub.status.idle": "2021-10-09T17:51:15.333744Z",
     "shell.execute_reply": "2021-10-09T17:51:15.333290Z",
     "shell.execute_reply.started": "2021-10-09T17:45:53.528500Z"
    },
    "papermill": {
     "duration": 0.070588,
     "end_time": "2021-10-09T17:51:15.333876",
     "exception": false,
     "start_time": "2021-10-09T17:51:15.263288",
     "status": "completed"
    },
    "tags": []
   },
   "outputs": [
    {
     "data": {
      "text/plain": [
       "<torch._C.Generator at 0x7f14a49df390>"
      ]
     },
     "execution_count": 3,
     "metadata": {},
     "output_type": "execute_result"
    }
   ],
   "source": [
    "device = 'cuda' if torch.cuda.is_available() else 'cpu'\n",
    "torch.manual_seed(1)"
   ]
  },
  {
   "cell_type": "code",
   "execution_count": 4,
   "id": "d7aee2b3",
   "metadata": {
    "execution": {
     "iopub.execute_input": "2021-10-09T17:51:15.363926Z",
     "iopub.status.busy": "2021-10-09T17:51:15.363381Z",
     "iopub.status.idle": "2021-10-09T17:51:15.367414Z",
     "shell.execute_reply": "2021-10-09T17:51:15.366979Z",
     "shell.execute_reply.started": "2021-10-09T17:45:53.575442Z"
    },
    "papermill": {
     "duration": 0.020479,
     "end_time": "2021-10-09T17:51:15.367533",
     "exception": false,
     "start_time": "2021-10-09T17:51:15.347054",
     "status": "completed"
    },
    "tags": []
   },
   "outputs": [],
   "source": [
    "import random\n",
    "random.seed(1)\n",
    "if device == 'cuda':\n",
    "    torch.cuda.manual_seed_all(1)"
   ]
  },
  {
   "cell_type": "code",
   "execution_count": 5,
   "id": "f486da6f",
   "metadata": {
    "execution": {
     "iopub.execute_input": "2021-10-09T17:51:15.398359Z",
     "iopub.status.busy": "2021-10-09T17:51:15.397855Z",
     "iopub.status.idle": "2021-10-09T17:51:15.451694Z",
     "shell.execute_reply": "2021-10-09T17:51:15.452300Z",
     "shell.execute_reply.started": "2021-10-09T17:45:53.585121Z"
    },
    "papermill": {
     "duration": 0.071647,
     "end_time": "2021-10-09T17:51:15.452455",
     "exception": false,
     "start_time": "2021-10-09T17:51:15.380808",
     "status": "completed"
    },
    "tags": []
   },
   "outputs": [
    {
     "name": "stdout",
     "output_type": "stream",
     "text": [
      "(9999, 9)\n",
      "(2481, 9)\n",
      "(2481, 2)\n"
     ]
    }
   ],
   "source": [
    "train_data=pd.read_csv(\"/kaggle/input/2021-ai-w6-p2/train.csv\")\n",
    "test_data=pd.read_csv(\"/kaggle/input/2021-ai-w6-p2/X_test.csv\")\n",
    "submit_data=pd.read_csv(\"/kaggle/input/2021-ai-w6-p2/sample_submit.csv\")\n",
    "print(train_data.shape)\n",
    "print(test_data.shape)\n",
    "print(submit_data.shape)"
   ]
  },
  {
   "cell_type": "code",
   "execution_count": 6,
   "id": "a802b8da",
   "metadata": {
    "execution": {
     "iopub.execute_input": "2021-10-09T17:51:15.484808Z",
     "iopub.status.busy": "2021-10-09T17:51:15.483986Z",
     "iopub.status.idle": "2021-10-09T17:51:15.496981Z",
     "shell.execute_reply": "2021-10-09T17:51:15.496401Z",
     "shell.execute_reply.started": "2021-10-09T17:45:53.625263Z"
    },
    "papermill": {
     "duration": 0.030698,
     "end_time": "2021-10-09T17:51:15.497120",
     "exception": false,
     "start_time": "2021-10-09T17:51:15.466422",
     "status": "completed"
    },
    "tags": []
   },
   "outputs": [
    {
     "name": "stdout",
     "output_type": "stream",
     "text": [
      "Day        208.000000\n",
      "Hour        23.000000\n",
      "Minute      30.000000\n",
      "DHI        528.000000\n",
      "DNI       1059.000000\n",
      "WS           8.000000\n",
      "RH         100.000000\n",
      "T           33.000000\n",
      "TARGET      97.849989\n",
      "dtype: float64\n",
      "ID        2480.00\n",
      "Day       1094.00\n",
      "Hour        23.00\n",
      "Minute      30.00\n",
      "DHI        242.00\n",
      "DNI       1023.00\n",
      "WS           8.00\n",
      "RH          96.09\n",
      "T           20.00\n",
      "dtype: float64\n",
      "Day        0.00\n",
      "Hour       0.00\n",
      "Minute     0.00\n",
      "DHI        0.00\n",
      "DNI        0.00\n",
      "WS         0.10\n",
      "RH        13.42\n",
      "T        -14.00\n",
      "TARGET     0.00\n",
      "dtype: float64\n",
      "ID           0.00\n",
      "Day       1043.00\n",
      "Hour         0.00\n",
      "Minute       0.00\n",
      "DHI          0.00\n",
      "DNI          0.00\n",
      "WS           0.00\n",
      "RH          15.22\n",
      "T          -11.00\n",
      "dtype: float64\n"
     ]
    }
   ],
   "source": [
    "print(train_data.max())\n",
    "print(test_data.max())\n",
    "print(train_data.min())\n",
    "print(test_data.min())"
   ]
  },
  {
   "cell_type": "code",
   "execution_count": 7,
   "id": "ca5796f2",
   "metadata": {
    "execution": {
     "iopub.execute_input": "2021-10-09T17:51:15.534185Z",
     "iopub.status.busy": "2021-10-09T17:51:15.533674Z",
     "iopub.status.idle": "2021-10-09T17:51:20.759987Z",
     "shell.execute_reply": "2021-10-09T17:51:20.760632Z",
     "shell.execute_reply.started": "2021-10-09T17:45:53.647746Z"
    },
    "papermill": {
     "duration": 5.248566,
     "end_time": "2021-10-09T17:51:20.760790",
     "exception": false,
     "start_time": "2021-10-09T17:51:15.512224",
     "status": "completed"
    },
    "tags": []
   },
   "outputs": [
    {
     "name": "stdout",
     "output_type": "stream",
     "text": [
      "tensor([[  0.0000,   0.0000,   0.0000,  ...,   1.5000,  69.0800, -12.0000],\n",
      "        [  0.0000,   0.0000,  30.0000,  ...,   1.5000,  69.0600, -12.0000],\n",
      "        [  0.0000,   1.0000,   0.0000,  ...,   1.6000,  71.7800, -12.0000],\n",
      "        ...,\n",
      "        [208.0000,   6.0000,   0.0000,  ...,   1.1000,  47.4600,  15.0000],\n",
      "        [208.0000,   6.0000,  30.0000,  ...,   1.4000,  44.5100,  17.0000],\n",
      "        [208.0000,   7.0000,   0.0000,  ...,   1.7000,  37.8000,  19.0000]],\n",
      "       device='cuda:0')\n",
      "tensor([ 0.0000,  0.0000,  0.0000,  ..., 13.8872, 23.2699, 33.0276],\n",
      "       device='cuda:0')\n"
     ]
    }
   ],
   "source": [
    "xtrain=torch.FloatTensor(train_data.iloc[:, :-1].values).to(device)\n",
    "ytrain=torch.FloatTensor(train_data['TARGET'].values).to(device)\n",
    "print(xtrain)\n",
    "print(ytrain)"
   ]
  },
  {
   "cell_type": "code",
   "execution_count": 8,
   "id": "0e2f732d",
   "metadata": {
    "execution": {
     "iopub.execute_input": "2021-10-09T17:51:20.795212Z",
     "iopub.status.busy": "2021-10-09T17:51:20.794001Z",
     "iopub.status.idle": "2021-10-09T17:51:21.429640Z",
     "shell.execute_reply": "2021-10-09T17:51:21.430223Z",
     "shell.execute_reply.started": "2021-10-09T17:45:56.738032Z"
    },
    "papermill": {
     "duration": 0.65515,
     "end_time": "2021-10-09T17:51:21.430416",
     "exception": false,
     "start_time": "2021-10-09T17:51:20.775266",
     "status": "completed"
    },
    "tags": []
   },
   "outputs": [
    {
     "name": "stdout",
     "output_type": "stream",
     "text": [
      "tensor([[-1.7237, -1.6589, -0.9999,  ..., -0.6411,  0.2243, -2.1140],\n",
      "        [-1.7237, -1.6589,  1.0001,  ..., -0.6411,  0.2234, -2.1140],\n",
      "        [-1.7237, -1.5145, -0.9999,  ..., -0.5616,  0.3471, -2.1140],\n",
      "        ...,\n",
      "        [ 1.7352, -0.7925, -0.9999,  ..., -0.9593, -0.7593,  0.7033],\n",
      "        [ 1.7352, -0.7925,  1.0001,  ..., -0.7207, -0.8935,  0.9120],\n",
      "        [ 1.7352, -0.6481, -0.9999,  ..., -0.4820, -1.1987,  1.1207]],\n",
      "       device='cuda:0')\n"
     ]
    }
   ],
   "source": [
    "from sklearn.preprocessing import StandardScaler\n",
    "scaler=StandardScaler()\n",
    "scaler.fit(xtrain.cpu())\n",
    "xtrain2=scaler.transform(xtrain.cpu())\n",
    "xtrain2=torch.FloatTensor(xtrain2).to(device)\n",
    "print(xtrain2)"
   ]
  },
  {
   "cell_type": "code",
   "execution_count": 9,
   "id": "00c93179",
   "metadata": {
    "execution": {
     "iopub.execute_input": "2021-10-09T17:51:21.464951Z",
     "iopub.status.busy": "2021-10-09T17:51:21.464238Z",
     "iopub.status.idle": "2021-10-09T17:51:21.466361Z",
     "shell.execute_reply": "2021-10-09T17:51:21.466809Z",
     "shell.execute_reply.started": "2021-10-09T17:45:57.060899Z"
    },
    "papermill": {
     "duration": 0.020723,
     "end_time": "2021-10-09T17:51:21.466930",
     "exception": false,
     "start_time": "2021-10-09T17:51:21.446207",
     "status": "completed"
    },
    "tags": []
   },
   "outputs": [],
   "source": [
    "# print(xtrain2)"
   ]
  },
  {
   "cell_type": "code",
   "execution_count": 10,
   "id": "4eb3be67",
   "metadata": {
    "execution": {
     "iopub.execute_input": "2021-10-09T17:51:21.499968Z",
     "iopub.status.busy": "2021-10-09T17:51:21.499321Z",
     "iopub.status.idle": "2021-10-09T17:51:21.505688Z",
     "shell.execute_reply": "2021-10-09T17:51:21.505240Z",
     "shell.execute_reply.started": "2021-10-09T17:45:57.069892Z"
    },
    "papermill": {
     "duration": 0.024771,
     "end_time": "2021-10-09T17:51:21.505792",
     "exception": false,
     "start_time": "2021-10-09T17:51:21.481021",
     "status": "completed"
    },
    "tags": []
   },
   "outputs": [],
   "source": [
    "linear1=torch.nn.Linear(8,16, bias=True)\n",
    "linear2=torch.nn.Linear(16,16, bias=True)\n",
    "linear3=torch.nn.Linear(16,8, bias=True)\n",
    "linear4=torch.nn.Linear(8,1, bias=True)\n",
    "sigmoid=torch.nn.Sigmoid()"
   ]
  },
  {
   "cell_type": "code",
   "execution_count": 11,
   "id": "6c874993",
   "metadata": {
    "execution": {
     "iopub.execute_input": "2021-10-09T17:51:21.538424Z",
     "iopub.status.busy": "2021-10-09T17:51:21.537942Z",
     "iopub.status.idle": "2021-10-09T17:51:21.543819Z",
     "shell.execute_reply": "2021-10-09T17:51:21.544244Z",
     "shell.execute_reply.started": "2021-10-09T17:45:57.083216Z"
    },
    "papermill": {
     "duration": 0.024043,
     "end_time": "2021-10-09T17:51:21.544354",
     "exception": false,
     "start_time": "2021-10-09T17:51:21.520311",
     "status": "completed"
    },
    "tags": []
   },
   "outputs": [
    {
     "data": {
      "text/plain": [
       "Sequential(\n",
       "  (0): Linear(in_features=8, out_features=16, bias=True)\n",
       "  (1): Sigmoid()\n",
       "  (2): Linear(in_features=16, out_features=16, bias=True)\n",
       "  (3): Sigmoid()\n",
       "  (4): Linear(in_features=16, out_features=8, bias=True)\n",
       "  (5): Sigmoid()\n",
       "  (6): Linear(in_features=8, out_features=1, bias=True)\n",
       ")"
      ]
     },
     "execution_count": 11,
     "metadata": {},
     "output_type": "execute_result"
    }
   ],
   "source": [
    "model=torch.nn.Sequential(linear1,sigmoid,linear2,sigmoid,linear3,sigmoid,linear4).to(device)\n",
    "model"
   ]
  },
  {
   "cell_type": "code",
   "execution_count": 12,
   "id": "d174166e",
   "metadata": {
    "execution": {
     "iopub.execute_input": "2021-10-09T17:51:21.578387Z",
     "iopub.status.busy": "2021-10-09T17:51:21.577598Z",
     "iopub.status.idle": "2021-10-09T17:51:21.586149Z",
     "shell.execute_reply": "2021-10-09T17:51:21.586856Z",
     "shell.execute_reply.started": "2021-10-09T17:45:57.103111Z"
    },
    "papermill": {
     "duration": 0.028032,
     "end_time": "2021-10-09T17:51:21.587026",
     "exception": false,
     "start_time": "2021-10-09T17:51:21.558994",
     "status": "completed"
    },
    "tags": []
   },
   "outputs": [
    {
     "name": "stdout",
     "output_type": "stream",
     "text": [
      "tensor([[-1.7237, -1.6589, -0.9999,  ..., -0.6411,  0.2243, -2.1140],\n",
      "        [-1.7237, -1.6589,  1.0001,  ..., -0.6411,  0.2234, -2.1140],\n",
      "        [-1.7237, -1.5145, -0.9999,  ..., -0.5616,  0.3471, -2.1140],\n",
      "        ...,\n",
      "        [ 1.7352, -0.7925, -0.9999,  ..., -0.9593, -0.7593,  0.7033],\n",
      "        [ 1.7352, -0.7925,  1.0001,  ..., -0.7207, -0.8935,  0.9120],\n",
      "        [ 1.7352, -0.6481, -0.9999,  ..., -0.4820, -1.1987,  1.1207]],\n",
      "       device='cuda:0')\n",
      "tensor([[ 0.0000],\n",
      "        [ 0.0000],\n",
      "        [ 0.0000],\n",
      "        ...,\n",
      "        [13.8872],\n",
      "        [23.2699],\n",
      "        [33.0276]], device='cuda:0')\n"
     ]
    }
   ],
   "source": [
    "print(xtrain2)\n",
    "ytrain2=ytrain.unsqueeze(1)\n",
    "print(ytrain2)"
   ]
  },
  {
   "cell_type": "code",
   "execution_count": 13,
   "id": "66aa9812",
   "metadata": {
    "execution": {
     "iopub.execute_input": "2021-10-09T17:51:21.624109Z",
     "iopub.status.busy": "2021-10-09T17:51:21.619293Z",
     "iopub.status.idle": "2021-10-09T17:51:36.013716Z",
     "shell.execute_reply": "2021-10-09T17:51:36.014287Z",
     "shell.execute_reply.started": "2021-10-09T17:45:57.124487Z"
    },
    "papermill": {
     "duration": 14.411843,
     "end_time": "2021-10-09T17:51:36.014480",
     "exception": false,
     "start_time": "2021-10-09T17:51:21.602637",
     "status": "completed"
    },
    "tags": []
   },
   "outputs": [
    {
     "name": "stdout",
     "output_type": "stream",
     "text": [
      "epoch 0 , cost 1035.615966797\n",
      "epoch 1000 , cost 6.998241901\n",
      "epoch 2000 , cost 3.113094091\n",
      "epoch 3000 , cost 1.789397717\n",
      "epoch 4000 , cost 1.256005526\n",
      "epoch 5000 , cost 0.986514866\n",
      "epoch 6000 , cost 0.819902003\n",
      "epoch 7000 , cost 0.706208110\n",
      "epoch 8000 , cost 0.625753343\n",
      "epoch 9000 , cost 0.566712141\n",
      "epoch 10000 , cost 0.521335125\n"
     ]
    }
   ],
   "source": [
    "loss=torch.nn.MSELoss().to(device)\n",
    "optimizer=optim.SGD(model.parameters(),lr=1e-2)\n",
    "\n",
    "epochs=10000\n",
    "\n",
    "for epoch in range(epochs+1):\n",
    "    optimizer.zero_grad()\n",
    "    hypothesis=model(xtrain2)\n",
    "    cost=loss(hypothesis, ytrain2)\n",
    "    cost.backward()\n",
    "    optimizer.step()\n",
    "    if epoch%1000==0:\n",
    "        print('epoch {} , cost {:.9f}'.format(epoch,cost.item()))"
   ]
  },
  {
   "cell_type": "code",
   "execution_count": 14,
   "id": "691c8ba8",
   "metadata": {
    "execution": {
     "iopub.execute_input": "2021-10-09T17:51:36.056254Z",
     "iopub.status.busy": "2021-10-09T17:51:36.055342Z",
     "iopub.status.idle": "2021-10-09T17:51:36.062112Z",
     "shell.execute_reply": "2021-10-09T17:51:36.062756Z",
     "shell.execute_reply.started": "2021-10-09T17:46:19.951571Z"
    },
    "papermill": {
     "duration": 0.02961,
     "end_time": "2021-10-09T17:51:36.062938",
     "exception": false,
     "start_time": "2021-10-09T17:51:36.033328",
     "status": "completed"
    },
    "tags": []
   },
   "outputs": [
    {
     "name": "stdout",
     "output_type": "stream",
     "text": [
      "tensor([[ 0.3739],\n",
      "        [ 0.3635],\n",
      "        [ 0.3391],\n",
      "        ...,\n",
      "        [14.7681],\n",
      "        [25.0837],\n",
      "        [35.1383]], device='cuda:0', grad_fn=<AddmmBackward>)\n",
      "tensor([[ 0.0000],\n",
      "        [ 0.0000],\n",
      "        [ 0.0000],\n",
      "        ...,\n",
      "        [13.8872],\n",
      "        [23.2699],\n",
      "        [33.0276]], device='cuda:0')\n"
     ]
    }
   ],
   "source": [
    "hypothesis=model(xtrain2)\n",
    "print(hypothesis)\n",
    "print(ytrain2)"
   ]
  },
  {
   "cell_type": "code",
   "execution_count": 15,
   "id": "e82b6469",
   "metadata": {
    "execution": {
     "iopub.execute_input": "2021-10-09T17:51:36.106460Z",
     "iopub.status.busy": "2021-10-09T17:51:36.105970Z",
     "iopub.status.idle": "2021-10-09T17:51:36.121693Z",
     "shell.execute_reply": "2021-10-09T17:51:36.120451Z",
     "shell.execute_reply.started": "2021-10-09T17:46:19.968015Z"
    },
    "papermill": {
     "duration": 0.040413,
     "end_time": "2021-10-09T17:51:36.121855",
     "exception": false,
     "start_time": "2021-10-09T17:51:36.081442",
     "status": "completed"
    },
    "tags": []
   },
   "outputs": [
    {
     "name": "stdout",
     "output_type": "stream",
     "text": [
      "       Day  Hour  Minute  DHI  DNI   WS     RH   T\n",
      "0     1043     7      30   34  584  2.0  63.02   3\n",
      "1     1043     8       0   45  730  2.3  61.54   5\n",
      "2     1043     8      30   52  817  2.4  57.34   6\n",
      "3     1043     9       0   57  878  2.6  52.46   8\n",
      "4     1043     9      30   61  917  2.2  45.74  10\n",
      "...    ...   ...     ...  ...  ...  ...    ...  ..\n",
      "2476  1094    21      30    0    0  2.4  70.70  -4\n",
      "2477  1094    22       0    0    0  2.4  66.79  -4\n",
      "2478  1094    22      30    0    0  2.2  66.78  -4\n",
      "2479  1094    23       0    0    0  2.1  67.72  -4\n",
      "2480  1094    23      30    0    0  2.1  67.70  -4\n",
      "\n",
      "[2481 rows x 8 columns]\n",
      "tensor([[ 1.5621e+01, -6.4805e-01,  1.0001e+00,  ..., -2.4337e-01,\n",
      "         -5.1398e-02, -5.4879e-01],\n",
      "        [ 1.5621e+01, -5.0364e-01, -9.9990e-01,  ..., -4.7257e-03,\n",
      "         -1.1873e-01, -3.4010e-01],\n",
      "        [ 1.5621e+01, -5.0364e-01,  1.0001e+00,  ...,  7.4823e-02,\n",
      "         -3.0980e-01, -2.3576e-01],\n",
      "        ...,\n",
      "        [ 1.6469e+01,  1.5181e+00,  1.0001e+00,  ..., -8.4275e-02,\n",
      "          1.1966e-01, -1.2792e+00],\n",
      "        [ 1.6469e+01,  1.6625e+00, -9.9990e-01,  ..., -1.6382e-01,\n",
      "          1.6242e-01, -1.2792e+00],\n",
      "        [ 1.6469e+01,  1.6625e+00,  1.0001e+00,  ..., -1.6382e-01,\n",
      "          1.6151e-01, -1.2792e+00]], device='cuda:0')\n"
     ]
    }
   ],
   "source": [
    "print(test_data.iloc[:, 1:])\n",
    "tdata=torch.FloatTensor(scaler.transform(test_data.iloc[:, 1:].values)).to(device)\n",
    "print(tdata)"
   ]
  },
  {
   "cell_type": "code",
   "execution_count": 16,
   "id": "270311d0",
   "metadata": {
    "execution": {
     "iopub.execute_input": "2021-10-09T17:51:36.165188Z",
     "iopub.status.busy": "2021-10-09T17:51:36.164361Z",
     "iopub.status.idle": "2021-10-09T17:51:36.170495Z",
     "shell.execute_reply": "2021-10-09T17:51:36.171056Z",
     "shell.execute_reply.started": "2021-10-09T17:47:45.893633Z"
    },
    "papermill": {
     "duration": 0.02951,
     "end_time": "2021-10-09T17:51:36.171231",
     "exception": false,
     "start_time": "2021-10-09T17:51:36.141721",
     "status": "completed"
    },
    "tags": []
   },
   "outputs": [
    {
     "name": "stdout",
     "output_type": "stream",
     "text": [
      "tensor([[22.4530],\n",
      "        [27.4821],\n",
      "        [31.3280],\n",
      "        ...,\n",
      "        [ 5.8268],\n",
      "        [ 5.8494],\n",
      "        [ 5.8262]], device='cuda:0', grad_fn=<AddmmBackward>)\n"
     ]
    }
   ],
   "source": [
    "hypothesis=model(tdata)\n",
    "print(hypothesis)"
   ]
  },
  {
   "cell_type": "code",
   "execution_count": 17,
   "id": "c4e4336c",
   "metadata": {
    "execution": {
     "iopub.execute_input": "2021-10-09T17:51:36.216472Z",
     "iopub.status.busy": "2021-10-09T17:51:36.212400Z",
     "iopub.status.idle": "2021-10-09T17:51:36.219456Z",
     "shell.execute_reply": "2021-10-09T17:51:36.219878Z",
     "shell.execute_reply.started": "2021-10-09T17:49:41.685425Z"
    },
    "papermill": {
     "duration": 0.029811,
     "end_time": "2021-10-09T17:51:36.220002",
     "exception": false,
     "start_time": "2021-10-09T17:51:36.190191",
     "status": "completed"
    },
    "tags": []
   },
   "outputs": [
    {
     "name": "stdout",
     "output_type": "stream",
     "text": [
      "        ID     TARGET\n",
      "0        0  22.453024\n",
      "1        1  27.482071\n",
      "2        2  31.327969\n",
      "3        3  33.733025\n",
      "4        4  36.328392\n",
      "...    ...        ...\n",
      "2476  2476   5.924610\n",
      "2477  2477   5.879372\n",
      "2478  2478   5.826769\n",
      "2479  2479   5.849434\n",
      "2480  2480   5.826155\n",
      "\n",
      "[2481 rows x 2 columns]\n"
     ]
    }
   ],
   "source": [
    "submit_data['TARGET']=hypothesis.cpu().detach().numpy()\n",
    "print(submit_data)"
   ]
  },
  {
   "cell_type": "code",
   "execution_count": 18,
   "id": "c2b33efd",
   "metadata": {
    "execution": {
     "iopub.execute_input": "2021-10-09T17:51:36.262374Z",
     "iopub.status.busy": "2021-10-09T17:51:36.261717Z",
     "iopub.status.idle": "2021-10-09T17:51:36.273838Z",
     "shell.execute_reply": "2021-10-09T17:51:36.273387Z",
     "shell.execute_reply.started": "2021-10-09T17:50:37.018708Z"
    },
    "papermill": {
     "duration": 0.034332,
     "end_time": "2021-10-09T17:51:36.273944",
     "exception": false,
     "start_time": "2021-10-09T17:51:36.239612",
     "status": "completed"
    },
    "tags": []
   },
   "outputs": [],
   "source": [
    "submit_data.to_csv('submission.csv',index=False,mode='w')"
   ]
  }
 ],
 "metadata": {
  "kernelspec": {
   "display_name": "Python 3",
   "language": "python",
   "name": "python3"
  },
  "language_info": {
   "codemirror_mode": {
    "name": "ipython",
    "version": 3
   },
   "file_extension": ".py",
   "mimetype": "text/x-python",
   "name": "python",
   "nbconvert_exporter": "python",
   "pygments_lexer": "ipython3",
   "version": "3.7.10"
  },
  "papermill": {
   "default_parameters": {},
   "duration": 33.646212,
   "end_time": "2021-10-09T17:51:37.529936",
   "environment_variables": {},
   "exception": null,
   "input_path": "__notebook__.ipynb",
   "output_path": "__notebook__.ipynb",
   "parameters": {},
   "start_time": "2021-10-09T17:51:03.883724",
   "version": "2.3.3"
  }
 },
 "nbformat": 4,
 "nbformat_minor": 5
}
