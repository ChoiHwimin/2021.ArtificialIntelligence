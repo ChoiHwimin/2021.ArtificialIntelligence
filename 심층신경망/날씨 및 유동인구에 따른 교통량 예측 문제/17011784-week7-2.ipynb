{
 "cells": [
  {
   "cell_type": "code",
   "execution_count": 1,
   "id": "8755ae51",
   "metadata": {
    "_cell_guid": "b1076dfc-b9ad-4769-8c92-a6c4dae69d19",
    "_uuid": "8f2839f25d086af736a60e9eeb907d3b93b6e0e5",
    "execution": {
     "iopub.execute_input": "2021-10-14T19:16:04.210635Z",
     "iopub.status.busy": "2021-10-14T19:16:04.208265Z",
     "iopub.status.idle": "2021-10-14T19:16:04.213999Z",
     "shell.execute_reply": "2021-10-14T19:16:04.214674Z",
     "shell.execute_reply.started": "2021-10-14T18:59:57.718769Z"
    },
    "papermill": {
     "duration": 0.104932,
     "end_time": "2021-10-14T19:16:04.215124",
     "exception": false,
     "start_time": "2021-10-14T19:16:04.110192",
     "status": "completed"
    },
    "tags": []
   },
   "outputs": [
    {
     "name": "stdout",
     "output_type": "stream",
     "text": [
      "/kaggle/input/2021-ai-w7-p2/sample_submission.csv\n",
      "/kaggle/input/2021-ai-w7-p2/x_test.csv\n",
      "/kaggle/input/2021-ai-w7-p2/y_train.csv\n",
      "/kaggle/input/2021-ai-w7-p2/x_train.csv\n"
     ]
    }
   ],
   "source": [
    "# This Python 3 environment comes with many helpful analytics libraries installed\n",
    "# It is defined by the kaggle/python Docker image: https://github.com/kaggle/docker-python\n",
    "# For example, here's several helpful packages to load\n",
    "\n",
    "import numpy as np # linear algebra\n",
    "import pandas as pd # data processing, CSV file I/O (e.g. pd.read_csv)\n",
    "\n",
    "# Input data files are available in the read-only \"../input/\" directory\n",
    "# For example, running this (by clicking run or pressing Shift+Enter) will list all files under the input directory\n",
    "\n",
    "import os\n",
    "for dirname, _, filenames in os.walk('/kaggle/input'):\n",
    "    for filename in filenames:\n",
    "        print(os.path.join(dirname, filename))\n",
    "\n",
    "# You can write up to 20GB to the current directory (/kaggle/working/) that gets preserved as output when you create a version using \"Save & Run All\" \n",
    "# You can also write temporary files to /kaggle/temp/, but they won't be saved outside of the current session"
   ]
  },
  {
   "cell_type": "code",
   "execution_count": 2,
   "id": "8ed3f851",
   "metadata": {
    "execution": {
     "iopub.execute_input": "2021-10-14T19:16:04.249665Z",
     "iopub.status.busy": "2021-10-14T19:16:04.249002Z",
     "iopub.status.idle": "2021-10-14T19:16:08.771377Z",
     "shell.execute_reply": "2021-10-14T19:16:08.770852Z",
     "shell.execute_reply.started": "2021-10-14T18:59:57.830411Z"
    },
    "papermill": {
     "duration": 4.540216,
     "end_time": "2021-10-14T19:16:08.771518",
     "exception": false,
     "start_time": "2021-10-14T19:16:04.231302",
     "status": "completed"
    },
    "tags": []
   },
   "outputs": [],
   "source": [
    "import torch\n",
    "import random"
   ]
  },
  {
   "cell_type": "code",
   "execution_count": 3,
   "id": "b5e8cccd",
   "metadata": {
    "execution": {
     "iopub.execute_input": "2021-10-14T19:16:08.844082Z",
     "iopub.status.busy": "2021-10-14T19:16:08.843288Z",
     "iopub.status.idle": "2021-10-14T19:16:08.853773Z",
     "shell.execute_reply": "2021-10-14T19:16:08.853330Z",
     "shell.execute_reply.started": "2021-10-14T19:00:02.185798Z"
    },
    "papermill": {
     "duration": 0.06776,
     "end_time": "2021-10-14T19:16:08.853886",
     "exception": false,
     "start_time": "2021-10-14T19:16:08.786126",
     "status": "completed"
    },
    "tags": []
   },
   "outputs": [],
   "source": [
    "device='cuda' if torch.cuda.is_available() else 'cpu'\n",
    "torch.manual_seed(777)\n",
    "random.seed(777)\n",
    "if device == 'cuda': torch.cuda.manual_seed_all(777)"
   ]
  },
  {
   "cell_type": "code",
   "execution_count": 4,
   "id": "c281b011",
   "metadata": {
    "execution": {
     "iopub.execute_input": "2021-10-14T19:16:08.886508Z",
     "iopub.status.busy": "2021-10-14T19:16:08.885969Z",
     "iopub.status.idle": "2021-10-14T19:16:08.889236Z",
     "shell.execute_reply": "2021-10-14T19:16:08.888779Z",
     "shell.execute_reply.started": "2021-10-14T19:00:02.251651Z"
    },
    "papermill": {
     "duration": 0.021026,
     "end_time": "2021-10-14T19:16:08.889347",
     "exception": false,
     "start_time": "2021-10-14T19:16:08.868321",
     "status": "completed"
    },
    "tags": []
   },
   "outputs": [],
   "source": [
    "LR=0.001\n",
    "epochs=35\n",
    "BS=126\n",
    "drop=0.3"
   ]
  },
  {
   "cell_type": "code",
   "execution_count": 5,
   "id": "f745fb3d",
   "metadata": {
    "execution": {
     "iopub.execute_input": "2021-10-14T19:16:08.923616Z",
     "iopub.status.busy": "2021-10-14T19:16:08.922905Z",
     "iopub.status.idle": "2021-10-14T19:16:09.636677Z",
     "shell.execute_reply": "2021-10-14T19:16:09.636238Z",
     "shell.execute_reply.started": "2021-10-14T19:00:02.260543Z"
    },
    "papermill": {
     "duration": 0.732997,
     "end_time": "2021-10-14T19:16:09.636801",
     "exception": false,
     "start_time": "2021-10-14T19:16:08.903804",
     "status": "completed"
    },
    "tags": []
   },
   "outputs": [
    {
     "name": "stdout",
     "output_type": "stream",
     "text": [
      "(21486, 14)\n",
      "   id  predict\n",
      "0   0        0\n",
      "1   1        0\n",
      "2   2        0\n",
      "3   3        0\n",
      "4   4        0\n"
     ]
    }
   ],
   "source": [
    "xtrain=pd.read_csv('/kaggle/input/2021-ai-w7-p2/x_train.csv',engine='python',encoding='CP949')\n",
    "ytrain=pd.read_csv('/kaggle/input/2021-ai-w7-p2/y_train.csv',engine='python',encoding='CP949')\n",
    "test=pd.read_csv('/kaggle/input/2021-ai-w7-p2/x_test.csv',engine='python',encoding='CP949')\n",
    "submit=pd.read_csv('/kaggle/input/2021-ai-w7-p2/sample_submission.csv',engine='python',encoding='CP949')\n",
    "print(xtrain.shape)\n",
    "print(submit.head())"
   ]
  },
  {
   "cell_type": "code",
   "execution_count": 6,
   "id": "fbcab23b",
   "metadata": {
    "execution": {
     "iopub.execute_input": "2021-10-14T19:16:09.683217Z",
     "iopub.status.busy": "2021-10-14T19:16:09.682255Z",
     "iopub.status.idle": "2021-10-14T19:16:09.697506Z",
     "shell.execute_reply": "2021-10-14T19:16:09.697904Z",
     "shell.execute_reply.started": "2021-10-14T19:00:02.970952Z"
    },
    "papermill": {
     "duration": 0.045202,
     "end_time": "2021-10-14T19:16:09.698044",
     "exception": false,
     "start_time": "2021-10-14T19:16:09.652842",
     "status": "completed"
    },
    "tags": []
   },
   "outputs": [
    {
     "data": {
      "text/html": [
       "<div>\n",
       "<style scoped>\n",
       "    .dataframe tbody tr th:only-of-type {\n",
       "        vertical-align: middle;\n",
       "    }\n",
       "\n",
       "    .dataframe tbody tr th {\n",
       "        vertical-align: top;\n",
       "    }\n",
       "\n",
       "    .dataframe thead th {\n",
       "        text-align: right;\n",
       "    }\n",
       "</style>\n",
       "<table border=\"1\" class=\"dataframe\">\n",
       "  <thead>\n",
       "    <tr style=\"text-align: right;\">\n",
       "      <th></th>\n",
       "      <th>시도명</th>\n",
       "      <th>읍면동명</th>\n",
       "      <th>거주인구</th>\n",
       "      <th>근무인구</th>\n",
       "      <th>방문인구</th>\n",
       "      <th>총 유동인구</th>\n",
       "      <th>평균 속도</th>\n",
       "      <th>평균 소요 시간</th>\n",
       "      <th>평균 기온</th>\n",
       "      <th>일강수량</th>\n",
       "      <th>평균 풍속</th>\n",
       "      <th>월</th>\n",
       "      <th>일</th>\n",
       "      <th>년</th>\n",
       "    </tr>\n",
       "  </thead>\n",
       "  <tbody>\n",
       "    <tr>\n",
       "      <th>0</th>\n",
       "      <td>0</td>\n",
       "      <td>26</td>\n",
       "      <td>76018.965</td>\n",
       "      <td>5009.811</td>\n",
       "      <td>36887.341</td>\n",
       "      <td>117916.117</td>\n",
       "      <td>40.467</td>\n",
       "      <td>21.667</td>\n",
       "      <td>17.750</td>\n",
       "      <td>0.000</td>\n",
       "      <td>2.725</td>\n",
       "      <td>9</td>\n",
       "      <td>25</td>\n",
       "      <td>2019</td>\n",
       "    </tr>\n",
       "    <tr>\n",
       "      <th>1</th>\n",
       "      <td>1</td>\n",
       "      <td>24</td>\n",
       "      <td>1232416.968</td>\n",
       "      <td>76043.955</td>\n",
       "      <td>451558.268</td>\n",
       "      <td>1760019.191</td>\n",
       "      <td>38.126</td>\n",
       "      <td>31.632</td>\n",
       "      <td>13.300</td>\n",
       "      <td>14.500</td>\n",
       "      <td>4.500</td>\n",
       "      <td>3</td>\n",
       "      <td>4</td>\n",
       "      <td>2018</td>\n",
       "    </tr>\n",
       "    <tr>\n",
       "      <th>2</th>\n",
       "      <td>1</td>\n",
       "      <td>23</td>\n",
       "      <td>134260.946</td>\n",
       "      <td>8412.761</td>\n",
       "      <td>78177.981</td>\n",
       "      <td>220851.688</td>\n",
       "      <td>51.107</td>\n",
       "      <td>45.643</td>\n",
       "      <td>5.250</td>\n",
       "      <td>0.500</td>\n",
       "      <td>4.950</td>\n",
       "      <td>4</td>\n",
       "      <td>7</td>\n",
       "      <td>2018</td>\n",
       "    </tr>\n",
       "    <tr>\n",
       "      <th>3</th>\n",
       "      <td>1</td>\n",
       "      <td>25</td>\n",
       "      <td>289327.429</td>\n",
       "      <td>39102.424</td>\n",
       "      <td>287029.303</td>\n",
       "      <td>615459.156</td>\n",
       "      <td>33.067</td>\n",
       "      <td>48.000</td>\n",
       "      <td>26.300</td>\n",
       "      <td>0.500</td>\n",
       "      <td>1.500</td>\n",
       "      <td>8</td>\n",
       "      <td>14</td>\n",
       "      <td>2019</td>\n",
       "    </tr>\n",
       "    <tr>\n",
       "      <th>4</th>\n",
       "      <td>1</td>\n",
       "      <td>7</td>\n",
       "      <td>1116617.660</td>\n",
       "      <td>96560.651</td>\n",
       "      <td>524905.301</td>\n",
       "      <td>1738083.612</td>\n",
       "      <td>40.392</td>\n",
       "      <td>26.961</td>\n",
       "      <td>8.400</td>\n",
       "      <td>44.000</td>\n",
       "      <td>4.300</td>\n",
       "      <td>12</td>\n",
       "      <td>1</td>\n",
       "      <td>2019</td>\n",
       "    </tr>\n",
       "    <tr>\n",
       "      <th>...</th>\n",
       "      <td>...</td>\n",
       "      <td>...</td>\n",
       "      <td>...</td>\n",
       "      <td>...</td>\n",
       "      <td>...</td>\n",
       "      <td>...</td>\n",
       "      <td>...</td>\n",
       "      <td>...</td>\n",
       "      <td>...</td>\n",
       "      <td>...</td>\n",
       "      <td>...</td>\n",
       "      <td>...</td>\n",
       "      <td>...</td>\n",
       "      <td>...</td>\n",
       "    </tr>\n",
       "    <tr>\n",
       "      <th>21481</th>\n",
       "      <td>0</td>\n",
       "      <td>6</td>\n",
       "      <td>91977.598</td>\n",
       "      <td>14802.819</td>\n",
       "      <td>79885.446</td>\n",
       "      <td>186665.863</td>\n",
       "      <td>41.676</td>\n",
       "      <td>21.676</td>\n",
       "      <td>6.400</td>\n",
       "      <td>0.000</td>\n",
       "      <td>1.600</td>\n",
       "      <td>3</td>\n",
       "      <td>5</td>\n",
       "      <td>2020</td>\n",
       "    </tr>\n",
       "    <tr>\n",
       "      <th>21482</th>\n",
       "      <td>0</td>\n",
       "      <td>9</td>\n",
       "      <td>63673.610</td>\n",
       "      <td>3725.663</td>\n",
       "      <td>65813.385</td>\n",
       "      <td>133212.658</td>\n",
       "      <td>48.737</td>\n",
       "      <td>26.105</td>\n",
       "      <td>18.300</td>\n",
       "      <td>7.000</td>\n",
       "      <td>3.700</td>\n",
       "      <td>5</td>\n",
       "      <td>26</td>\n",
       "      <td>2018</td>\n",
       "    </tr>\n",
       "    <tr>\n",
       "      <th>21483</th>\n",
       "      <td>1</td>\n",
       "      <td>3</td>\n",
       "      <td>406035.642</td>\n",
       "      <td>46335.550</td>\n",
       "      <td>258079.137</td>\n",
       "      <td>710450.329</td>\n",
       "      <td>49.314</td>\n",
       "      <td>50.943</td>\n",
       "      <td>-6.133</td>\n",
       "      <td>0.833</td>\n",
       "      <td>6.067</td>\n",
       "      <td>1</td>\n",
       "      <td>25</td>\n",
       "      <td>2018</td>\n",
       "    </tr>\n",
       "    <tr>\n",
       "      <th>21484</th>\n",
       "      <td>1</td>\n",
       "      <td>25</td>\n",
       "      <td>315737.894</td>\n",
       "      <td>25379.224</td>\n",
       "      <td>283079.548</td>\n",
       "      <td>624196.666</td>\n",
       "      <td>35.312</td>\n",
       "      <td>43.688</td>\n",
       "      <td>8.600</td>\n",
       "      <td>0.000</td>\n",
       "      <td>3.100</td>\n",
       "      <td>3</td>\n",
       "      <td>17</td>\n",
       "      <td>2019</td>\n",
       "    </tr>\n",
       "    <tr>\n",
       "      <th>21485</th>\n",
       "      <td>1</td>\n",
       "      <td>27</td>\n",
       "      <td>1092141.759</td>\n",
       "      <td>185878.376</td>\n",
       "      <td>518636.283</td>\n",
       "      <td>1796656.419</td>\n",
       "      <td>33.438</td>\n",
       "      <td>43.688</td>\n",
       "      <td>21.500</td>\n",
       "      <td>57.500</td>\n",
       "      <td>3.000</td>\n",
       "      <td>10</td>\n",
       "      <td>1</td>\n",
       "      <td>2019</td>\n",
       "    </tr>\n",
       "  </tbody>\n",
       "</table>\n",
       "<p>21486 rows × 14 columns</p>\n",
       "</div>"
      ],
      "text/plain": [
       "       시도명  읍면동명         거주인구        근무인구        방문인구       총 유동인구   평균 속도  \\\n",
       "0        0    26    76018.965    5009.811   36887.341   117916.117  40.467   \n",
       "1        1    24  1232416.968   76043.955  451558.268  1760019.191  38.126   \n",
       "2        1    23   134260.946    8412.761   78177.981   220851.688  51.107   \n",
       "3        1    25   289327.429   39102.424  287029.303   615459.156  33.067   \n",
       "4        1     7  1116617.660   96560.651  524905.301  1738083.612  40.392   \n",
       "...    ...   ...          ...         ...         ...          ...     ...   \n",
       "21481    0     6    91977.598   14802.819   79885.446   186665.863  41.676   \n",
       "21482    0     9    63673.610    3725.663   65813.385   133212.658  48.737   \n",
       "21483    1     3   406035.642   46335.550  258079.137   710450.329  49.314   \n",
       "21484    1    25   315737.894   25379.224  283079.548   624196.666  35.312   \n",
       "21485    1    27  1092141.759  185878.376  518636.283  1796656.419  33.438   \n",
       "\n",
       "       평균 소요 시간   평균 기온    일강수량  평균 풍속   월   일     년  \n",
       "0        21.667  17.750   0.000  2.725   9  25  2019  \n",
       "1        31.632  13.300  14.500  4.500   3   4  2018  \n",
       "2        45.643   5.250   0.500  4.950   4   7  2018  \n",
       "3        48.000  26.300   0.500  1.500   8  14  2019  \n",
       "4        26.961   8.400  44.000  4.300  12   1  2019  \n",
       "...         ...     ...     ...    ...  ..  ..   ...  \n",
       "21481    21.676   6.400   0.000  1.600   3   5  2020  \n",
       "21482    26.105  18.300   7.000  3.700   5  26  2018  \n",
       "21483    50.943  -6.133   0.833  6.067   1  25  2018  \n",
       "21484    43.688   8.600   0.000  3.100   3  17  2019  \n",
       "21485    43.688  21.500  57.500  3.000  10   1  2019  \n",
       "\n",
       "[21486 rows x 14 columns]"
      ]
     },
     "execution_count": 6,
     "metadata": {},
     "output_type": "execute_result"
    }
   ],
   "source": [
    "xtrain"
   ]
  },
  {
   "cell_type": "code",
   "execution_count": 7,
   "id": "a26af135",
   "metadata": {
    "execution": {
     "iopub.execute_input": "2021-10-14T19:16:09.734168Z",
     "iopub.status.busy": "2021-10-14T19:16:09.733293Z",
     "iopub.status.idle": "2021-10-14T19:16:09.735309Z",
     "shell.execute_reply": "2021-10-14T19:16:09.735715Z",
     "shell.execute_reply.started": "2021-10-14T19:00:03.003572Z"
    },
    "papermill": {
     "duration": 0.020979,
     "end_time": "2021-10-14T19:16:09.735838",
     "exception": false,
     "start_time": "2021-10-14T19:16:09.714859",
     "status": "completed"
    },
    "tags": []
   },
   "outputs": [],
   "source": [
    "# print(ytrain.values)\n",
    "# print(xtrain.max())\n",
    "# print(xtrain.min())\n",
    "# # print(test.max())\n",
    "# print(xtrain.min())\n",
    "# print(test.min())"
   ]
  },
  {
   "cell_type": "code",
   "execution_count": 8,
   "id": "e22ff27d",
   "metadata": {
    "execution": {
     "iopub.execute_input": "2021-10-14T19:16:09.769475Z",
     "iopub.status.busy": "2021-10-14T19:16:09.768921Z",
     "iopub.status.idle": "2021-10-14T19:16:09.772951Z",
     "shell.execute_reply": "2021-10-14T19:16:09.772481Z",
     "shell.execute_reply.started": "2021-10-14T19:00:03.022651Z"
    },
    "papermill": {
     "duration": 0.022166,
     "end_time": "2021-10-14T19:16:09.773193",
     "exception": false,
     "start_time": "2021-10-14T19:16:09.751027",
     "status": "completed"
    },
    "tags": []
   },
   "outputs": [],
   "source": [
    "# from sklearn.preprocessing import RobustScaler\n",
    "# scaler=RobustScaler()\n",
    "# x=scaler.fit_transform(xtrain)\n",
    "# xtest=scaler.transform(test)"
   ]
  },
  {
   "cell_type": "code",
   "execution_count": 9,
   "id": "c8687b25",
   "metadata": {
    "execution": {
     "iopub.execute_input": "2021-10-14T19:16:09.807309Z",
     "iopub.status.busy": "2021-10-14T19:16:09.806647Z",
     "iopub.status.idle": "2021-10-14T19:16:10.445759Z",
     "shell.execute_reply": "2021-10-14T19:16:10.445280Z",
     "shell.execute_reply.started": "2021-10-14T19:00:03.027784Z"
    },
    "papermill": {
     "duration": 0.657612,
     "end_time": "2021-10-14T19:16:10.445894",
     "exception": false,
     "start_time": "2021-10-14T19:16:09.788282",
     "status": "completed"
    },
    "tags": []
   },
   "outputs": [],
   "source": [
    "from sklearn.preprocessing import StandardScaler\n",
    "scaler=StandardScaler()\n",
    "x=scaler.fit_transform(xtrain)\n",
    "xtest=scaler.transform(test)"
   ]
  },
  {
   "cell_type": "code",
   "execution_count": 10,
   "id": "f3d993ce",
   "metadata": {
    "execution": {
     "iopub.execute_input": "2021-10-14T19:16:10.487241Z",
     "iopub.status.busy": "2021-10-14T19:16:10.486679Z",
     "iopub.status.idle": "2021-10-14T19:16:15.691058Z",
     "shell.execute_reply": "2021-10-14T19:16:15.690567Z",
     "shell.execute_reply.started": "2021-10-14T19:00:03.778164Z"
    },
    "papermill": {
     "duration": 5.228731,
     "end_time": "2021-10-14T19:16:15.691190",
     "exception": false,
     "start_time": "2021-10-14T19:16:10.462459",
     "status": "completed"
    },
    "tags": []
   },
   "outputs": [],
   "source": [
    "x=torch.FloatTensor(x).to(device)\n",
    "y=torch.FloatTensor(ytrain.values).to(device)\n",
    "xtest=torch.FloatTensor(xtest).to(device)"
   ]
  },
  {
   "cell_type": "code",
   "execution_count": 11,
   "id": "2a7181c1",
   "metadata": {
    "execution": {
     "iopub.execute_input": "2021-10-14T19:16:15.726725Z",
     "iopub.status.busy": "2021-10-14T19:16:15.725814Z",
     "iopub.status.idle": "2021-10-14T19:16:15.728300Z",
     "shell.execute_reply": "2021-10-14T19:16:15.727849Z",
     "shell.execute_reply.started": "2021-10-14T19:00:09.6262Z"
    },
    "papermill": {
     "duration": 0.021949,
     "end_time": "2021-10-14T19:16:15.728409",
     "exception": false,
     "start_time": "2021-10-14T19:16:15.706460",
     "status": "completed"
    },
    "tags": []
   },
   "outputs": [],
   "source": [
    "dataset=torch.utils.data.TensorDataset(x,y)\n",
    "dataloader=torch.utils.data.DataLoader(dataset,batch_size=BS,shuffle=True)"
   ]
  },
  {
   "cell_type": "code",
   "execution_count": 12,
   "id": "e3424855",
   "metadata": {
    "execution": {
     "iopub.execute_input": "2021-10-14T19:16:15.764135Z",
     "iopub.status.busy": "2021-10-14T19:16:15.763540Z",
     "iopub.status.idle": "2021-10-14T19:16:15.774476Z",
     "shell.execute_reply": "2021-10-14T19:16:15.774906Z",
     "shell.execute_reply.started": "2021-10-14T19:00:09.635216Z"
    },
    "papermill": {
     "duration": 0.03135,
     "end_time": "2021-10-14T19:16:15.775037",
     "exception": false,
     "start_time": "2021-10-14T19:16:15.743687",
     "status": "completed"
    },
    "tags": []
   },
   "outputs": [],
   "source": [
    "linear1=torch.nn.Linear(14,512,bias=True)\n",
    "linear2=torch.nn.Linear(512,512,bias=True)\n",
    "linear3=torch.nn.Linear(512,512,bias=True)\n",
    "linear4=torch.nn.Linear(512,512,bias=True)\n",
    "linear5=torch.nn.Linear(512,1,bias=True)\n",
    "relu=torch.nn.ReLU()\n",
    "dropout=torch.nn.Dropout(p=drop)"
   ]
  },
  {
   "cell_type": "code",
   "execution_count": 13,
   "id": "b82e3cdb",
   "metadata": {
    "execution": {
     "iopub.execute_input": "2021-10-14T19:16:15.811352Z",
     "iopub.status.busy": "2021-10-14T19:16:15.810780Z",
     "iopub.status.idle": "2021-10-14T19:16:15.866534Z",
     "shell.execute_reply": "2021-10-14T19:16:15.866970Z",
     "shell.execute_reply.started": "2021-10-14T19:00:09.652547Z"
    },
    "papermill": {
     "duration": 0.077121,
     "end_time": "2021-10-14T19:16:15.867116",
     "exception": false,
     "start_time": "2021-10-14T19:16:15.789995",
     "status": "completed"
    },
    "tags": []
   },
   "outputs": [
    {
     "data": {
      "text/plain": [
       "Parameter containing:\n",
       "tensor([[-3.6713e-02,  6.7380e-03, -5.2585e-03, -1.7382e-02,  2.8180e-02,\n",
       "          1.0887e-01, -2.4962e-02,  1.1782e-01, -1.6760e-02,  4.2989e-02,\n",
       "          3.8647e-02,  1.4685e-02,  1.0353e-01, -4.7054e-02,  6.9840e-02,\n",
       "         -4.7351e-02, -6.5643e-02,  4.2353e-02, -5.7360e-02,  5.0114e-02,\n",
       "         -2.7609e-02,  1.1161e-01, -1.4944e-01, -4.9749e-02, -6.7113e-03,\n",
       "          2.0931e-02, -6.8532e-02, -9.9546e-02,  6.7625e-02, -1.8560e-02,\n",
       "          1.2371e-02,  3.5323e-02,  7.0682e-02,  8.7220e-02, -7.0504e-02,\n",
       "         -1.2751e-01,  1.7246e-02, -7.1924e-03, -9.9854e-02,  1.0234e-01,\n",
       "          1.1197e-01,  1.7737e-02, -2.4713e-02, -4.5214e-02, -6.6245e-02,\n",
       "         -3.3088e-02,  2.4879e-02,  8.8858e-02, -8.6008e-02,  5.3048e-02,\n",
       "          5.5597e-02, -2.9830e-02, -9.3625e-02, -3.2320e-02, -1.7316e-02,\n",
       "         -3.4877e-02,  4.7657e-02, -1.6106e-02,  3.2903e-03,  3.9246e-02,\n",
       "          8.1403e-02, -2.0843e-02, -7.2599e-02,  3.8420e-02,  6.0377e-02,\n",
       "          1.9045e-02, -6.1385e-03,  1.5800e-02, -7.0027e-02, -3.9881e-02,\n",
       "          6.1378e-02, -4.6379e-03,  3.7508e-02,  7.7350e-02, -2.7417e-02,\n",
       "         -3.9500e-02,  3.1029e-02,  1.1203e-02,  3.4385e-03,  7.1504e-03,\n",
       "          5.9954e-02,  3.4362e-02,  1.0489e-03, -3.3975e-02, -5.9479e-03,\n",
       "         -1.6368e-01,  3.2930e-02,  5.1334e-02, -8.1001e-02,  8.2270e-02,\n",
       "         -2.8639e-02, -7.8234e-02,  9.4104e-02,  5.3953e-02,  7.1336e-02,\n",
       "          2.5909e-02, -6.4661e-02, -3.0228e-02,  4.9178e-02, -2.4955e-02,\n",
       "         -2.0614e-02, -9.2425e-02, -2.8992e-03,  3.8245e-02, -8.1370e-02,\n",
       "          8.6382e-02,  4.3853e-02, -6.7207e-02,  9.0379e-02,  5.1220e-02,\n",
       "         -6.6439e-02, -3.5374e-02, -1.6062e-01,  7.3048e-03, -1.1493e-02,\n",
       "         -7.9811e-03, -2.4099e-02,  1.8915e-02,  3.4895e-02, -2.7591e-02,\n",
       "         -2.6848e-02, -1.7950e-02, -3.6507e-02, -2.1127e-02,  1.9207e-03,\n",
       "         -6.6212e-02, -1.7589e-01,  3.4849e-03, -9.5683e-02, -6.9263e-03,\n",
       "         -1.3329e-02,  6.3326e-02,  6.7920e-03,  7.3269e-02, -4.8086e-02,\n",
       "         -6.1958e-02, -2.8438e-02, -6.6436e-02,  7.5025e-03,  3.1389e-02,\n",
       "         -4.1708e-03,  9.8373e-03, -1.4711e-01, -1.5735e-02, -3.8996e-02,\n",
       "         -6.3792e-02,  2.7987e-02, -9.7884e-02, -2.8734e-02, -3.3759e-02,\n",
       "          7.1922e-02, -9.3605e-02,  9.5726e-02, -4.8541e-02,  3.3766e-03,\n",
       "         -7.9935e-03, -8.4421e-02,  5.0663e-02, -6.5131e-02,  9.1466e-02,\n",
       "         -9.8894e-02,  1.7913e-02, -2.1724e-02,  6.4204e-02,  3.2948e-02,\n",
       "          4.1850e-02,  9.4072e-02,  4.6539e-02, -9.3841e-02,  4.3200e-03,\n",
       "          7.6074e-02, -2.6338e-02, -3.3482e-02,  9.2159e-02,  2.0437e-02,\n",
       "          6.2360e-02, -3.4684e-04, -9.3449e-02, -4.1582e-02, -3.3857e-02,\n",
       "          9.2950e-02,  1.1063e-01, -9.1518e-03, -7.5652e-02,  3.2138e-02,\n",
       "         -2.1589e-02,  3.6605e-02, -2.5737e-02,  5.9358e-02,  2.7923e-02,\n",
       "         -1.2512e-02,  5.3767e-02, -4.1891e-02, -4.1004e-02,  5.2307e-03,\n",
       "         -4.8938e-02, -3.8291e-02, -7.6297e-02, -2.0096e-02, -1.3510e-02,\n",
       "          4.5587e-02,  2.9647e-02,  3.2481e-02, -2.2713e-02,  3.3123e-02,\n",
       "          2.2767e-02,  4.3374e-02, -7.2288e-02, -2.9632e-03,  8.2962e-04,\n",
       "          2.4490e-02, -4.9993e-02, -5.0239e-02,  8.3830e-02, -1.2392e-02,\n",
       "         -7.1601e-03, -6.8620e-02, -4.4519e-02, -3.4480e-02, -7.4553e-02,\n",
       "          6.6182e-02,  1.0517e-02,  7.1302e-02,  2.3083e-02,  7.8022e-02,\n",
       "          9.6733e-02, -7.2768e-02, -5.9126e-05, -4.7249e-02,  1.1981e-01,\n",
       "         -3.0119e-03, -1.2101e-02, -5.6575e-02, -4.4503e-02,  3.4494e-02,\n",
       "          3.0360e-03, -1.0829e-01,  4.7671e-02,  2.4805e-02,  8.9549e-03,\n",
       "         -1.7664e-02, -5.5248e-02, -1.8581e-02,  1.7819e-02, -1.7481e-02,\n",
       "          8.4524e-02, -9.2831e-02, -2.4809e-02,  9.4798e-02, -2.4000e-02,\n",
       "         -4.3830e-02, -2.0656e-03,  3.6458e-02,  7.0021e-03,  5.2264e-02,\n",
       "         -5.4633e-02,  5.5192e-02,  2.2841e-04,  8.8851e-03,  1.3576e-01,\n",
       "         -1.6091e-02, -6.2399e-02, -1.1452e-01, -2.1326e-02,  5.6837e-02,\n",
       "         -3.3894e-02, -4.7372e-02,  2.0050e-02,  4.7669e-02, -3.6708e-02,\n",
       "          1.0732e-01, -4.7778e-02,  8.3554e-02,  8.6139e-03, -7.5644e-02,\n",
       "          5.1713e-02, -2.2639e-02, -5.3246e-02, -4.2380e-03,  1.3199e-01,\n",
       "          3.5424e-02, -7.3560e-03,  4.0889e-03,  3.5241e-02, -5.7351e-02,\n",
       "         -2.5650e-02, -5.3794e-02, -4.2734e-02, -1.1627e-02,  7.5689e-02,\n",
       "         -7.8166e-02, -4.6284e-02,  9.8464e-02,  2.7764e-02,  5.0935e-02,\n",
       "         -4.9234e-02,  2.1678e-02, -3.4255e-02, -3.1538e-02,  4.3044e-02,\n",
       "          1.4387e-02, -9.8997e-03,  7.7405e-02,  8.6861e-02,  3.3340e-02,\n",
       "          2.0610e-02,  7.9348e-02,  6.5200e-04, -2.3739e-02,  8.1861e-02,\n",
       "          1.8970e-02,  2.4000e-02,  1.6660e-01,  1.2127e-02, -2.2632e-02,\n",
       "         -4.7927e-03, -5.0938e-02,  8.9135e-02, -5.3849e-02,  3.4357e-02,\n",
       "         -2.7527e-02,  3.6524e-02, -6.2371e-02, -9.6045e-02,  1.2316e-01,\n",
       "          7.6185e-02, -4.7802e-02,  1.0562e-01, -8.6411e-02,  5.0830e-04,\n",
       "          7.0171e-02, -9.5483e-03, -7.3275e-02, -4.9770e-02, -5.2692e-03,\n",
       "          4.3200e-02, -3.1878e-02, -6.3745e-02,  4.7401e-02, -4.2899e-02,\n",
       "         -1.2672e-01,  9.4832e-02, -3.3832e-03,  3.6084e-02, -7.4083e-02,\n",
       "          8.2582e-03,  5.0373e-02,  7.1196e-02, -1.1022e-01,  5.4113e-02,\n",
       "         -5.3114e-02,  2.6260e-02,  8.9831e-02,  4.6488e-02, -1.9751e-02,\n",
       "          2.4816e-02,  4.5993e-02, -4.0185e-02, -1.1628e-02,  3.3289e-02,\n",
       "          5.2676e-02,  2.6950e-02, -1.9946e-02,  5.0826e-03, -3.8624e-02,\n",
       "          9.5494e-03,  4.7620e-02,  2.6710e-02,  4.4645e-03, -2.8755e-02,\n",
       "         -1.1365e-01, -2.7037e-02, -1.2578e-01, -1.2382e-02,  1.4813e-02,\n",
       "         -1.9583e-01,  1.6081e-02,  2.7345e-02,  8.4876e-02,  1.1720e-01,\n",
       "          2.6955e-02,  2.3235e-02, -2.0572e-02, -9.7698e-02, -5.5109e-02,\n",
       "         -6.3634e-02,  6.4643e-02, -2.0286e-02,  2.2353e-02, -5.5069e-02,\n",
       "         -9.4160e-02,  7.2616e-02, -2.0890e-02,  2.6844e-02,  8.5854e-02,\n",
       "          3.7385e-02,  3.1063e-02,  2.6100e-03,  9.3229e-02,  8.9899e-02,\n",
       "          5.1043e-02,  5.3967e-02, -4.8155e-02,  1.1965e-02, -8.5744e-02,\n",
       "         -3.4744e-02, -2.4134e-02,  6.9068e-02, -1.1379e-01, -3.2651e-02,\n",
       "         -1.2674e-02, -1.1894e-01, -2.4573e-02,  6.1639e-03,  1.6927e-02,\n",
       "         -1.7800e-02,  2.0094e-03,  2.0246e-02,  4.6484e-03, -1.2073e-01,\n",
       "          5.4276e-02,  5.4345e-02, -1.8596e-03, -1.9965e-02, -1.6064e-02,\n",
       "          2.1819e-02, -1.0851e-01,  3.0916e-03,  2.5188e-02, -4.8477e-03,\n",
       "          1.0046e-01, -4.2722e-02, -2.1260e-03, -1.8631e-02,  1.1004e-02,\n",
       "         -7.2624e-02, -6.4997e-02, -1.3393e-01,  4.3338e-02, -2.4224e-02,\n",
       "          5.3492e-02, -6.2930e-02, -1.2137e-02,  1.1820e-01,  9.0198e-03,\n",
       "          4.7730e-03, -6.0617e-03, -1.0738e-03, -1.9486e-02,  7.5180e-02,\n",
       "         -6.6303e-02,  2.1238e-02, -1.5582e-02,  2.8625e-02,  5.3913e-02,\n",
       "          1.7623e-02,  1.5074e-02, -6.1890e-02, -1.3185e-02, -1.0502e-02,\n",
       "         -4.5244e-02,  5.5899e-02, -4.9866e-02,  2.1223e-02, -6.0257e-02,\n",
       "          5.2992e-02,  8.8175e-02,  1.3762e-03,  1.0258e-01, -1.7532e-02,\n",
       "         -4.9878e-02, -6.5061e-03,  9.9058e-04,  9.4517e-03,  5.1649e-03,\n",
       "          2.9654e-02, -1.4214e-02, -7.7214e-02, -2.8077e-02, -5.3988e-02,\n",
       "          5.0526e-02,  6.1530e-02,  3.5347e-02,  1.5932e-02, -1.2842e-01,\n",
       "         -2.6837e-03,  5.0321e-02, -9.0235e-02, -2.0380e-02, -1.8548e-01,\n",
       "          4.3790e-03, -4.4716e-02, -2.8347e-02, -1.3316e-02,  7.9641e-02,\n",
       "          3.7283e-02,  5.7393e-02, -3.4684e-02,  3.3224e-02,  1.3025e-01,\n",
       "          4.1360e-02,  4.4887e-02,  2.3697e-02,  1.5094e-02, -8.0098e-02,\n",
       "          3.8993e-02,  6.7630e-02,  8.6771e-03, -1.7631e-02,  2.5226e-02,\n",
       "         -3.4022e-02, -4.9508e-02]], requires_grad=True)"
      ]
     },
     "execution_count": 13,
     "metadata": {},
     "output_type": "execute_result"
    }
   ],
   "source": [
    "torch.nn.init.xavier_normal_(linear1.weight)\n",
    "torch.nn.init.xavier_normal_(linear2.weight)\n",
    "torch.nn.init.xavier_normal_(linear3.weight)\n",
    "torch.nn.init.xavier_normal_(linear4.weight)\n",
    "torch.nn.init.xavier_normal_(linear5.weight)"
   ]
  },
  {
   "cell_type": "code",
   "execution_count": 14,
   "id": "664de01d",
   "metadata": {
    "execution": {
     "iopub.execute_input": "2021-10-14T19:16:15.901487Z",
     "iopub.status.busy": "2021-10-14T19:16:15.900676Z",
     "iopub.status.idle": "2021-10-14T19:16:15.908139Z",
     "shell.execute_reply": "2021-10-14T19:16:15.908646Z",
     "shell.execute_reply.started": "2021-10-14T19:00:09.72016Z"
    },
    "papermill": {
     "duration": 0.026024,
     "end_time": "2021-10-14T19:16:15.908797",
     "exception": false,
     "start_time": "2021-10-14T19:16:15.882773",
     "status": "completed"
    },
    "tags": []
   },
   "outputs": [],
   "source": [
    "model=torch.nn.Sequential(\n",
    "    linear1,relu,dropout,\n",
    "    linear2,relu,dropout,\n",
    "    linear3,relu,dropout,\n",
    "    linear4,relu,dropout,\n",
    "    linear5).to(device)"
   ]
  },
  {
   "cell_type": "code",
   "execution_count": 15,
   "id": "46c52dca",
   "metadata": {
    "execution": {
     "iopub.execute_input": "2021-10-14T19:16:15.944880Z",
     "iopub.status.busy": "2021-10-14T19:16:15.944096Z",
     "iopub.status.idle": "2021-10-14T19:16:15.946642Z",
     "shell.execute_reply": "2021-10-14T19:16:15.946204Z",
     "shell.execute_reply.started": "2021-10-14T19:00:09.729816Z"
    },
    "papermill": {
     "duration": 0.022018,
     "end_time": "2021-10-14T19:16:15.946751",
     "exception": false,
     "start_time": "2021-10-14T19:16:15.924733",
     "status": "completed"
    },
    "tags": []
   },
   "outputs": [],
   "source": [
    "loss=torch.nn.MSELoss().to(device)\n",
    "optimizer=torch.optim.Adam(model.parameters(),lr=LR)"
   ]
  },
  {
   "cell_type": "code",
   "execution_count": 16,
   "id": "d8d700d2",
   "metadata": {
    "execution": {
     "iopub.execute_input": "2021-10-14T19:16:15.984930Z",
     "iopub.status.busy": "2021-10-14T19:16:15.980774Z",
     "iopub.status.idle": "2021-10-14T19:16:46.668077Z",
     "shell.execute_reply": "2021-10-14T19:16:46.667640Z",
     "shell.execute_reply.started": "2021-10-14T19:00:09.737281Z"
    },
    "papermill": {
     "duration": 30.705606,
     "end_time": "2021-10-14T19:16:46.668199",
     "exception": false,
     "start_time": "2021-10-14T19:16:15.962593",
     "status": "completed"
    },
    "tags": []
   },
   "outputs": [
    {
     "name": "stdout",
     "output_type": "stream",
     "text": [
      "0 cost 30580642.000000000\n",
      "1 cost 11580235.000000000\n",
      "2 cost 7439403.500000000\n",
      "3 cost 5515166.500000000\n",
      "4 cost 4909148.000000000\n",
      "5 cost 4356822.500000000\n",
      "6 cost 3892786.500000000\n",
      "7 cost 3610476.750000000\n",
      "8 cost 3502988.250000000\n",
      "9 cost 3219522.250000000\n",
      "10 cost 2970455.750000000\n",
      "11 cost 3069013.250000000\n",
      "12 cost 2849605.250000000\n",
      "13 cost 2790963.500000000\n",
      "14 cost 2692620.500000000\n",
      "15 cost 2614501.500000000\n",
      "16 cost 2492942.750000000\n",
      "17 cost 2505599.500000000\n",
      "18 cost 2433409.250000000\n",
      "19 cost 2539166.000000000\n",
      "20 cost 2349955.000000000\n",
      "21 cost 2347884.250000000\n",
      "22 cost 2301138.250000000\n",
      "23 cost 2327777.250000000\n",
      "24 cost 2176749.250000000\n",
      "25 cost 2205828.500000000\n",
      "26 cost 2116301.500000000\n",
      "27 cost 2108925.500000000\n",
      "28 cost 2074116.500000000\n",
      "29 cost 2143676.000000000\n",
      "30 cost 2053916.250000000\n",
      "31 cost 1958842.375000000\n",
      "32 cost 2018194.125000000\n",
      "33 cost 1989759.250000000\n",
      "34 cost 2042965.250000000\n"
     ]
    }
   ],
   "source": [
    "le=len(dataloader)\n",
    "model.train()\n",
    "\n",
    "for epoch in range(epochs):\n",
    "    mcost=0\n",
    "    for X, Y in dataloader:\n",
    "        optimizer.zero_grad()\n",
    "        cost=loss(model(X),Y)\n",
    "        cost.backward()\n",
    "        optimizer.step()\n",
    "        mcost+=cost\n",
    "    print(epoch,'cost {:.9f}'.format(mcost))"
   ]
  },
  {
   "cell_type": "code",
   "execution_count": 17,
   "id": "04b2abc2",
   "metadata": {
    "execution": {
     "iopub.execute_input": "2021-10-14T19:16:46.723122Z",
     "iopub.status.busy": "2021-10-14T19:16:46.722295Z",
     "iopub.status.idle": "2021-10-14T19:16:46.761229Z",
     "shell.execute_reply": "2021-10-14T19:16:46.761837Z",
     "shell.execute_reply.started": "2021-10-14T19:00:39.213115Z"
    },
    "papermill": {
     "duration": 0.069405,
     "end_time": "2021-10-14T19:16:46.762034",
     "exception": false,
     "start_time": "2021-10-14T19:16:46.692629",
     "status": "completed"
    },
    "tags": []
   },
   "outputs": [
    {
     "name": "stdout",
     "output_type": "stream",
     "text": [
      "tensor([[   2.8268],\n",
      "        [1490.1061],\n",
      "        [ 622.0156],\n",
      "        ...,\n",
      "        [  -7.3519],\n",
      "        [ 290.1475],\n",
      "        [ 231.6946]], device='cuda:0')\n",
      "tensor(7977.3706, device='cuda:0')\n"
     ]
    }
   ],
   "source": [
    "with torch.no_grad():\n",
    "    model.eval()\n",
    "    prediction=model(x)\n",
    "    print(prediction)\n",
    "    print(loss(model(x),y))"
   ]
  },
  {
   "cell_type": "code",
   "execution_count": 18,
   "id": "bd2c237f",
   "metadata": {
    "execution": {
     "iopub.execute_input": "2021-10-14T19:16:46.817006Z",
     "iopub.status.busy": "2021-10-14T19:16:46.816205Z",
     "iopub.status.idle": "2021-10-14T19:16:46.820003Z",
     "shell.execute_reply": "2021-10-14T19:16:46.819590Z",
     "shell.execute_reply.started": "2021-10-14T19:00:39.269321Z"
    },
    "papermill": {
     "duration": 0.032339,
     "end_time": "2021-10-14T19:16:46.820131",
     "exception": false,
     "start_time": "2021-10-14T19:16:46.787792",
     "status": "completed"
    },
    "tags": []
   },
   "outputs": [],
   "source": [
    "with torch.no_grad():\n",
    "    model.eval()\n",
    "    prediction=model(xtest)"
   ]
  },
  {
   "cell_type": "code",
   "execution_count": 19,
   "id": "2fbd6e2b",
   "metadata": {
    "execution": {
     "iopub.execute_input": "2021-10-14T19:16:46.877142Z",
     "iopub.status.busy": "2021-10-14T19:16:46.876549Z",
     "iopub.status.idle": "2021-10-14T19:16:46.885521Z",
     "shell.execute_reply": "2021-10-14T19:16:46.884932Z",
     "shell.execute_reply.started": "2021-10-14T19:00:39.282588Z"
    },
    "papermill": {
     "duration": 0.039886,
     "end_time": "2021-10-14T19:16:46.885653",
     "exception": false,
     "start_time": "2021-10-14T19:16:46.845767",
     "status": "completed"
    },
    "tags": []
   },
   "outputs": [
    {
     "name": "stdout",
     "output_type": "stream",
     "text": [
      "   id      predict\n",
      "0   0    22.623474\n",
      "1   1    -0.940294\n",
      "2   2     1.819673\n",
      "3   3  1011.861755\n",
      "4   4  1779.538086\n"
     ]
    }
   ],
   "source": [
    "submit['predict']=prediction.cpu().numpy()\n",
    "print(submit.head())"
   ]
  },
  {
   "cell_type": "code",
   "execution_count": 20,
   "id": "f347d3a2",
   "metadata": {
    "execution": {
     "iopub.execute_input": "2021-10-14T19:16:46.946892Z",
     "iopub.status.busy": "2021-10-14T19:16:46.946091Z",
     "iopub.status.idle": "2021-10-14T19:16:46.978341Z",
     "shell.execute_reply": "2021-10-14T19:16:46.977858Z",
     "shell.execute_reply.started": "2021-10-14T19:00:39.301957Z"
    },
    "papermill": {
     "duration": 0.062907,
     "end_time": "2021-10-14T19:16:46.978467",
     "exception": false,
     "start_time": "2021-10-14T19:16:46.915560",
     "status": "completed"
    },
    "tags": []
   },
   "outputs": [],
   "source": [
    "submit.to_csv('submission.csv',index=False,mode='w')"
   ]
  }
 ],
 "metadata": {
  "kernelspec": {
   "display_name": "Python 3",
   "language": "python",
   "name": "python3"
  },
  "language_info": {
   "codemirror_mode": {
    "name": "ipython",
    "version": 3
   },
   "file_extension": ".py",
   "mimetype": "text/x-python",
   "name": "python",
   "nbconvert_exporter": "python",
   "pygments_lexer": "ipython3",
   "version": "3.7.10"
  },
  "papermill": {
   "default_parameters": {},
   "duration": 50.623628,
   "end_time": "2021-10-14T19:16:48.185799",
   "environment_variables": {},
   "exception": null,
   "input_path": "__notebook__.ipynb",
   "output_path": "__notebook__.ipynb",
   "parameters": {},
   "start_time": "2021-10-14T19:15:57.562171",
   "version": "2.3.3"
  }
 },
 "nbformat": 4,
 "nbformat_minor": 5
}
