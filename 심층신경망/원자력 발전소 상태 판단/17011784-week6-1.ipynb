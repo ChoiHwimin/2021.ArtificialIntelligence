{
 "cells": [
  {
   "cell_type": "code",
   "execution_count": 1,
   "id": "e795878b",
   "metadata": {
    "_cell_guid": "b1076dfc-b9ad-4769-8c92-a6c4dae69d19",
    "_uuid": "8f2839f25d086af736a60e9eeb907d3b93b6e0e5",
    "execution": {
     "iopub.execute_input": "2021-10-09T12:54:18.352550Z",
     "iopub.status.busy": "2021-10-09T12:54:18.350985Z",
     "iopub.status.idle": "2021-10-09T12:54:18.436007Z",
     "shell.execute_reply": "2021-10-09T12:54:18.436627Z",
     "shell.execute_reply.started": "2021-10-09T12:41:26.914130Z"
    },
    "papermill": {
     "duration": 0.101341,
     "end_time": "2021-10-09T12:54:18.436962",
     "exception": false,
     "start_time": "2021-10-09T12:54:18.335621",
     "status": "completed"
    },
    "tags": []
   },
   "outputs": [
    {
     "name": "stdout",
     "output_type": "stream",
     "text": [
      "/kaggle/input/2021-ai-w6-p1/sample_submission.csv\n",
      "/kaggle/input/2021-ai-w6-p1/pca_test.csv\n",
      "/kaggle/input/2021-ai-w6-p1/pca_train.csv\n",
      "/kaggle/input/2021-ai-w6-p1/train_label.csv\n"
     ]
    }
   ],
   "source": [
    "# This Python 3 environment comes with many helpful analytics libraries installed\n",
    "# It is defined by the kaggle/python Docker image: https://github.com/kaggle/docker-python\n",
    "# For example, here's several helpful packages to load\n",
    "\n",
    "import numpy as np # linear algebra\n",
    "import pandas as pd # data processing, CSV file I/O (e.g. pd.read_csv)\n",
    "\n",
    "# Input data files are available in the read-only \"../input/\" directory\n",
    "# For example, running this (by clicking run or pressing Shift+Enter) will list all files under the input directory\n",
    "\n",
    "import os\n",
    "for dirname, _, filenames in os.walk('/kaggle/input'):\n",
    "    for filename in filenames:\n",
    "        print(os.path.join(dirname, filename))\n",
    "\n",
    "# You can write up to 20GB to the current directory (/kaggle/working/) that gets preserved as output when you create a version using \"Save & Run All\" \n",
    "# You can also write temporary files to /kaggle/temp/, but they won't be saved outside of the current session"
   ]
  },
  {
   "cell_type": "code",
   "execution_count": 2,
   "id": "584ca1cf",
   "metadata": {
    "execution": {
     "iopub.execute_input": "2021-10-09T12:54:18.463274Z",
     "iopub.status.busy": "2021-10-09T12:54:18.462597Z",
     "iopub.status.idle": "2021-10-09T12:54:22.840347Z",
     "shell.execute_reply": "2021-10-09T12:54:22.841335Z",
     "shell.execute_reply.started": "2021-10-09T12:41:27.001807Z"
    },
    "papermill": {
     "duration": 4.392548,
     "end_time": "2021-10-09T12:54:22.841584",
     "exception": false,
     "start_time": "2021-10-09T12:54:18.449036",
     "status": "completed"
    },
    "tags": []
   },
   "outputs": [],
   "source": [
    "import torch\n",
    "import torch.optim as optim"
   ]
  },
  {
   "cell_type": "code",
   "execution_count": 3,
   "id": "3436557e",
   "metadata": {
    "execution": {
     "iopub.execute_input": "2021-10-09T12:54:22.923189Z",
     "iopub.status.busy": "2021-10-09T12:54:22.922419Z",
     "iopub.status.idle": "2021-10-09T12:54:22.937816Z",
     "shell.execute_reply": "2021-10-09T12:54:22.938397Z",
     "shell.execute_reply.started": "2021-10-09T12:41:27.575354Z"
    },
    "papermill": {
     "duration": 0.081293,
     "end_time": "2021-10-09T12:54:22.941566",
     "exception": false,
     "start_time": "2021-10-09T12:54:22.860273",
     "status": "completed"
    },
    "tags": []
   },
   "outputs": [
    {
     "data": {
      "text/plain": [
       "<torch._C.Generator at 0x7f56b419c3b0>"
      ]
     },
     "execution_count": 3,
     "metadata": {},
     "output_type": "execute_result"
    }
   ],
   "source": [
    "device='cuda' if torch.cuda.is_available() else 'cpu'\n",
    "\n",
    "torch.manual_seed(1)"
   ]
  },
  {
   "cell_type": "code",
   "execution_count": 4,
   "id": "fd427076",
   "metadata": {
    "execution": {
     "iopub.execute_input": "2021-10-09T12:54:22.973499Z",
     "iopub.status.busy": "2021-10-09T12:54:22.973008Z",
     "iopub.status.idle": "2021-10-09T12:54:27.716746Z",
     "shell.execute_reply": "2021-10-09T12:54:27.717607Z",
     "shell.execute_reply.started": "2021-10-09T12:41:27.613196Z"
    },
    "papermill": {
     "duration": 4.760168,
     "end_time": "2021-10-09T12:54:27.717816",
     "exception": false,
     "start_time": "2021-10-09T12:54:22.957648",
     "status": "completed"
    },
    "tags": []
   },
   "outputs": [
    {
     "name": "stdout",
     "output_type": "stream",
     "text": [
      "(27671, 256)\n",
      "(27671, 2)\n",
      "(13629, 256)\n",
      "(13629, 2)\n"
     ]
    }
   ],
   "source": [
    "xtrain_data=pd.read_csv(\"/kaggle/input/2021-ai-w6-p1/pca_train.csv\")\n",
    "ytrain_data=pd.read_csv(\"/kaggle/input/2021-ai-w6-p1/train_label.csv\")\n",
    "test_data=pd.read_csv(\"/kaggle/input/2021-ai-w6-p1/pca_test.csv\")\n",
    "submit_data=pd.read_csv(\"/kaggle/input/2021-ai-w6-p1/sample_submission.csv\")\n",
    "print(xtrain_data.shape)\n",
    "print(ytrain_data.shape)\n",
    "print(test_data.shape)\n",
    "print(submit_data.shape)"
   ]
  },
  {
   "cell_type": "code",
   "execution_count": 5,
   "id": "4d6488d0",
   "metadata": {
    "execution": {
     "iopub.execute_input": "2021-10-09T12:54:27.778106Z",
     "iopub.status.busy": "2021-10-09T12:54:27.777254Z",
     "iopub.status.idle": "2021-10-09T12:54:27.843395Z",
     "shell.execute_reply": "2021-10-09T12:54:27.844582Z",
     "shell.execute_reply.started": "2021-10-09T12:41:30.120447Z"
    },
    "papermill": {
     "duration": 0.101645,
     "end_time": "2021-10-09T12:54:27.844806",
     "exception": false,
     "start_time": "2021-10-09T12:54:27.743161",
     "status": "completed"
    },
    "tags": []
   },
   "outputs": [
    {
     "name": "stdout",
     "output_type": "stream",
     "text": [
      "<class 'pandas.core.frame.DataFrame'>\n",
      "RangeIndex: 27671 entries, 0 to 27670\n",
      "Columns: 256 entries, 0 to 255\n",
      "dtypes: float64(256)\n",
      "memory usage: 54.0 MB\n",
      "None\n",
      "id       27670\n",
      "label      197\n",
      "dtype: int64\n",
      "<class 'pandas.core.frame.DataFrame'>\n",
      "RangeIndex: 13629 entries, 0 to 13628\n",
      "Columns: 256 entries, 0 to 255\n",
      "dtypes: float64(256)\n",
      "memory usage: 26.6 MB\n",
      "None\n"
     ]
    }
   ],
   "source": [
    "print(xtrain_data.info())\n",
    "print(ytrain_data.max())\n",
    "print(test_data.info())"
   ]
  },
  {
   "cell_type": "code",
   "execution_count": 6,
   "id": "42c1652c",
   "metadata": {
    "execution": {
     "iopub.execute_input": "2021-10-09T12:54:27.898002Z",
     "iopub.status.busy": "2021-10-09T12:54:27.897076Z",
     "iopub.status.idle": "2021-10-09T12:54:33.256782Z",
     "shell.execute_reply": "2021-10-09T12:54:33.257500Z",
     "shell.execute_reply.started": "2021-10-09T12:41:30.160975Z"
    },
    "papermill": {
     "duration": 5.391728,
     "end_time": "2021-10-09T12:54:33.257669",
     "exception": false,
     "start_time": "2021-10-09T12:54:27.865941",
     "status": "completed"
    },
    "tags": []
   },
   "outputs": [
    {
     "name": "stdout",
     "output_type": "stream",
     "text": [
      "torch.Size([27671, 256])\n",
      "torch.Size([27671])\n"
     ]
    }
   ],
   "source": [
    "xtrain=torch.FloatTensor(xtrain_data.values).to(device)\n",
    "ytrain=torch.LongTensor(ytrain_data['label'].values).to(device)\n",
    "print(xtrain.shape)\n",
    "print(ytrain.shape)"
   ]
  },
  {
   "cell_type": "code",
   "execution_count": 7,
   "id": "380b3711",
   "metadata": {
    "execution": {
     "iopub.execute_input": "2021-10-09T12:54:33.286462Z",
     "iopub.status.busy": "2021-10-09T12:54:33.285137Z",
     "iopub.status.idle": "2021-10-09T12:54:33.287299Z",
     "shell.execute_reply": "2021-10-09T12:54:33.287698Z",
     "shell.execute_reply.started": "2021-10-09T12:41:32.907450Z"
    },
    "papermill": {
     "duration": 0.01839,
     "end_time": "2021-10-09T12:54:33.287827",
     "exception": false,
     "start_time": "2021-10-09T12:54:33.269437",
     "status": "completed"
    },
    "tags": []
   },
   "outputs": [],
   "source": [
    "from torch.utils.data import TensorDataset # 텐서데이터셋\n",
    "from torch.utils.data import DataLoader # 데이터로더\n",
    "dataset = TensorDataset(xtrain, ytrain)\n",
    "dataloader = DataLoader(dataset, batch_size=8, shuffle=True)"
   ]
  },
  {
   "cell_type": "code",
   "execution_count": 8,
   "id": "863c5508",
   "metadata": {
    "execution": {
     "iopub.execute_input": "2021-10-09T12:54:33.316088Z",
     "iopub.status.busy": "2021-10-09T12:54:33.315480Z",
     "iopub.status.idle": "2021-10-09T12:54:33.325705Z",
     "shell.execute_reply": "2021-10-09T12:54:33.325288Z",
     "shell.execute_reply.started": "2021-10-09T12:41:32.938015Z"
    },
    "papermill": {
     "duration": 0.02669,
     "end_time": "2021-10-09T12:54:33.325821",
     "exception": false,
     "start_time": "2021-10-09T12:54:33.299131",
     "status": "completed"
    },
    "tags": []
   },
   "outputs": [],
   "source": [
    "linear=torch.nn.Linear(256,198,bias=True).cuda()\n",
    "torch.nn.init.normal_(linear.weight).cuda()\n",
    "model=torch.nn.Sequential(linear).cuda()"
   ]
  },
  {
   "cell_type": "code",
   "execution_count": 9,
   "id": "1632f5aa",
   "metadata": {
    "execution": {
     "iopub.execute_input": "2021-10-09T12:54:33.355154Z",
     "iopub.status.busy": "2021-10-09T12:54:33.354599Z",
     "iopub.status.idle": "2021-10-09T12:56:24.209436Z",
     "shell.execute_reply": "2021-10-09T12:56:24.210014Z",
     "shell.execute_reply.started": "2021-10-09T12:41:32.947499Z"
    },
    "papermill": {
     "duration": 110.873077,
     "end_time": "2021-10-09T12:56:24.210246",
     "exception": false,
     "start_time": "2021-10-09T12:54:33.337169",
     "status": "completed"
    },
    "tags": []
   },
   "outputs": [
    {
     "name": "stdout",
     "output_type": "stream",
     "text": [
      "epoch= 0001 cost=47.590469360\n",
      "epoch= 0002 cost=21.325571060\n",
      "epoch= 0003 cost=14.048924446\n",
      "epoch= 0004 cost=10.431659698\n",
      "epoch= 0005 cost=8.187266350\n",
      "epoch= 0006 cost=6.579030037\n",
      "epoch= 0007 cost=5.362247944\n",
      "epoch= 0008 cost=4.405576706\n",
      "epoch= 0009 cost=3.652802467\n",
      "epoch= 0010 cost=3.066784620\n",
      "epoch= 0011 cost=2.607341290\n",
      "epoch= 0012 cost=2.255014181\n",
      "epoch= 0013 cost=1.985191464\n",
      "epoch= 0014 cost=1.770505190\n",
      "epoch= 0015 cost=1.603574395\n",
      "epoch= 0016 cost=1.472288251\n",
      "epoch= 0017 cost=1.362272501\n",
      "epoch= 0018 cost=1.278547764\n",
      "epoch= 0019 cost=1.204712868\n",
      "epoch= 0020 cost=1.149457216\n",
      "epoch= 0021 cost=1.098852396\n",
      "epoch= 0022 cost=1.058759689\n",
      "epoch= 0023 cost=1.025639415\n",
      "epoch= 0024 cost=0.994404912\n",
      "epoch= 0025 cost=0.971267343\n",
      "epoch= 0026 cost=0.947193742\n",
      "epoch= 0027 cost=0.929535985\n",
      "epoch= 0028 cost=0.910519123\n",
      "epoch= 0029 cost=0.895743310\n",
      "epoch= 0030 cost=0.883549631\n"
     ]
    }
   ],
   "source": [
    "loss=torch.nn.CrossEntropyLoss().cuda()\n",
    "optimizer=torch.optim.Adam(model.parameters(),lr=1e-3)\n",
    "\n",
    "epochs = 30\n",
    "\n",
    "total_batch=len(dataloader)\n",
    "\n",
    "for epoch in range(epochs):\n",
    "    avg_cost=0\n",
    "    for X, Y in dataloader:\n",
    "        optimizer.zero_grad()\n",
    "        hypothesis=model(X)\n",
    "        cost=loss(hypothesis, Y)\n",
    "        cost.backward()\n",
    "        optimizer.step()\n",
    "        avg_cost+=cost/total_batch\n",
    "    print('epoch=', '%04d' % (epoch+1), 'cost={:.9f}'.format(avg_cost))"
   ]
  },
  {
   "cell_type": "code",
   "execution_count": 10,
   "id": "268b7d02",
   "metadata": {
    "execution": {
     "iopub.execute_input": "2021-10-09T12:56:24.253623Z",
     "iopub.status.busy": "2021-10-09T12:56:24.253120Z",
     "iopub.status.idle": "2021-10-09T12:56:24.265604Z",
     "shell.execute_reply": "2021-10-09T12:56:24.265029Z",
     "shell.execute_reply.started": "2021-10-09T12:43:23.882678Z"
    },
    "papermill": {
     "duration": 0.035651,
     "end_time": "2021-10-09T12:56:24.265748",
     "exception": false,
     "start_time": "2021-10-09T12:56:24.230097",
     "status": "completed"
    },
    "tags": []
   },
   "outputs": [
    {
     "name": "stdout",
     "output_type": "stream",
     "text": [
      "tensor([False,  True,  True,  ...,  True,  True,  True], device='cuda:0')\n",
      "The model has an accuracy of 82.53% for the training set.\n"
     ]
    }
   ],
   "source": [
    "with torch.no_grad():\n",
    "    prediction=model(xtrain)\n",
    "    correct_prediction=torch.argmax(prediction,1)==ytrain\n",
    "    print(correct_prediction)\n",
    "    accuracy = correct_prediction.sum().item() / len(correct_prediction)\n",
    "    print('The model has an accuracy of {:2.2f}% for the training set.'.format(accuracy * 100))"
   ]
  },
  {
   "cell_type": "code",
   "execution_count": 11,
   "id": "2e762874",
   "metadata": {
    "execution": {
     "iopub.execute_input": "2021-10-09T12:56:24.309181Z",
     "iopub.status.busy": "2021-10-09T12:56:24.308168Z",
     "iopub.status.idle": "2021-10-09T12:56:24.323937Z",
     "shell.execute_reply": "2021-10-09T12:56:24.323356Z",
     "shell.execute_reply.started": "2021-10-09T12:48:12.725387Z"
    },
    "papermill": {
     "duration": 0.03855,
     "end_time": "2021-10-09T12:56:24.324081",
     "exception": false,
     "start_time": "2021-10-09T12:56:24.285531",
     "status": "completed"
    },
    "tags": []
   },
   "outputs": [
    {
     "name": "stdout",
     "output_type": "stream",
     "text": [
      "torch.Size([13629, 256])\n"
     ]
    }
   ],
   "source": [
    "tdata=torch.FloatTensor(test_data.values).cuda()\n",
    "print(tdata.shape)"
   ]
  },
  {
   "cell_type": "code",
   "execution_count": 12,
   "id": "0f1bfe2d",
   "metadata": {
    "execution": {
     "iopub.execute_input": "2021-10-09T12:56:24.369838Z",
     "iopub.status.busy": "2021-10-09T12:56:24.368285Z",
     "iopub.status.idle": "2021-10-09T12:56:24.371962Z",
     "shell.execute_reply": "2021-10-09T12:56:24.371485Z",
     "shell.execute_reply.started": "2021-10-09T12:48:21.888936Z"
    },
    "papermill": {
     "duration": 0.027978,
     "end_time": "2021-10-09T12:56:24.372063",
     "exception": false,
     "start_time": "2021-10-09T12:56:24.344085",
     "status": "completed"
    },
    "tags": []
   },
   "outputs": [
    {
     "name": "stdout",
     "output_type": "stream",
     "text": [
      "tensor([113,  91,  68,  ...,  23,  68, 117], device='cuda:0')\n"
     ]
    }
   ],
   "source": [
    "prediction=torch.argmax(model(tdata),1)\n",
    "print(prediction)"
   ]
  },
  {
   "cell_type": "code",
   "execution_count": 13,
   "id": "ec6f56e9",
   "metadata": {
    "execution": {
     "iopub.execute_input": "2021-10-09T12:56:24.415216Z",
     "iopub.status.busy": "2021-10-09T12:56:24.414660Z",
     "iopub.status.idle": "2021-10-09T12:56:24.423227Z",
     "shell.execute_reply": "2021-10-09T12:56:24.423777Z",
     "shell.execute_reply.started": "2021-10-09T12:52:11.586819Z"
    },
    "papermill": {
     "duration": 0.032289,
     "end_time": "2021-10-09T12:56:24.423939",
     "exception": false,
     "start_time": "2021-10-09T12:56:24.391650",
     "status": "completed"
    },
    "tags": []
   },
   "outputs": [
    {
     "name": "stdout",
     "output_type": "stream",
     "text": [
      "   id  label\n",
      "0   0    113\n",
      "1   1     91\n",
      "2   2     68\n",
      "3   3     28\n",
      "4   4    121\n"
     ]
    }
   ],
   "source": [
    "submit_data['label']=prediction.cpu().numpy()\n",
    "print(submit_data.head())"
   ]
  },
  {
   "cell_type": "code",
   "execution_count": 14,
   "id": "327edf5e",
   "metadata": {
    "execution": {
     "iopub.execute_input": "2021-10-09T12:56:24.468787Z",
     "iopub.status.busy": "2021-10-09T12:56:24.468258Z",
     "iopub.status.idle": "2021-10-09T12:56:24.494236Z",
     "shell.execute_reply": "2021-10-09T12:56:24.493827Z",
     "shell.execute_reply.started": "2021-10-09T12:53:21.332389Z"
    },
    "papermill": {
     "duration": 0.04973,
     "end_time": "2021-10-09T12:56:24.494340",
     "exception": false,
     "start_time": "2021-10-09T12:56:24.444610",
     "status": "completed"
    },
    "tags": []
   },
   "outputs": [],
   "source": [
    "submit_data.to_csv(\"submission.csv\",index=False,mode='w')"
   ]
  }
 ],
 "metadata": {
  "kernelspec": {
   "display_name": "Python 3",
   "language": "python",
   "name": "python3"
  },
  "language_info": {
   "codemirror_mode": {
    "name": "ipython",
    "version": 3
   },
   "file_extension": ".py",
   "mimetype": "text/x-python",
   "name": "python",
   "nbconvert_exporter": "python",
   "pygments_lexer": "ipython3",
   "version": "3.7.10"
  },
  "papermill": {
   "default_parameters": {},
   "duration": 133.607177,
   "end_time": "2021-10-09T12:56:25.422620",
   "environment_variables": {},
   "exception": null,
   "input_path": "__notebook__.ipynb",
   "output_path": "__notebook__.ipynb",
   "parameters": {},
   "start_time": "2021-10-09T12:54:11.815443",
   "version": "2.3.3"
  }
 },
 "nbformat": 4,
 "nbformat_minor": 5
}
