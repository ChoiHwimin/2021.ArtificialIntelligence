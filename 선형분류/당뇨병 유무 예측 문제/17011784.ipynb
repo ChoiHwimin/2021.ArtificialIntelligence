{
 "cells": [
  {
   "cell_type": "code",
   "execution_count": 1,
   "id": "01551783",
   "metadata": {
    "_cell_guid": "b1076dfc-b9ad-4769-8c92-a6c4dae69d19",
    "_uuid": "8f2839f25d086af736a60e9eeb907d3b93b6e0e5",
    "execution": {
     "iopub.execute_input": "2021-09-30T09:59:53.572989Z",
     "iopub.status.busy": "2021-09-30T09:59:53.571125Z",
     "iopub.status.idle": "2021-09-30T09:59:53.587626Z",
     "shell.execute_reply": "2021-09-30T09:59:53.588223Z",
     "shell.execute_reply.started": "2021-09-30T08:01:43.075724Z"
    },
    "papermill": {
     "duration": 0.036691,
     "end_time": "2021-09-30T09:59:53.588550",
     "exception": false,
     "start_time": "2021-09-30T09:59:53.551859",
     "status": "completed"
    },
    "tags": []
   },
   "outputs": [
    {
     "name": "stdout",
     "output_type": "stream",
     "text": [
      "/kaggle/input/2021-ai-w4-p1/submit.csv\n",
      "/kaggle/input/2021-ai-w4-p1/train.csv\n",
      "/kaggle/input/2021-ai-w4-p1/test.csv\n"
     ]
    }
   ],
   "source": [
    "# This Python 3 environment comes with many helpful analytics libraries installed\n",
    "# It is defined by the kaggle/python Docker image: https://github.com/kaggle/docker-python\n",
    "# For example, here's several helpful packages to load\n",
    "\n",
    "import numpy as np # linear algebra\n",
    "import pandas as pd # data processing, CSV file I/O (e.g. pd.read_csv)\n",
    "\n",
    "# Input data files are available in the read-only \"../input/\" directory\n",
    "# For example, running this (by clicking run or pressing Shift+Enter) will list all files under the input directory\n",
    "\n",
    "import os\n",
    "for dirname, _, filenames in os.walk('/kaggle/input'):\n",
    "    for filename in filenames:\n",
    "        print(os.path.join(dirname, filename))\n",
    "\n",
    "# You can write up to 20GB to the current directory (/kaggle/working/) that gets preserved as output when you create a version using \"Save & Run All\" \n",
    "# You can also write temporary files to /kaggle/temp/, but they won't be saved outside of the current session"
   ]
  },
  {
   "cell_type": "code",
   "execution_count": 2,
   "id": "57444635",
   "metadata": {
    "execution": {
     "iopub.execute_input": "2021-09-30T09:59:53.621795Z",
     "iopub.status.busy": "2021-09-30T09:59:53.621041Z",
     "iopub.status.idle": "2021-09-30T09:59:54.598658Z",
     "shell.execute_reply": "2021-09-30T09:59:54.598035Z",
     "shell.execute_reply.started": "2021-09-30T08:01:43.093871Z"
    },
    "papermill": {
     "duration": 0.995768,
     "end_time": "2021-09-30T09:59:54.598809",
     "exception": false,
     "start_time": "2021-09-30T09:59:53.603041",
     "status": "completed"
    },
    "tags": []
   },
   "outputs": [],
   "source": [
    "import torch\n",
    "import torch.optim as optim"
   ]
  },
  {
   "cell_type": "code",
   "execution_count": 3,
   "id": "2d0ebffc",
   "metadata": {
    "execution": {
     "iopub.execute_input": "2021-09-30T09:59:54.631621Z",
     "iopub.status.busy": "2021-09-30T09:59:54.630919Z",
     "iopub.status.idle": "2021-09-30T09:59:54.640528Z",
     "shell.execute_reply": "2021-09-30T09:59:54.639897Z",
     "shell.execute_reply.started": "2021-09-30T08:01:43.83466Z"
    },
    "papermill": {
     "duration": 0.028014,
     "end_time": "2021-09-30T09:59:54.640663",
     "exception": false,
     "start_time": "2021-09-30T09:59:54.612649",
     "status": "completed"
    },
    "tags": []
   },
   "outputs": [
    {
     "data": {
      "text/plain": [
       "<torch._C.Generator at 0x7fe0040a2e70>"
      ]
     },
     "execution_count": 3,
     "metadata": {},
     "output_type": "execute_result"
    }
   ],
   "source": [
    "torch.manual_seed(1)"
   ]
  },
  {
   "cell_type": "code",
   "execution_count": 4,
   "id": "708de5f6",
   "metadata": {
    "execution": {
     "iopub.execute_input": "2021-09-30T09:59:54.675077Z",
     "iopub.status.busy": "2021-09-30T09:59:54.674416Z",
     "iopub.status.idle": "2021-09-30T09:59:54.719130Z",
     "shell.execute_reply": "2021-09-30T09:59:54.718572Z",
     "shell.execute_reply.started": "2021-09-30T08:01:43.845734Z"
    },
    "papermill": {
     "duration": 0.06426,
     "end_time": "2021-09-30T09:59:54.719276",
     "exception": false,
     "start_time": "2021-09-30T09:59:54.655016",
     "status": "completed"
    },
    "tags": []
   },
   "outputs": [
    {
     "name": "stdout",
     "output_type": "stream",
     "text": [
      "   Pregnancies  Glucose  BloodPressure  SkinThickness  Insulin   BMI  \\\n",
      "0            1       95             60             18       58  23.9   \n",
      "1            5      105             72             29      325  36.9   \n",
      "2            0      135             68             42      250  42.3   \n",
      "3            4      131             68             21      166  33.1   \n",
      "4            1      103             30             38       83  43.3   \n",
      "\n",
      "   DiabetesPedigreeFunction  Age  Diabetes  \n",
      "0                     0.260   22         0  \n",
      "1                     0.159   28         0  \n",
      "2                     0.365   24         1  \n",
      "3                     0.160   28         0  \n",
      "4                     0.183   33         0  \n",
      "   Pregnancies  Glucose  BloodPressure  SkinThickness  Insulin   BMI  \\\n",
      "0            6       98             58             33      190  34.0   \n",
      "1            2      112             75             32        0  35.7   \n",
      "2            2      108             64              0        0  30.8   \n",
      "3            8      107             80              0        0  24.6   \n",
      "4            7      136             90              0        0  29.9   \n",
      "\n",
      "   DiabetesPedigreeFunction  Age  \n",
      "0                     0.430   43  \n",
      "1                     0.148   21  \n",
      "2                     0.158   21  \n",
      "3                     0.856   34  \n",
      "4                     0.210   50  \n",
      "   ID  Diabetes\n",
      "0   0         0\n",
      "1   1         0\n",
      "2   2         0\n",
      "3   3         0\n",
      "4   4         0\n"
     ]
    }
   ],
   "source": [
    "train_data=pd.read_csv(\"/kaggle/input/2021-ai-w4-p1/train.csv\")\n",
    "test_data=pd.read_csv(\"/kaggle/input/2021-ai-w4-p1/test.csv\")\n",
    "submit_data=pd.read_csv(\"/kaggle/input/2021-ai-w4-p1/submit.csv\")\n",
    "print(train_data.head())\n",
    "print(test_data.head())\n",
    "print(submit_data.head())"
   ]
  },
  {
   "cell_type": "code",
   "execution_count": 5,
   "id": "1c382d39",
   "metadata": {
    "execution": {
     "iopub.execute_input": "2021-09-30T09:59:54.752602Z",
     "iopub.status.busy": "2021-09-30T09:59:54.751629Z",
     "iopub.status.idle": "2021-09-30T09:59:54.758675Z",
     "shell.execute_reply": "2021-09-30T09:59:54.759425Z",
     "shell.execute_reply.started": "2021-09-30T08:01:43.876335Z"
    },
    "papermill": {
     "duration": 0.025574,
     "end_time": "2021-09-30T09:59:54.759680",
     "exception": false,
     "start_time": "2021-09-30T09:59:54.734106",
     "status": "completed"
    },
    "tags": []
   },
   "outputs": [
    {
     "name": "stdout",
     "output_type": "stream",
     "text": [
      "5\n",
      "6\n"
     ]
    }
   ],
   "source": [
    "#0으로 빠진데이터 체크\n",
    "print((train_data.iloc[:,5]==0).sum())\n",
    "print((test_data.iloc[:,5]==0).sum())"
   ]
  },
  {
   "cell_type": "code",
   "execution_count": 6,
   "id": "a7ec0205",
   "metadata": {
    "execution": {
     "iopub.execute_input": "2021-09-30T09:59:54.812158Z",
     "iopub.status.busy": "2021-09-30T09:59:54.811118Z",
     "iopub.status.idle": "2021-09-30T09:59:54.826808Z",
     "shell.execute_reply": "2021-09-30T09:59:54.827641Z",
     "shell.execute_reply.started": "2021-09-30T08:01:43.888102Z"
    },
    "papermill": {
     "duration": 0.048537,
     "end_time": "2021-09-30T09:59:54.827918",
     "exception": false,
     "start_time": "2021-09-30T09:59:54.779381",
     "status": "completed"
    },
    "tags": []
   },
   "outputs": [
    {
     "name": "stdout",
     "output_type": "stream",
     "text": [
      "121.98496240601504 72.24131274131274 32.27612781954887\n"
     ]
    }
   ],
   "source": [
    "#평균값으로 체우기\n",
    "idx = (train_data.iloc[:, 1] == 0)\n",
    "gluMean = train_data['Glucose'][~idx].mean()\n",
    "train_data.iloc[idx, 1] = gluMean\n",
    "idx = (train_data.iloc[:, 2] == 0)\n",
    "BPMean = train_data['BloodPressure'][~idx].mean()\n",
    "train_data.iloc[idx, 2] = BPMean\n",
    "idx = (train_data.iloc[:, 5] == 0)\n",
    "mbiMean = train_data['BMI'][~idx].mean()\n",
    "train_data.iloc[idx, 5] = mbiMean\n",
    "print(gluMean, BPMean, mbiMean)"
   ]
  },
  {
   "cell_type": "code",
   "execution_count": 7,
   "id": "bb94c828",
   "metadata": {
    "execution": {
     "iopub.execute_input": "2021-09-30T09:59:54.872285Z",
     "iopub.status.busy": "2021-09-30T09:59:54.871378Z",
     "iopub.status.idle": "2021-09-30T09:59:54.875984Z",
     "shell.execute_reply": "2021-09-30T09:59:54.876616Z",
     "shell.execute_reply.started": "2021-09-30T08:01:43.901593Z"
    },
    "papermill": {
     "duration": 0.030673,
     "end_time": "2021-09-30T09:59:54.876790",
     "exception": false,
     "start_time": "2021-09-30T09:59:54.846117",
     "status": "completed"
    },
    "tags": []
   },
   "outputs": [
    {
     "name": "stdout",
     "output_type": "stream",
     "text": [
      "0\n",
      "6\n"
     ]
    }
   ],
   "source": [
    "#확인용\n",
    "print((train_data.iloc[:,5]==0).sum())\n",
    "print((test_data.iloc[:,5]==0).sum())"
   ]
  },
  {
   "cell_type": "code",
   "execution_count": 8,
   "id": "d5ea36bd",
   "metadata": {
    "execution": {
     "iopub.execute_input": "2021-09-30T09:59:54.922756Z",
     "iopub.status.busy": "2021-09-30T09:59:54.922080Z",
     "iopub.status.idle": "2021-09-30T09:59:54.943384Z",
     "shell.execute_reply": "2021-09-30T09:59:54.944099Z",
     "shell.execute_reply.started": "2021-09-30T08:01:43.913103Z"
    },
    "papermill": {
     "duration": 0.050589,
     "end_time": "2021-09-30T09:59:54.944335",
     "exception": false,
     "start_time": "2021-09-30T09:59:54.893746",
     "status": "completed"
    },
    "tags": []
   },
   "outputs": [
    {
     "name": "stdout",
     "output_type": "stream",
     "text": [
      "torch.Size([537, 8])\n",
      "torch.Size([537])\n",
      "torch.Size([537, 1])\n"
     ]
    }
   ],
   "source": [
    "xtrain=np.array([train_data['Pregnancies'],train_data['Glucose'],train_data['BloodPressure'],train_data['SkinThickness'],train_data['Insulin'],train_data['BMI'],train_data['DiabetesPedigreeFunction'],train_data['Age']])\n",
    "xtrain=torch.FloatTensor(xtrain.T)\n",
    "ytrain=torch.FloatTensor(train_data['Diabetes'])\n",
    "print(xtrain.shape)\n",
    "print(ytrain.shape)\n",
    "print(ytrain.unsqueeze(1).shape)"
   ]
  },
  {
   "cell_type": "code",
   "execution_count": 9,
   "id": "705d3bbb",
   "metadata": {
    "execution": {
     "iopub.execute_input": "2021-09-30T09:59:54.985412Z",
     "iopub.status.busy": "2021-09-30T09:59:54.984680Z",
     "iopub.status.idle": "2021-09-30T10:02:13.237204Z",
     "shell.execute_reply": "2021-09-30T10:02:13.236688Z",
     "shell.execute_reply.started": "2021-09-30T08:01:43.96934Z"
    },
    "papermill": {
     "duration": 138.275766,
     "end_time": "2021-09-30T10:02:13.237376",
     "exception": false,
     "start_time": "2021-09-30T09:59:54.961610",
     "status": "completed"
    },
    "tags": []
   },
   "outputs": [
    {
     "name": "stdout",
     "output_type": "stream",
     "text": [
      "Epoch    0/500000 Cost: 0.693147\n",
      "Epoch 50000/500000 Cost: 0.570411\n",
      "Epoch 100000/500000 Cost: 0.562370\n",
      "Epoch 150000/500000 Cost: 0.554915\n",
      "Epoch 200000/500000 Cost: 0.548001\n",
      "Epoch 250000/500000 Cost: 0.541583\n",
      "Epoch 300000/500000 Cost: 0.535634\n",
      "Epoch 350000/500000 Cost: 0.530100\n",
      "Epoch 400000/500000 Cost: 0.524944\n",
      "Epoch 450000/500000 Cost: 0.520195\n",
      "Epoch 500000/500000 Cost: 0.515733\n"
     ]
    }
   ],
   "source": [
    "W=torch.zeros((8,1), requires_grad=True)\n",
    "b=torch.zeros(1, requires_grad=True)\n",
    "\n",
    "loss = torch.nn.BCELoss()\n",
    "optimizer = optim.SGD([W,b], lr=0.0002)\n",
    "\n",
    "nb_epochs=500000\n",
    "for epoch in range(nb_epochs + 1):\n",
    "    hypothesis=torch.sigmoid(xtrain.matmul(W)+b)\n",
    "    #cost = -(ytrain*torch.log(hypothesis)+(1-ytrain)*torch.log(1-hypothesis)).mean()\n",
    "    cost = loss(hypothesis, ytrain.unsqueeze(1))\n",
    "    optimizer.zero_grad()\n",
    "    cost.backward()\n",
    "    optimizer.step()\n",
    "    \n",
    "    if epoch%50000==0:\n",
    "        print('Epoch {:4d}/{} Cost: {:.6f}'.format(epoch, nb_epochs, cost.item()))"
   ]
  },
  {
   "cell_type": "code",
   "execution_count": 10,
   "id": "2be3ff2a",
   "metadata": {
    "execution": {
     "iopub.execute_input": "2021-09-30T10:02:13.281583Z",
     "iopub.status.busy": "2021-09-30T10:02:13.280875Z",
     "iopub.status.idle": "2021-09-30T10:02:13.304263Z",
     "shell.execute_reply": "2021-09-30T10:02:13.304926Z",
     "shell.execute_reply.started": "2021-09-30T08:02:59.640785Z"
    },
    "papermill": {
     "duration": 0.048842,
     "end_time": "2021-09-30T10:02:13.305147",
     "exception": false,
     "start_time": "2021-09-30T10:02:13.256305",
     "status": "completed"
    },
    "tags": []
   },
   "outputs": [
    {
     "name": "stdout",
     "output_type": "stream",
     "text": [
      "tensor([[ 0.0674],\n",
      "        [ 0.0254],\n",
      "        [-0.0477],\n",
      "        [-0.0072],\n",
      "        [-0.0003],\n",
      "        [ 0.0469],\n",
      "        [ 0.1494],\n",
      "        [ 0.0173]], requires_grad=True)\n",
      "tensor([-2.4984], requires_grad=True)\n"
     ]
    }
   ],
   "source": [
    "print(W)\n",
    "print(b)"
   ]
  },
  {
   "cell_type": "code",
   "execution_count": 11,
   "id": "98466fca",
   "metadata": {
    "execution": {
     "iopub.execute_input": "2021-09-30T10:02:13.348024Z",
     "iopub.status.busy": "2021-09-30T10:02:13.347391Z",
     "iopub.status.idle": "2021-09-30T10:02:13.355392Z",
     "shell.execute_reply": "2021-09-30T10:02:13.355875Z",
     "shell.execute_reply.started": "2021-09-30T08:02:59.649479Z"
    },
    "papermill": {
     "duration": 0.030922,
     "end_time": "2021-09-30T10:02:13.356051",
     "exception": false,
     "start_time": "2021-09-30T10:02:13.325129",
     "status": "completed"
    },
    "tags": []
   },
   "outputs": [],
   "source": [
    "#test데이터에도 0값 채우기\n",
    "idx = (test_data.iloc[:, 1] == 0)\n",
    "test_data.iloc[idx, 1] = gluMean\n",
    "idx = (test_data.iloc[:, 2] == 0)\n",
    "test_data.iloc[idx, 2] = BPMean\n",
    "idx = (test_data.iloc[:, 5] == 0)\n",
    "test_data.iloc[idx, 5] = mbiMean"
   ]
  },
  {
   "cell_type": "code",
   "execution_count": 12,
   "id": "3e5c2c0c",
   "metadata": {
    "execution": {
     "iopub.execute_input": "2021-09-30T10:02:13.397474Z",
     "iopub.status.busy": "2021-09-30T10:02:13.396822Z",
     "iopub.status.idle": "2021-09-30T10:02:13.403105Z",
     "shell.execute_reply": "2021-09-30T10:02:13.403699Z",
     "shell.execute_reply.started": "2021-09-30T08:02:59.661807Z"
    },
    "papermill": {
     "duration": 0.028793,
     "end_time": "2021-09-30T10:02:13.403859",
     "exception": false,
     "start_time": "2021-09-30T10:02:13.375066",
     "status": "completed"
    },
    "tags": []
   },
   "outputs": [
    {
     "name": "stdout",
     "output_type": "stream",
     "text": [
      "0\n",
      "0\n"
     ]
    }
   ],
   "source": [
    "print((train_data.iloc[:,5]==0).sum())\n",
    "print((test_data.iloc[:,5]==0).sum())"
   ]
  },
  {
   "cell_type": "code",
   "execution_count": 13,
   "id": "33945770",
   "metadata": {
    "execution": {
     "iopub.execute_input": "2021-09-30T10:02:13.446255Z",
     "iopub.status.busy": "2021-09-30T10:02:13.445632Z",
     "iopub.status.idle": "2021-09-30T10:02:13.459218Z",
     "shell.execute_reply": "2021-09-30T10:02:13.458577Z",
     "shell.execute_reply.started": "2021-09-30T08:02:59.675881Z"
    },
    "papermill": {
     "duration": 0.036255,
     "end_time": "2021-09-30T10:02:13.459429",
     "exception": false,
     "start_time": "2021-09-30T10:02:13.423174",
     "status": "completed"
    },
    "tags": []
   },
   "outputs": [
    {
     "name": "stdout",
     "output_type": "stream",
     "text": [
      "tensor([[0.],\n",
      "        [0.],\n",
      "        [0.],\n",
      "        [0.]], grad_fn=<SliceBackward>)\n"
     ]
    }
   ],
   "source": [
    "xtest=torch.FloatTensor(np.array([test_data['Pregnancies'],test_data['Glucose'],test_data['BloodPressure'],test_data['SkinThickness'],test_data['Insulin'],test_data['BMI'],test_data['DiabetesPedigreeFunction'],test_data['Age']]))\n",
    "xtest=xtest.T\n",
    "ytest=torch.sigmoid(xtest.matmul(W)+b)\n",
    "idx = ytest >= torch.FloatTensor([0.5])\n",
    "ytest[idx]=1\n",
    "ytest[~idx]=0\n",
    "print(ytest[1:5])"
   ]
  },
  {
   "cell_type": "code",
   "execution_count": 14,
   "id": "2ec67c52",
   "metadata": {
    "execution": {
     "iopub.execute_input": "2021-09-30T10:02:13.504993Z",
     "iopub.status.busy": "2021-09-30T10:02:13.504179Z",
     "iopub.status.idle": "2021-09-30T10:02:13.512917Z",
     "shell.execute_reply": "2021-09-30T10:02:13.513460Z",
     "shell.execute_reply.started": "2021-09-30T08:02:59.688008Z"
    },
    "papermill": {
     "duration": 0.033913,
     "end_time": "2021-09-30T10:02:13.513625",
     "exception": false,
     "start_time": "2021-09-30T10:02:13.479712",
     "status": "completed"
    },
    "tags": []
   },
   "outputs": [
    {
     "name": "stdout",
     "output_type": "stream",
     "text": [
      "   ID  Diabetes\n",
      "0   0         0\n",
      "1   1         0\n",
      "2   2         0\n",
      "3   3         0\n",
      "4   4         0\n"
     ]
    }
   ],
   "source": [
    "submit_data['Diabetes']=ytest.detach().int().numpy()\n",
    "print(submit_data.head())"
   ]
  },
  {
   "cell_type": "code",
   "execution_count": 15,
   "id": "140cd0d1",
   "metadata": {
    "execution": {
     "iopub.execute_input": "2021-09-30T10:02:13.557573Z",
     "iopub.status.busy": "2021-09-30T10:02:13.556903Z",
     "iopub.status.idle": "2021-09-30T10:02:13.565721Z",
     "shell.execute_reply": "2021-09-30T10:02:13.565175Z",
     "shell.execute_reply.started": "2021-09-30T08:02:59.703957Z"
    },
    "papermill": {
     "duration": 0.032129,
     "end_time": "2021-09-30T10:02:13.565866",
     "exception": false,
     "start_time": "2021-09-30T10:02:13.533737",
     "status": "completed"
    },
    "tags": []
   },
   "outputs": [],
   "source": [
    "submit_data.to_csv(\"submission.csv\",mode='w',index=False)"
   ]
  }
 ],
 "metadata": {
  "kernelspec": {
   "display_name": "Python 3",
   "language": "python",
   "name": "python3"
  },
  "language_info": {
   "codemirror_mode": {
    "name": "ipython",
    "version": 3
   },
   "file_extension": ".py",
   "mimetype": "text/x-python",
   "name": "python",
   "nbconvert_exporter": "python",
   "pygments_lexer": "ipython3",
   "version": "3.7.10"
  },
  "papermill": {
   "default_parameters": {},
   "duration": 148.705744,
   "end_time": "2021-09-30T10:02:14.195905",
   "environment_variables": {},
   "exception": null,
   "input_path": "__notebook__.ipynb",
   "output_path": "__notebook__.ipynb",
   "parameters": {},
   "start_time": "2021-09-30T09:59:45.490161",
   "version": "2.3.3"
  }
 },
 "nbformat": 4,
 "nbformat_minor": 5
}
