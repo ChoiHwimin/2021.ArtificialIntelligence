{
 "cells": [
  {
   "cell_type": "code",
   "execution_count": 1,
   "id": "fffeb2a0",
   "metadata": {
    "_cell_guid": "b1076dfc-b9ad-4769-8c92-a6c4dae69d19",
    "_uuid": "8f2839f25d086af736a60e9eeb907d3b93b6e0e5",
    "execution": {
     "iopub.execute_input": "2021-10-01T19:39:32.977726Z",
     "iopub.status.busy": "2021-10-01T19:39:32.976216Z",
     "iopub.status.idle": "2021-10-01T19:39:33.056611Z",
     "shell.execute_reply": "2021-10-01T19:39:33.057165Z",
     "shell.execute_reply.started": "2021-09-30T15:29:07.757191Z"
    },
    "papermill": {
     "duration": 0.095217,
     "end_time": "2021-10-01T19:39:33.057472",
     "exception": false,
     "start_time": "2021-10-01T19:39:32.962255",
     "status": "completed"
    },
    "tags": []
   },
   "outputs": [
    {
     "name": "stdout",
     "output_type": "stream",
     "text": [
      "/kaggle/input/2021-ai-w4-p2/sample.csv\n",
      "/kaggle/input/2021-ai-w4-p2/train.csv\n",
      "/kaggle/input/2021-ai-w4-p2/test.csv\n"
     ]
    }
   ],
   "source": [
    "# This Python 3 environment comes with many helpful analytics libraries installed\n",
    "# It is defined by the kaggle/python Docker image: https://github.com/kaggle/docker-python\n",
    "# For example, here's several helpful packages to load\n",
    "\n",
    "import numpy as np # linear algebra\n",
    "import pandas as pd # data processing, CSV file I/O (e.g. pd.read_csv)\n",
    "\n",
    "# Input data files are available in the read-only \"../input/\" directory\n",
    "# For example, running this (by clicking run or pressing Shift+Enter) will list all files under the input directory\n",
    "\n",
    "import os\n",
    "for dirname, _, filenames in os.walk('/kaggle/input'):\n",
    "    for filename in filenames:\n",
    "        print(os.path.join(dirname, filename))\n",
    "\n",
    "# You can write up to 20GB to the current directory (/kaggle/working/) that gets preserved as output when you create a version using \"Save & Run All\" \n",
    "# You can also write temporary files to /kaggle/temp/, but they won't be saved outside of the current session"
   ]
  },
  {
   "cell_type": "code",
   "execution_count": 2,
   "id": "afb009f3",
   "metadata": {
    "execution": {
     "iopub.execute_input": "2021-10-01T19:39:33.083849Z",
     "iopub.status.busy": "2021-10-01T19:39:33.083273Z",
     "iopub.status.idle": "2021-10-01T19:39:37.454579Z",
     "shell.execute_reply": "2021-10-01T19:39:37.453597Z",
     "shell.execute_reply.started": "2021-09-30T15:29:07.768254Z"
    },
    "papermill": {
     "duration": 4.385143,
     "end_time": "2021-10-01T19:39:37.454710",
     "exception": false,
     "start_time": "2021-10-01T19:39:33.069567",
     "status": "completed"
    },
    "tags": []
   },
   "outputs": [],
   "source": [
    "import torch\n",
    "import torch.optim as optim"
   ]
  },
  {
   "cell_type": "code",
   "execution_count": 3,
   "id": "e164f653",
   "metadata": {
    "execution": {
     "iopub.execute_input": "2021-10-01T19:39:37.479224Z",
     "iopub.status.busy": "2021-10-01T19:39:37.478601Z",
     "iopub.status.idle": "2021-10-01T19:39:37.486235Z",
     "shell.execute_reply": "2021-10-01T19:39:37.486674Z",
     "shell.execute_reply.started": "2021-09-30T15:29:12.038801Z"
    },
    "papermill": {
     "duration": 0.021762,
     "end_time": "2021-10-01T19:39:37.486806",
     "exception": false,
     "start_time": "2021-10-01T19:39:37.465044",
     "status": "completed"
    },
    "tags": []
   },
   "outputs": [
    {
     "data": {
      "text/plain": [
       "<torch._C.Generator at 0x7ff3057363b0>"
      ]
     },
     "execution_count": 3,
     "metadata": {},
     "output_type": "execute_result"
    }
   ],
   "source": [
    "torch.manual_seed(1)"
   ]
  },
  {
   "cell_type": "code",
   "execution_count": 4,
   "id": "f88daba1",
   "metadata": {
    "execution": {
     "iopub.execute_input": "2021-10-01T19:39:37.511287Z",
     "iopub.status.busy": "2021-10-01T19:39:37.510689Z",
     "iopub.status.idle": "2021-10-01T19:39:37.573961Z",
     "shell.execute_reply": "2021-10-01T19:39:37.574696Z",
     "shell.execute_reply.started": "2021-09-30T15:29:12.054097Z"
    },
    "papermill": {
     "duration": 0.07801,
     "end_time": "2021-10-01T19:39:37.574876",
     "exception": false,
     "start_time": "2021-10-01T19:39:37.496866",
     "status": "completed"
    },
    "tags": []
   },
   "outputs": [
    {
     "name": "stdout",
     "output_type": "stream",
     "text": [
      "    N    P    K  temperature   humidity        ph    rainfall        label\n",
      "0  22   36   16    30.581395  50.771481  8.184229   64.585596    mothbeans\n",
      "1  18   27   41    22.365094  92.308824  7.175344  104.821633  pomegranate\n",
      "2  61   68   50    35.214628  91.497251  6.793245  243.074507       papaya\n",
      "3  26   72   22    28.767949  37.577921  4.674942   91.720849   pigeonpeas\n",
      "4   2  140  197    22.697801  92.822234  5.534567  105.050823        apple\n",
      "<class 'pandas.core.frame.DataFrame'>\n",
      "RangeIndex: 550 entries, 0 to 549\n",
      "Data columns (total 7 columns):\n",
      " #   Column       Non-Null Count  Dtype  \n",
      "---  ------       --------------  -----  \n",
      " 0   N            550 non-null    int64  \n",
      " 1   P            550 non-null    int64  \n",
      " 2   K            550 non-null    int64  \n",
      " 3   temperature  550 non-null    float64\n",
      " 4   humidity     550 non-null    float64\n",
      " 5   ph           550 non-null    float64\n",
      " 6   rainfall     550 non-null    float64\n",
      "dtypes: float64(4), int64(3)\n",
      "memory usage: 30.2 KB\n",
      "None\n",
      "   id   label\n",
      "0   0  coffee\n",
      "1   1  coffee\n",
      "2   2  coffee\n",
      "3   3  coffee\n",
      "4   4  coffee\n"
     ]
    }
   ],
   "source": [
    "train_data=pd.read_csv(\"/kaggle/input/2021-ai-w4-p2/train.csv\")\n",
    "test_data=pd.read_csv(\"/kaggle/input/2021-ai-w4-p2/test.csv\")\n",
    "sample_data=pd.read_csv(\"/kaggle/input/2021-ai-w4-p2/sample.csv\")\n",
    "print(train_data.head())\n",
    "print(test_data.info())\n",
    "print(sample_data.head())"
   ]
  },
  {
   "cell_type": "code",
   "execution_count": 5,
   "id": "f27682ef",
   "metadata": {
    "execution": {
     "iopub.execute_input": "2021-10-01T19:39:37.601451Z",
     "iopub.status.busy": "2021-10-01T19:39:37.600660Z",
     "iopub.status.idle": "2021-10-01T19:39:37.610769Z",
     "shell.execute_reply": "2021-10-01T19:39:37.611377Z",
     "shell.execute_reply.started": "2021-09-30T15:29:12.114437Z"
    },
    "papermill": {
     "duration": 0.025797,
     "end_time": "2021-10-01T19:39:37.611546",
     "exception": false,
     "start_time": "2021-10-01T19:39:37.585749",
     "status": "completed"
    },
    "tags": []
   },
   "outputs": [
    {
     "name": "stdout",
     "output_type": "stream",
     "text": [
      "N               0.000000\n",
      "P               5.000000\n",
      "K               5.000000\n",
      "temperature     8.825675\n",
      "humidity       14.273280\n",
      "ph              3.504752\n",
      "rainfall       20.360011\n",
      "dtype: float64\n",
      "N              140.000000\n",
      "P              145.000000\n",
      "K              205.000000\n",
      "temperature     43.675493\n",
      "humidity        99.981876\n",
      "ph               9.935091\n",
      "rainfall       298.560117\n",
      "dtype: float64\n",
      "N               0.000000\n",
      "P               5.000000\n",
      "K               5.000000\n",
      "temperature     9.467960\n",
      "humidity       14.258040\n",
      "ph              3.510404\n",
      "rainfall       20.211267\n",
      "dtype: float64\n",
      "N              140.000000\n",
      "P              145.000000\n",
      "K              205.000000\n",
      "temperature     43.360515\n",
      "humidity        99.724010\n",
      "ph               9.679241\n",
      "rainfall       295.924880\n",
      "dtype: float64\n"
     ]
    }
   ],
   "source": [
    "print(train_data.iloc[:,:-1].min())\n",
    "print(train_data.iloc[:,:-1].max())\n",
    "print(test_data.iloc[:,:].min())\n",
    "print(test_data.iloc[:,:].max())"
   ]
  },
  {
   "cell_type": "code",
   "execution_count": 6,
   "id": "248242ae",
   "metadata": {
    "execution": {
     "iopub.execute_input": "2021-10-01T19:39:37.644020Z",
     "iopub.status.busy": "2021-10-01T19:39:37.642991Z",
     "iopub.status.idle": "2021-10-01T19:39:37.646974Z",
     "shell.execute_reply": "2021-10-01T19:39:37.647374Z",
     "shell.execute_reply.started": "2021-09-30T15:29:12.134142Z"
    },
    "papermill": {
     "duration": 0.024578,
     "end_time": "2021-10-01T19:39:37.647506",
     "exception": false,
     "start_time": "2021-10-01T19:39:37.622928",
     "status": "completed"
    },
    "tags": []
   },
   "outputs": [
    {
     "name": "stdout",
     "output_type": "stream",
     "text": [
      "    N    P    K  temperature   humidity        ph    rainfall\n",
      "0  22   36   16    30.581395  50.771481  8.184229   64.585596\n",
      "1  18   27   41    22.365094  92.308824  7.175344  104.821633\n",
      "2  61   68   50    35.214628  91.497251  6.793245  243.074507\n",
      "3  26   72   22    28.767949  37.577921  4.674942   91.720849\n",
      "4   2  140  197    22.697801  92.822234  5.534567  105.050823\n",
      "Index(['mothbeans', 'pomegranate', 'papaya', 'pigeonpeas', 'apple',\n",
      "       'kidneybeans', 'orange', 'rice', 'mungbean', 'watermelon', 'coconut',\n",
      "       'jute', 'lentil', 'chickpea', 'cotton', 'grapes', 'mango', 'muskmelon',\n",
      "       'maize', 'coffee', 'banana', 'blackgram'],\n",
      "      dtype='object')\n",
      "[0 1 2 3 4]\n"
     ]
    }
   ],
   "source": [
    "xtrain=train_data.iloc[: , :-1]\n",
    "# xtrain=torch.FloatTensor(np.array(train_data.iloc[: , :-1]))#.cuda()\n",
    "ytrain, enocde_class= pd.factorize(train_data['label'])\n",
    "# ytrain=torch.LongTensor(ytrain)#.cuda()\n",
    "\n",
    "print(xtrain[:5])\n",
    "print(enocde_class)\n",
    "print(ytrain[:5])"
   ]
  },
  {
   "cell_type": "code",
   "execution_count": 7,
   "id": "cc1ebdd9",
   "metadata": {
    "execution": {
     "iopub.execute_input": "2021-10-01T19:39:37.673515Z",
     "iopub.status.busy": "2021-10-01T19:39:37.672985Z",
     "iopub.status.idle": "2021-10-01T19:39:38.388471Z",
     "shell.execute_reply": "2021-10-01T19:39:38.387826Z",
     "shell.execute_reply.started": "2021-09-30T15:29:12.150636Z"
    },
    "papermill": {
     "duration": 0.730282,
     "end_time": "2021-10-01T19:39:38.388665",
     "exception": false,
     "start_time": "2021-10-01T19:39:37.658383",
     "status": "completed"
    },
    "tags": []
   },
   "outputs": [
    {
     "name": "stdout",
     "output_type": "stream",
     "text": [
      "[[-7.74026344e-01 -5.22604462e-01 -6.28724908e-01 ... -9.51256909e-01\n",
      "   2.19982609e+00 -6.86012983e-01]\n",
      " [-8.81256962e-01 -7.93767155e-01 -1.37942559e-01 ...  9.39856699e-01\n",
      "   9.02028907e-01  4.18192366e-02]\n",
      " [ 2.71472181e-01  4.41529556e-01  3.87390868e-02 ...  9.02907360e-01\n",
      "   4.10508789e-01  2.54268422e+00]\n",
      " ...\n",
      " [-1.06891054e+00 -5.22604462e-01 -3.34255499e-01 ... -9.05356554e-01\n",
      "   1.70580458e-03 -4.07223532e-02]\n",
      " [-1.06891054e+00  2.12876409e+00  3.06195836e+00 ...  3.82480441e-01\n",
      "  -1.45336714e-01 -5.62739020e-01]\n",
      " [-5.05949799e-01  7.42821437e-01 -5.10937144e-01 ... -4.23855858e-01\n",
      "   6.85524273e-01 -8.88186049e-01]]\n"
     ]
    }
   ],
   "source": [
    "from sklearn.preprocessing import StandardScaler\n",
    "scaler = StandardScaler()\n",
    "\n",
    "scaler.fit(xtrain)\n",
    "xtrain = scaler.transform(xtrain)\n",
    "print(xtrain)"
   ]
  },
  {
   "cell_type": "code",
   "execution_count": 8,
   "id": "0f4f2a49",
   "metadata": {
    "execution": {
     "iopub.execute_input": "2021-10-01T19:39:38.422363Z",
     "iopub.status.busy": "2021-10-01T19:39:38.421834Z",
     "iopub.status.idle": "2021-10-01T19:39:43.924546Z",
     "shell.execute_reply": "2021-10-01T19:39:43.924075Z",
     "shell.execute_reply.started": "2021-09-30T15:29:12.788897Z"
    },
    "papermill": {
     "duration": 5.523235,
     "end_time": "2021-10-01T19:39:43.924804",
     "exception": false,
     "start_time": "2021-10-01T19:39:38.401569",
     "status": "completed"
    },
    "tags": []
   },
   "outputs": [],
   "source": [
    "\n",
    "xtrain=torch.FloatTensor(np.array(xtrain)).cuda()\n",
    "\n",
    "ytrain=torch.LongTensor(ytrain).cuda()"
   ]
  },
  {
   "cell_type": "code",
   "execution_count": 9,
   "id": "07e69af0",
   "metadata": {
    "execution": {
     "iopub.execute_input": "2021-10-01T19:39:43.961665Z",
     "iopub.status.busy": "2021-10-01T19:39:43.958738Z",
     "iopub.status.idle": "2021-10-01T19:39:54.419158Z",
     "shell.execute_reply": "2021-10-01T19:39:54.420001Z",
     "shell.execute_reply.started": "2021-09-30T15:29:18.19206Z"
    },
    "papermill": {
     "duration": 10.481921,
     "end_time": "2021-10-01T19:39:54.420197",
     "exception": false,
     "start_time": "2021-10-01T19:39:43.938276",
     "status": "completed"
    },
    "tags": []
   },
   "outputs": [
    {
     "name": "stdout",
     "output_type": "stream",
     "text": [
      "Epoch    0/10000 Cost: 3.091043\n",
      "Epoch 1000/10000 Cost: 2.186612\n",
      "Epoch 2000/10000 Cost: 2.184547\n",
      "Epoch 3000/10000 Cost: 2.183713\n",
      "Epoch 4000/10000 Cost: 2.183257\n",
      "Epoch 5000/10000 Cost: 2.182951\n",
      "Epoch 6000/10000 Cost: 2.182714\n",
      "Epoch 7000/10000 Cost: 2.182523\n",
      "Epoch 8000/10000 Cost: 2.182361\n",
      "Epoch 9000/10000 Cost: 2.182251\n",
      "Epoch 10000/10000 Cost: 2.182173\n"
     ]
    }
   ],
   "source": [
    "import torch.nn.functional as F  # for softmax\n",
    "\n",
    "# 모델 초기화\n",
    "nb_class = 22\n",
    "nb_data = len(ytrain)\n",
    "\n",
    "W = torch.zeros((7, nb_class), requires_grad=True, device=\"cuda\")\n",
    "b = torch.zeros(1, requires_grad=True, device=\"cuda\")\n",
    "\n",
    "# optimizer 설정\n",
    "optimizer = optim.Adam([W, b], lr=1)\n",
    "nb_epochs = 10000\n",
    "for epoch in range(nb_epochs + 1):\n",
    "\n",
    "    # Cost 계산 (1)\n",
    "    hypothesis = F.softmax(xtrain.matmul(W) + b, dim=1) # or .mm or @\n",
    "    \n",
    "    # cost \n",
    "    y_one_hot = torch.zeros(nb_data, nb_class).cuda()\n",
    "    y_one_hot.scatter_(1, ytrain.unsqueeze(1), 1)\n",
    "    cost = (y_one_hot * -torch.log(F.softmax(hypothesis, dim=1))).sum(dim=1).mean()\n",
    "    \n",
    "    # cost로 H(x) 개선\n",
    "    optimizer.zero_grad()\n",
    "    cost.backward()\n",
    "    optimizer.step()\n",
    "\n",
    "    # 100번마다 로그 출력\n",
    "    if epoch % 1000 == 0:\n",
    "        print('Epoch {:4d}/{} Cost: {:.6f}'.format(\n",
    "            epoch, nb_epochs, cost.item()\n",
    "        ))"
   ]
  },
  {
   "cell_type": "code",
   "execution_count": 10,
   "id": "0cbf7e22",
   "metadata": {
    "execution": {
     "iopub.execute_input": "2021-10-01T19:39:54.455542Z",
     "iopub.status.busy": "2021-10-01T19:39:54.453640Z",
     "iopub.status.idle": "2021-10-01T19:39:54.488662Z",
     "shell.execute_reply": "2021-10-01T19:39:54.488085Z",
     "shell.execute_reply.started": "2021-09-30T15:29:28.924315Z"
    },
    "papermill": {
     "duration": 0.053567,
     "end_time": "2021-10-01T19:39:54.488803",
     "exception": false,
     "start_time": "2021-10-01T19:39:54.435236",
     "status": "completed"
    },
    "tags": []
   },
   "outputs": [
    {
     "name": "stdout",
     "output_type": "stream",
     "text": [
      "tensor([[1.0000e+00, 0.0000e+00, 0.0000e+00,  ..., 0.0000e+00, 0.0000e+00,\n",
      "         0.0000e+00],\n",
      "        [0.0000e+00, 1.0000e+00, 0.0000e+00,  ..., 0.0000e+00, 0.0000e+00,\n",
      "         0.0000e+00],\n",
      "        [0.0000e+00, 0.0000e+00, 1.0000e+00,  ..., 0.0000e+00, 1.4013e-45,\n",
      "         0.0000e+00],\n",
      "        ...,\n",
      "        [6.2560e-12, 0.0000e+00, 0.0000e+00,  ..., 0.0000e+00, 0.0000e+00,\n",
      "         0.0000e+00],\n",
      "        [0.0000e+00, 0.0000e+00, 0.0000e+00,  ..., 0.0000e+00, 0.0000e+00,\n",
      "         0.0000e+00],\n",
      "        [0.0000e+00, 0.0000e+00, 0.0000e+00,  ..., 0.0000e+00, 0.0000e+00,\n",
      "         9.3345e-24]], device='cuda:0', grad_fn=<SoftmaxBackward>)\n",
      "tensor([True, True, True,  ..., True, True, True], device='cuda:0')\n",
      "The model has an accuracy of 98.42% for the training set.\n"
     ]
    }
   ],
   "source": [
    "hypothesis = F.softmax(xtrain.matmul(W) + b, dim=1) # or .mm or @\n",
    "predict = torch.argmax(hypothesis, dim=1)\n",
    "\n",
    "print(hypothesis)\n",
    "\n",
    "\n",
    "# 정확도 계산 \n",
    "correct_prediction = predict.float() == ytrain\n",
    "print(correct_prediction)\n",
    "accuracy = correct_prediction.sum().item() / len(correct_prediction)\n",
    "print('The model has an accuracy of {:2.2f}% for the training set.'.format(accuracy * 100))\n"
   ]
  },
  {
   "cell_type": "code",
   "execution_count": 11,
   "id": "617278b6",
   "metadata": {
    "execution": {
     "iopub.execute_input": "2021-10-01T19:39:54.523478Z",
     "iopub.status.busy": "2021-10-01T19:39:54.522975Z",
     "iopub.status.idle": "2021-10-01T19:39:54.627598Z",
     "shell.execute_reply": "2021-10-01T19:39:54.626898Z",
     "shell.execute_reply.started": "2021-09-30T15:29:28.985796Z"
    },
    "papermill": {
     "duration": 0.12399,
     "end_time": "2021-10-01T19:39:54.627772",
     "exception": false,
     "start_time": "2021-10-01T19:39:54.503782",
     "status": "completed"
    },
    "tags": []
   },
   "outputs": [
    {
     "name": "stdout",
     "output_type": "stream",
     "text": [
      "['muskmelon' 'watermelon' 'papaya' 'papaya' 'apple']\n"
     ]
    }
   ],
   "source": [
    "xtest = torch.FloatTensor(scaler.transform(np.array(test_data))).cuda()\n",
    "hypothesis = F.softmax(xtest.matmul(W) + b, dim=1) # or .mm or @\n",
    "predict = torch.argmax(hypothesis, dim=1).cuda()\n",
    "ytest=sample_data['label'].values\n",
    "i=0\n",
    "for idx in predict:\n",
    "    ytest[i]=enocde_class[idx]\n",
    "    i+=1\n",
    "print(ytest[:5])"
   ]
  },
  {
   "cell_type": "code",
   "execution_count": 12,
   "id": "91432641",
   "metadata": {
    "execution": {
     "iopub.execute_input": "2021-10-01T19:39:54.665988Z",
     "iopub.status.busy": "2021-10-01T19:39:54.664434Z",
     "iopub.status.idle": "2021-10-01T19:39:54.668398Z",
     "shell.execute_reply": "2021-10-01T19:39:54.667795Z",
     "shell.execute_reply.started": "2021-09-30T15:29:29.022827Z"
    },
    "papermill": {
     "duration": 0.024815,
     "end_time": "2021-10-01T19:39:54.668554",
     "exception": false,
     "start_time": "2021-10-01T19:39:54.643739",
     "status": "completed"
    },
    "tags": []
   },
   "outputs": [
    {
     "name": "stdout",
     "output_type": "stream",
     "text": [
      "   id       label\n",
      "0   0   muskmelon\n",
      "1   1  watermelon\n",
      "2   2      papaya\n",
      "3   3      papaya\n",
      "4   4       apple\n"
     ]
    }
   ],
   "source": [
    "sample_data['label']=ytest\n",
    "print(sample_data.head())"
   ]
  },
  {
   "cell_type": "code",
   "execution_count": 13,
   "id": "9296a07d",
   "metadata": {
    "execution": {
     "iopub.execute_input": "2021-10-01T19:39:54.703375Z",
     "iopub.status.busy": "2021-10-01T19:39:54.702809Z",
     "iopub.status.idle": "2021-10-01T19:39:54.708337Z",
     "shell.execute_reply": "2021-10-01T19:39:54.708747Z",
     "shell.execute_reply.started": "2021-09-30T15:29:29.04234Z"
    },
    "papermill": {
     "duration": 0.024069,
     "end_time": "2021-10-01T19:39:54.708874",
     "exception": false,
     "start_time": "2021-10-01T19:39:54.684805",
     "status": "completed"
    },
    "tags": []
   },
   "outputs": [],
   "source": [
    "sample_data.to_csv(\"submission.csv\",mode='w',index=False)"
   ]
  }
 ],
 "metadata": {
  "kernelspec": {
   "display_name": "Python 3",
   "language": "python",
   "name": "python3"
  },
  "language_info": {
   "codemirror_mode": {
    "name": "ipython",
    "version": 3
   },
   "file_extension": ".py",
   "mimetype": "text/x-python",
   "name": "python",
   "nbconvert_exporter": "python",
   "pygments_lexer": "ipython3",
   "version": "3.7.10"
  },
  "papermill": {
   "default_parameters": {},
   "duration": 29.603073,
   "end_time": "2021-10-01T19:39:56.085447",
   "environment_variables": {},
   "exception": null,
   "input_path": "__notebook__.ipynb",
   "output_path": "__notebook__.ipynb",
   "parameters": {},
   "start_time": "2021-10-01T19:39:26.482374",
   "version": "2.3.3"
  }
 },
 "nbformat": 4,
 "nbformat_minor": 5
}
