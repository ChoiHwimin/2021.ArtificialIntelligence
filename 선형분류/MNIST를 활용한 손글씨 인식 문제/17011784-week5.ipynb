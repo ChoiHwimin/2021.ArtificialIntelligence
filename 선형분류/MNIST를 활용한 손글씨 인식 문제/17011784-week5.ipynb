{
 "cells": [
  {
   "cell_type": "code",
   "execution_count": 1,
   "id": "394369a7",
   "metadata": {
    "_cell_guid": "b1076dfc-b9ad-4769-8c92-a6c4dae69d19",
    "_uuid": "8f2839f25d086af736a60e9eeb907d3b93b6e0e5",
    "execution": {
     "iopub.execute_input": "2021-10-03T14:07:17.712445Z",
     "iopub.status.busy": "2021-10-03T14:07:17.710954Z",
     "iopub.status.idle": "2021-10-03T14:07:17.791326Z",
     "shell.execute_reply": "2021-10-03T14:07:17.791773Z",
     "shell.execute_reply.started": "2021-10-03T14:06:08.308565Z"
    },
    "papermill": {
     "duration": 0.094957,
     "end_time": "2021-10-03T14:07:17.792047",
     "exception": false,
     "start_time": "2021-10-03T14:07:17.697090",
     "status": "completed"
    },
    "tags": []
   },
   "outputs": [
    {
     "name": "stdout",
     "output_type": "stream",
     "text": [
      "/kaggle/input/2021-ai-w5-p1/train.csv\n",
      "/kaggle/input/2021-ai-w5-p1/test.csv\n",
      "/kaggle/input/2021-ai-w5-p1/sample_submit.csv\n"
     ]
    }
   ],
   "source": [
    "#### This Python 3 environment comes with many helpful analytics libraries installed\n",
    "# It is defined by the kaggle/python Docker image: https://github.com/kaggle/docker-python\n",
    "# For example, here's several helpful packages to load\n",
    "\n",
    "import numpy as np # linear algebra\n",
    "import pandas as pd # data processing, CSV file I/O (e.g. pd.read_csv)\n",
    "\n",
    "# Input data files are available in the read-only \"../input/\" directory\n",
    "# For example, running this (by clicking run or pressing Shift+Enter) will list all files under the input directory\n",
    "\n",
    "import os\n",
    "for dirname, _, filenames in os.walk('/kaggle/input'):\n",
    "    for filename in filenames:\n",
    "        print(os.path.join(dirname, filename))\n",
    "\n",
    "# You can write up to 20GB to the current directory (/kaggle/working/) that gets preserved as output when you create a version using \"Save & Run All\" \n",
    "# You can also write temporary files to /kaggle/temp/, but they won't be saved outside of the current session"
   ]
  },
  {
   "cell_type": "code",
   "execution_count": 2,
   "id": "98d140ad",
   "metadata": {
    "execution": {
     "iopub.execute_input": "2021-10-03T14:07:17.814847Z",
     "iopub.status.busy": "2021-10-03T14:07:17.814343Z",
     "iopub.status.idle": "2021-10-03T14:07:22.168188Z",
     "shell.execute_reply": "2021-10-03T14:07:22.167650Z",
     "shell.execute_reply.started": "2021-10-03T14:06:08.411290Z"
    },
    "papermill": {
     "duration": 4.366261,
     "end_time": "2021-10-03T14:07:22.168353",
     "exception": false,
     "start_time": "2021-10-03T14:07:17.802092",
     "status": "completed"
    },
    "tags": []
   },
   "outputs": [],
   "source": [
    "import torch\n",
    "import torch.optim as optim"
   ]
  },
  {
   "cell_type": "code",
   "execution_count": 3,
   "id": "6e5e6c1f",
   "metadata": {
    "execution": {
     "iopub.execute_input": "2021-10-03T14:07:22.193909Z",
     "iopub.status.busy": "2021-10-03T14:07:22.193222Z",
     "iopub.status.idle": "2021-10-03T14:07:22.201921Z",
     "shell.execute_reply": "2021-10-03T14:07:22.202401Z",
     "shell.execute_reply.started": "2021-10-03T14:06:12.821756Z"
    },
    "papermill": {
     "duration": 0.023466,
     "end_time": "2021-10-03T14:07:22.202555",
     "exception": false,
     "start_time": "2021-10-03T14:07:22.179089",
     "status": "completed"
    },
    "tags": []
   },
   "outputs": [
    {
     "data": {
      "text/plain": [
       "<torch._C.Generator at 0x7f59d41993d0>"
      ]
     },
     "execution_count": 3,
     "metadata": {},
     "output_type": "execute_result"
    }
   ],
   "source": [
    "torch.manual_seed(1)"
   ]
  },
  {
   "cell_type": "code",
   "execution_count": 4,
   "id": "eae8ed62",
   "metadata": {
    "execution": {
     "iopub.execute_input": "2021-10-03T14:07:22.227693Z",
     "iopub.status.busy": "2021-10-03T14:07:22.226818Z",
     "iopub.status.idle": "2021-10-03T14:07:27.216071Z",
     "shell.execute_reply": "2021-10-03T14:07:27.216629Z",
     "shell.execute_reply.started": "2021-10-03T14:06:12.836678Z"
    },
    "papermill": {
     "duration": 5.004282,
     "end_time": "2021-10-03T14:07:27.216801",
     "exception": false,
     "start_time": "2021-10-03T14:07:22.212519",
     "status": "completed"
    },
    "tags": []
   },
   "outputs": [
    {
     "name": "stdout",
     "output_type": "stream",
     "text": [
      "(60000, 785)\n",
      "(10000, 784)\n",
      "(10000, 2)\n"
     ]
    }
   ],
   "source": [
    "train_data=pd.read_csv(\"/kaggle/input/2021-ai-w5-p1/train.csv\")\n",
    "test_data=pd.read_csv(\"/kaggle/input/2021-ai-w5-p1/test.csv\")\n",
    "submit_data=pd.read_csv(\"/kaggle/input/2021-ai-w5-p1/sample_submit.csv\")\n",
    "print(train_data.shape)\n",
    "print(test_data.shape)\n",
    "print(submit_data.shape)"
   ]
  },
  {
   "cell_type": "code",
   "execution_count": 5,
   "id": "79b71038",
   "metadata": {
    "execution": {
     "iopub.execute_input": "2021-10-03T14:07:27.240680Z",
     "iopub.status.busy": "2021-10-03T14:07:27.240035Z",
     "iopub.status.idle": "2021-10-03T14:07:27.322074Z",
     "shell.execute_reply": "2021-10-03T14:07:27.322648Z",
     "shell.execute_reply.started": "2021-10-03T14:06:18.513511Z"
    },
    "papermill": {
     "duration": 0.095656,
     "end_time": "2021-10-03T14:07:27.322812",
     "exception": false,
     "start_time": "2021-10-03T14:07:27.227156",
     "status": "completed"
    },
    "tags": []
   },
   "outputs": [
    {
     "name": "stdout",
     "output_type": "stream",
     "text": [
      "<class 'pandas.core.frame.DataFrame'>\n",
      "RangeIndex: 60000 entries, 0 to 59999\n",
      "Columns: 785 entries, label to 28x28\n",
      "dtypes: int64(785)\n",
      "memory usage: 359.3 MB\n",
      "None\n",
      "<class 'pandas.core.frame.DataFrame'>\n",
      "RangeIndex: 10000 entries, 0 to 9999\n",
      "Columns: 784 entries, 1x1 to 28x28\n",
      "dtypes: int64(784)\n",
      "memory usage: 59.8 MB\n",
      "None\n"
     ]
    }
   ],
   "source": [
    "print(train_data.info())\n",
    "print(test_data.info())\n",
    "# print(submit_data.head())"
   ]
  },
  {
   "cell_type": "code",
   "execution_count": 6,
   "id": "3ebef7a9",
   "metadata": {
    "execution": {
     "iopub.execute_input": "2021-10-03T14:07:27.354363Z",
     "iopub.status.busy": "2021-10-03T14:07:27.353839Z",
     "iopub.status.idle": "2021-10-03T14:07:33.175975Z",
     "shell.execute_reply": "2021-10-03T14:07:33.175199Z",
     "shell.execute_reply.started": "2021-10-03T14:06:18.597192Z"
    },
    "papermill": {
     "duration": 5.842375,
     "end_time": "2021-10-03T14:07:33.176123",
     "exception": false,
     "start_time": "2021-10-03T14:07:27.333748",
     "status": "completed"
    },
    "tags": []
   },
   "outputs": [
    {
     "name": "stdout",
     "output_type": "stream",
     "text": [
      "torch.Size([60000, 784])\n",
      "torch.Size([60000])\n"
     ]
    }
   ],
   "source": [
    "xtrain=torch.FloatTensor(train_data.iloc[:,1:].values).cuda()\n",
    "ytrain=torch.LongTensor(train_data['label'].values).cuda()\n",
    "print(xtrain.shape)\n",
    "print(ytrain.shape)"
   ]
  },
  {
   "cell_type": "code",
   "execution_count": 7,
   "id": "2a0de4c1",
   "metadata": {
    "execution": {
     "iopub.execute_input": "2021-10-03T14:07:33.202985Z",
     "iopub.status.busy": "2021-10-03T14:07:33.201278Z",
     "iopub.status.idle": "2021-10-03T14:07:33.203581Z",
     "shell.execute_reply": "2021-10-03T14:07:33.203987Z",
     "shell.execute_reply.started": "2021-10-03T14:06:23.874021Z"
    },
    "papermill": {
     "duration": 0.017196,
     "end_time": "2021-10-03T14:07:33.204149",
     "exception": false,
     "start_time": "2021-10-03T14:07:33.186953",
     "status": "completed"
    },
    "tags": []
   },
   "outputs": [],
   "source": [
    "from torch.utils.data import TensorDataset # 텐서데이터셋\n",
    "from torch.utils.data import DataLoader # 데이터로더"
   ]
  },
  {
   "cell_type": "code",
   "execution_count": 8,
   "id": "88e7dbc5",
   "metadata": {
    "execution": {
     "iopub.execute_input": "2021-10-03T14:07:33.230883Z",
     "iopub.status.busy": "2021-10-03T14:07:33.230279Z",
     "iopub.status.idle": "2021-10-03T14:07:33.232642Z",
     "shell.execute_reply": "2021-10-03T14:07:33.233117Z",
     "shell.execute_reply.started": "2021-10-03T14:06:23.880251Z"
    },
    "papermill": {
     "duration": 0.018716,
     "end_time": "2021-10-03T14:07:33.233239",
     "exception": false,
     "start_time": "2021-10-03T14:07:33.214523",
     "status": "completed"
    },
    "tags": []
   },
   "outputs": [],
   "source": [
    "dataset = TensorDataset(xtrain, ytrain)\n",
    "dataloader = DataLoader(dataset, batch_size=32, shuffle=True)"
   ]
  },
  {
   "cell_type": "code",
   "execution_count": 9,
   "id": "bb1c3758",
   "metadata": {
    "execution": {
     "iopub.execute_input": "2021-10-03T14:07:33.264698Z",
     "iopub.status.busy": "2021-10-03T14:07:33.264052Z",
     "iopub.status.idle": "2021-10-03T14:08:09.271167Z",
     "shell.execute_reply": "2021-10-03T14:08:09.270250Z",
     "shell.execute_reply.started": "2021-10-03T14:06:23.894799Z"
    },
    "papermill": {
     "duration": 36.02756,
     "end_time": "2021-10-03T14:08:09.271325",
     "exception": false,
     "start_time": "2021-10-03T14:07:33.243765",
     "status": "completed"
    },
    "tags": []
   },
   "outputs": [
    {
     "name": "stdout",
     "output_type": "stream",
     "text": [
      "Epoch    0/10 Cost: 1.897210\n",
      "Epoch    1/10 Cost: 1.562638\n",
      "Epoch    2/10 Cost: 1.603787\n",
      "Epoch    3/10 Cost: 1.521923\n",
      "Epoch    4/10 Cost: 1.497116\n",
      "Epoch    5/10 Cost: 1.495365\n",
      "Epoch    6/10 Cost: 1.508261\n",
      "Epoch    7/10 Cost: 1.495561\n",
      "Epoch    8/10 Cost: 1.476127\n",
      "Epoch    9/10 Cost: 1.530727\n",
      "Epoch   10/10 Cost: 1.513487\n"
     ]
    }
   ],
   "source": [
    "import torch.nn.functional as F  # for softmax\n",
    "\n",
    "# 모델 초기화\n",
    "nb_class = 10\n",
    "nb_data = len(ytrain)\n",
    "\n",
    "W = torch.zeros((784, nb_class), requires_grad=True, device=\"cuda\")\n",
    "b = torch.zeros(1, requires_grad=True, device=\"cuda\")\n",
    "\n",
    "# optimizer 설정\n",
    "optimizer = optim.Adam([W, b], lr=0.00001)\n",
    "nb_epochs = 10\n",
    "for epoch in range(nb_epochs + 1):\n",
    "    for batch_idx, samples in enumerate(dataloader):\n",
    "        x_train, y_train = samples\n",
    "        hypothesis = F.softmax(x_train.matmul(W) + b, dim=1) # or .mm or @\n",
    "        y_one_hot=F.one_hot(y_train, num_classes=10)\n",
    "        \n",
    "#         y_one_hot = torch.zeros(nb_data, nb_class).cuda()\n",
    "#         y_one_hot.scatter_(1, y_train.unsqueeze(1), 1)\n",
    "        cost = (y_one_hot * -torch.log(F.softmax(hypothesis, dim=1))).sum(dim=1).mean()\n",
    "        \n",
    "        optimizer.zero_grad()\n",
    "        cost.backward()\n",
    "        optimizer.step()\n",
    "        \n",
    "        if batch_idx == 31:\n",
    "            print('Epoch {:4d}/{} Cost: {:.6f}'.format(\n",
    "                epoch, nb_epochs, cost.item()\n",
    "            ))"
   ]
  },
  {
   "cell_type": "code",
   "execution_count": 10,
   "id": "9116618f",
   "metadata": {
    "execution": {
     "iopub.execute_input": "2021-10-03T14:08:09.302837Z",
     "iopub.status.busy": "2021-10-03T14:08:09.302327Z",
     "iopub.status.idle": "2021-10-03T14:08:09.339519Z",
     "shell.execute_reply": "2021-10-03T14:08:09.340059Z",
     "shell.execute_reply.started": "2021-10-03T14:06:55.620983Z"
    },
    "papermill": {
     "duration": 0.055428,
     "end_time": "2021-10-03T14:08:09.340226",
     "exception": false,
     "start_time": "2021-10-03T14:08:09.284798",
     "status": "completed"
    },
    "tags": []
   },
   "outputs": [
    {
     "name": "stdout",
     "output_type": "stream",
     "text": [
      "tensor([[4.7643e-15, 2.8324e-12, 5.5929e-16,  ..., 1.2421e-14, 2.3063e-05,\n",
      "         9.3834e-15],\n",
      "        [1.0000e+00, 7.4978e-27, 1.2517e-17,  ..., 1.3016e-20, 1.8036e-13,\n",
      "         1.4631e-22],\n",
      "        [5.9711e-14, 5.6302e-18, 6.3444e-12,  ..., 7.7315e-19, 6.8242e-09,\n",
      "         1.1481e-12],\n",
      "        ...,\n",
      "        [2.5718e-23, 1.6715e-12, 2.1634e-18,  ..., 2.0472e-04, 4.7564e-06,\n",
      "         9.9964e-01],\n",
      "        [2.2130e-04, 1.3298e-18, 2.8798e-03,  ..., 2.6637e-13, 3.0843e-04,\n",
      "         2.7360e-06],\n",
      "        [3.4532e-09, 6.7802e-13, 2.2050e-08,  ..., 3.9469e-19, 1.0111e-04,\n",
      "         1.3479e-08]], device='cuda:0', grad_fn=<SoftmaxBackward>)\n",
      "tensor([ True,  True,  True,  ...,  True, False,  True], device='cuda:0')\n",
      "The model has an accuracy of 94.06% for the training set.\n"
     ]
    }
   ],
   "source": [
    "hypothesis = F.softmax(xtrain.matmul(W) + b, dim=1) # or .mm or @\n",
    "predict = torch.argmax(hypothesis, dim=1)\n",
    "\n",
    "print(hypothesis)\n",
    "\n",
    "\n",
    "# 정확도 계산 \n",
    "correct_prediction = predict.float() == ytrain\n",
    "print(correct_prediction)\n",
    "accuracy = correct_prediction.sum().item() / len(correct_prediction)\n",
    "print('The model has an accuracy of {:2.2f}% for the training set.'.format(accuracy * 100))"
   ]
  },
  {
   "cell_type": "code",
   "execution_count": 11,
   "id": "d58efe94",
   "metadata": {
    "execution": {
     "iopub.execute_input": "2021-10-03T14:08:09.372701Z",
     "iopub.status.busy": "2021-10-03T14:08:09.371629Z",
     "iopub.status.idle": "2021-10-03T14:08:09.432205Z",
     "shell.execute_reply": "2021-10-03T14:08:09.432629Z",
     "shell.execute_reply.started": "2021-10-03T14:06:55.657481Z"
    },
    "papermill": {
     "duration": 0.078827,
     "end_time": "2021-10-03T14:08:09.432766",
     "exception": false,
     "start_time": "2021-10-03T14:08:09.353939",
     "status": "completed"
    },
    "tags": []
   },
   "outputs": [
    {
     "name": "stdout",
     "output_type": "stream",
     "text": [
      "   id  label\n",
      "0   1      6\n",
      "1   2      1\n",
      "2   3      0\n",
      "3   4      0\n",
      "4   5      9\n"
     ]
    }
   ],
   "source": [
    "xtest = torch.FloatTensor(np.array(test_data)).cuda()\n",
    "hypothesis = F.softmax(xtest.matmul(W) + b, dim=1)\n",
    "predict = torch.argmax(hypothesis, dim=1).cuda()\n",
    "ytest=predict.detach().cpu().numpy()\n",
    "submit_data['label']=ytest\n",
    "print(submit_data.head())"
   ]
  },
  {
   "cell_type": "code",
   "execution_count": 12,
   "id": "f95596c9",
   "metadata": {
    "execution": {
     "iopub.execute_input": "2021-10-03T14:08:09.463725Z",
     "iopub.status.busy": "2021-10-03T14:08:09.462947Z",
     "iopub.status.idle": "2021-10-03T14:08:09.482617Z",
     "shell.execute_reply": "2021-10-03T14:08:09.482973Z",
     "shell.execute_reply.started": "2021-10-03T14:06:55.724567Z"
    },
    "papermill": {
     "duration": 0.036755,
     "end_time": "2021-10-03T14:08:09.483122",
     "exception": false,
     "start_time": "2021-10-03T14:08:09.446367",
     "status": "completed"
    },
    "tags": []
   },
   "outputs": [],
   "source": [
    "submit_data.to_csv(\"submission.csv\",mode='w', index=False)"
   ]
  }
 ],
 "metadata": {
  "kernelspec": {
   "display_name": "Python 3",
   "language": "python",
   "name": "python3"
  },
  "language_info": {
   "codemirror_mode": {
    "name": "ipython",
    "version": 3
   },
   "file_extension": ".py",
   "mimetype": "text/x-python",
   "name": "python",
   "nbconvert_exporter": "python",
   "pygments_lexer": "ipython3",
   "version": "3.7.10"
  },
  "papermill": {
   "default_parameters": {},
   "duration": 59.629408,
   "end_time": "2021-10-03T14:08:10.763739",
   "environment_variables": {},
   "exception": null,
   "input_path": "__notebook__.ipynb",
   "output_path": "__notebook__.ipynb",
   "parameters": {},
   "start_time": "2021-10-03T14:07:11.134331",
   "version": "2.3.3"
  }
 },
 "nbformat": 4,
 "nbformat_minor": 5
}
