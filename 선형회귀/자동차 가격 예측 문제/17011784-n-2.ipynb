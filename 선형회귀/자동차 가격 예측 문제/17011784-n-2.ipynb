{
 "cells": [
  {
   "cell_type": "code",
   "execution_count": 1,
   "id": "4008589f",
   "metadata": {
    "_cell_guid": "b1076dfc-b9ad-4769-8c92-a6c4dae69d19",
    "_uuid": "8f2839f25d086af736a60e9eeb907d3b93b6e0e5",
    "execution": {
     "iopub.execute_input": "2021-09-19T11:48:20.396788Z",
     "iopub.status.busy": "2021-09-19T11:48:20.395274Z",
     "iopub.status.idle": "2021-09-19T11:48:20.479271Z",
     "shell.execute_reply": "2021-09-19T11:48:20.478539Z",
     "shell.execute_reply.started": "2021-09-19T11:45:55.881231Z"
    },
    "papermill": {
     "duration": 0.09766,
     "end_time": "2021-09-19T11:48:20.479466",
     "exception": false,
     "start_time": "2021-09-19T11:48:20.381806",
     "status": "completed"
    },
    "tags": []
   },
   "outputs": [
    {
     "name": "stdout",
     "output_type": "stream",
     "text": [
      "/kaggle/input/2021-ai-w3-p2/train_data.csv\n",
      "/kaggle/input/2021-ai-w3-p2/test_data.csv\n",
      "/kaggle/input/2021-ai-w3-p2/sample_submit.csv\n"
     ]
    }
   ],
   "source": [
    "# This Python 3 environment comes with many helpful analytics libraries installed\n",
    "# It is defined by the kaggle/python Docker image: https://github.com/kaggle/docker-python\n",
    "# For example, here's several helpful packages to load\n",
    "\n",
    "import numpy as np # linear algebra\n",
    "import pandas as pd # data processing, CSV file I/O (e.g. pd.read_csv)\n",
    "\n",
    "# Input data files are available in the read-only \"../input/\" directory\n",
    "# For example, running this (by clicking run or pressing Shift+Enter) will list all files under the input directory\n",
    "\n",
    "import os\n",
    "for dirname, _, filenames in os.walk('/kaggle/input'):\n",
    "    for filename in filenames:\n",
    "        print(os.path.join(dirname, filename))\n",
    "\n",
    "# You can write up to 20GB to the current directory (/kaggle/working/) that gets preserved as output when you create a version using \"Save & Run All\" \n",
    "# You can also write temporary files to /kaggle/temp/, but they won't be saved outside of the current session"
   ]
  },
  {
   "cell_type": "code",
   "execution_count": 2,
   "id": "70192017",
   "metadata": {
    "execution": {
     "iopub.execute_input": "2021-09-19T11:48:20.501203Z",
     "iopub.status.busy": "2021-09-19T11:48:20.500517Z",
     "iopub.status.idle": "2021-09-19T11:48:25.554029Z",
     "shell.execute_reply": "2021-09-19T11:48:25.554531Z",
     "shell.execute_reply.started": "2021-09-19T11:45:55.974861Z"
    },
    "papermill": {
     "duration": 5.065867,
     "end_time": "2021-09-19T11:48:25.554701",
     "exception": false,
     "start_time": "2021-09-19T11:48:20.488834",
     "status": "completed"
    },
    "tags": []
   },
   "outputs": [],
   "source": [
    "import torch\n",
    "import torch.optim as optim\n",
    "from sklearn import preprocessing"
   ]
  },
  {
   "cell_type": "code",
   "execution_count": 3,
   "id": "f915dd97",
   "metadata": {
    "execution": {
     "iopub.execute_input": "2021-09-19T11:48:25.577957Z",
     "iopub.status.busy": "2021-09-19T11:48:25.577217Z",
     "iopub.status.idle": "2021-09-19T11:48:25.585916Z",
     "shell.execute_reply": "2021-09-19T11:48:25.586454Z",
     "shell.execute_reply.started": "2021-09-19T11:46:00.985361Z"
    },
    "papermill": {
     "duration": 0.022534,
     "end_time": "2021-09-19T11:48:25.586587",
     "exception": false,
     "start_time": "2021-09-19T11:48:25.564053",
     "status": "completed"
    },
    "tags": []
   },
   "outputs": [
    {
     "data": {
      "text/plain": [
       "<torch._C.Generator at 0x7f2710ce97f0>"
      ]
     },
     "execution_count": 3,
     "metadata": {},
     "output_type": "execute_result"
    }
   ],
   "source": [
    "torch.manual_seed(1)"
   ]
  },
  {
   "cell_type": "code",
   "execution_count": 4,
   "id": "cf556d39",
   "metadata": {
    "execution": {
     "iopub.execute_input": "2021-09-19T11:48:25.609954Z",
     "iopub.status.busy": "2021-09-19T11:48:25.609377Z",
     "iopub.status.idle": "2021-09-19T11:48:25.716026Z",
     "shell.execute_reply": "2021-09-19T11:48:25.715075Z",
     "shell.execute_reply.started": "2021-09-19T11:46:00.999961Z"
    },
    "papermill": {
     "duration": 0.120554,
     "end_time": "2021-09-19T11:48:25.716190",
     "exception": false,
     "start_time": "2021-09-19T11:48:25.595636",
     "status": "completed"
    },
    "tags": []
   },
   "outputs": [
    {
     "name": "stdout",
     "output_type": "stream",
     "text": [
      "   ID  company    model  year  transmission  mileage  fueltype  tax   mpg  \\\n",
      "0   0        2    Focus  2019             1     3764         4  145  34.5   \n",
      "1   1        1      I10  2015             1    27056         4   20  60.1   \n",
      "2   2        3       A3  2019             3     3375         4  145  34.5   \n",
      "3   3        3       A6  2019             0     5743         0  145  47.9   \n",
      "4   4        2   Fiesta  2015             1    32782         4    0  65.7   \n",
      "\n",
      "   engineSize  price  \n",
      "0         2.3  26299  \n",
      "1         1.0   5495  \n",
      "2         2.0  32400  \n",
      "3         2.0  29990  \n",
      "4         1.0   7250  \n",
      "   ID  company      model  year  transmission  mileage  fueltype  tax   mpg  \\\n",
      "0   0        2        Ka+  2017             1    10150         4  145  57.7   \n",
      "1   1        2       Kuga  2013             1    50216         0  145  53.3   \n",
      "2   2        3         Q5  2016             1    34189         0  200  47.9   \n",
      "3   3        1        I10  2020             1     1900         4  145  56.5   \n",
      "4   4        0   3 Series  2014             0    79809         0   20  68.9   \n",
      "\n",
      "   engineSize  \n",
      "0         1.2  \n",
      "1         2.0  \n",
      "2         2.0  \n",
      "3         1.0  \n",
      "4         2.0  \n",
      "   ID  price\n",
      "0   0      1\n",
      "1   1      1\n",
      "2   2      1\n",
      "3   3      1\n",
      "4   4      1\n"
     ]
    }
   ],
   "source": [
    "train_data=pd.read_csv(\"/kaggle/input/2021-ai-w3-p2/train_data.csv\")\n",
    "test_data=pd.read_csv(\"/kaggle/input/2021-ai-w3-p2/test_data.csv\")\n",
    "submit_data=pd.read_csv(\"/kaggle/input/2021-ai-w3-p2/sample_submit.csv\")\n",
    "print(train_data.head())\n",
    "print(test_data.head())\n",
    "print(submit_data.head())"
   ]
  },
  {
   "cell_type": "code",
   "execution_count": 5,
   "id": "55fa76df",
   "metadata": {
    "execution": {
     "iopub.execute_input": "2021-09-19T11:48:25.753809Z",
     "iopub.status.busy": "2021-09-19T11:48:25.753316Z",
     "iopub.status.idle": "2021-09-19T11:48:25.758275Z",
     "shell.execute_reply": "2021-09-19T11:48:25.757741Z",
     "shell.execute_reply.started": "2021-09-19T11:46:01.094659Z"
    },
    "papermill": {
     "duration": 0.031858,
     "end_time": "2021-09-19T11:48:25.758404",
     "exception": false,
     "start_time": "2021-09-19T11:48:25.726546",
     "status": "completed"
    },
    "tags": []
   },
   "outputs": [
    {
     "name": "stdout",
     "output_type": "stream",
     "text": [
      "[' 1 Series' ' 2 Series' ' 3 Series' ' 4 Series' ' 5 Series' ' 6 Series'\n",
      " ' 7 Series' ' 8 Series' ' A1' ' A3' ' A4' ' A5' ' A6' ' A7' ' A8'\n",
      " ' Auris' ' Avensis' ' Aygo' ' B-MAX' ' C-HR' ' C-MAX' ' Camry' ' Corolla'\n",
      " ' EcoSport' ' Edge' ' Fiesta' ' Focus' ' Fusion' ' GT86' ' Galaxy'\n",
      " ' Getz' ' Grand C-MAX' ' Grand Tourneo Connect' ' Hilux' ' I10' ' I20'\n",
      " ' I30' ' I40' ' I800' ' IQ' ' IX20' ' IX35' ' Ioniq' ' KA' ' Ka+' ' Kona'\n",
      " ' Kuga' ' Land Cruiser' ' M2' ' M3' ' M4' ' M5' ' M6' ' Mondeo'\n",
      " ' Mustang' ' PROACE VERSO' ' Prius' ' Puma' ' Q2' ' Q3' ' Q5' ' Q7' ' Q8'\n",
      " ' R8' ' RAV4' ' RS3' ' RS4' ' RS5' ' RS6' ' S-MAX' ' S3' ' S4' ' S5'\n",
      " ' S8' ' SQ5' ' SQ7' ' Santa Fe' ' Supra' ' TT' ' Tourneo Connect'\n",
      " ' Tourneo Custom' ' Tucson' ' Urban Cruiser' ' Veloster' ' Verso'\n",
      " ' Verso-S' ' X1' ' X2' ' X3' ' X4' ' X5' ' X6' ' X7' ' Yaris' ' Z3' ' Z4'\n",
      " ' i3' ' i8']\n"
     ]
    }
   ],
   "source": [
    "#preprocessing\n",
    "le=preprocessing.LabelEncoder()\n",
    "le.fit(train_data['model'])\n",
    "train_data['model'] = le.transform(train_data['model'])\n",
    "test_data['model'] = le.transform(test_data['model'])\n",
    "print(le.classes_)"
   ]
  },
  {
   "cell_type": "code",
   "execution_count": 6,
   "id": "a0ad90eb",
   "metadata": {
    "execution": {
     "iopub.execute_input": "2021-09-19T11:48:25.792610Z",
     "iopub.status.busy": "2021-09-19T11:48:25.789638Z",
     "iopub.status.idle": "2021-09-19T11:48:30.748956Z",
     "shell.execute_reply": "2021-09-19T11:48:30.748495Z",
     "shell.execute_reply.started": "2021-09-19T11:46:01.115972Z"
    },
    "papermill": {
     "duration": 4.980243,
     "end_time": "2021-09-19T11:48:30.749086",
     "exception": false,
     "start_time": "2021-09-19T11:48:25.768843",
     "status": "completed"
    },
    "tags": []
   },
   "outputs": [],
   "source": [
    "x1train = torch.FloatTensor(train_data['company']).cuda()\n",
    "x2train = torch.FloatTensor(train_data['model']).cuda()\n",
    "x3train = torch.FloatTensor(train_data['year']).cuda()\n",
    "x4train = torch.FloatTensor(train_data['transmission']).cuda()\n",
    "x5train = torch.FloatTensor(train_data['mileage']).cuda()\n",
    "x6train = torch.FloatTensor(train_data['fueltype']).cuda()\n",
    "x7train = torch.FloatTensor(train_data['tax']).cuda()\n",
    "x8train = torch.FloatTensor(train_data['mpg']).cuda()\n",
    "x9train = torch.FloatTensor(train_data['engineSize']).cuda()\n",
    "ytrain = torch.FloatTensor(train_data['price']).cuda()"
   ]
  },
  {
   "cell_type": "code",
   "execution_count": 7,
   "id": "ada2a24f",
   "metadata": {
    "execution": {
     "iopub.execute_input": "2021-09-19T11:48:30.777312Z",
     "iopub.status.busy": "2021-09-19T11:48:30.776703Z",
     "iopub.status.idle": "2021-09-19T11:48:30.782736Z",
     "shell.execute_reply": "2021-09-19T11:48:30.782351Z",
     "shell.execute_reply.started": "2021-09-19T11:46:06.621101Z"
    },
    "papermill": {
     "duration": 0.023195,
     "end_time": "2021-09-19T11:48:30.782840",
     "exception": false,
     "start_time": "2021-09-19T11:48:30.759645",
     "status": "completed"
    },
    "tags": []
   },
   "outputs": [],
   "source": [
    "#inital\n",
    "w1 = torch.zeros(1, requires_grad=True, device = \"cuda\")\n",
    "w2 = torch.zeros(1, requires_grad=True,device = \"cuda\")\n",
    "w3 = torch.zeros(1, requires_grad=True,device = \"cuda\")\n",
    "w4 = torch.zeros(1,requires_grad= True,device = \"cuda\")\n",
    "w5 = torch.zeros(1, requires_grad=True,device = \"cuda\")\n",
    "w6 = torch.zeros(1, requires_grad=True,device = \"cuda\")\n",
    "w7 = torch.zeros(1, requires_grad=True,device = \"cuda\")\n",
    "w8 = torch.zeros(1,requires_grad= True,device = \"cuda\")\n",
    "w9 = torch.zeros(1,requires_grad= True,device = \"cuda\")\n",
    "b = torch.zeros(1, requires_grad=True,device = \"cuda\")"
   ]
  },
  {
   "cell_type": "code",
   "execution_count": 8,
   "id": "28bc0454",
   "metadata": {
    "execution": {
     "iopub.execute_input": "2021-09-19T11:48:30.809803Z",
     "iopub.status.busy": "2021-09-19T11:48:30.809216Z",
     "iopub.status.idle": "2021-09-19T11:48:44.232814Z",
     "shell.execute_reply": "2021-09-19T11:48:44.233498Z",
     "shell.execute_reply.started": "2021-09-19T11:46:35.635304Z"
    },
    "papermill": {
     "duration": 13.441405,
     "end_time": "2021-09-19T11:48:44.233652",
     "exception": false,
     "start_time": "2021-09-19T11:48:30.792247",
     "status": "completed"
    },
    "tags": []
   },
   "outputs": [
    {
     "name": "stdout",
     "output_type": "stream",
     "text": [
      "Epoch    0/10000  Cost: 383204160.000000\n",
      "Epoch 1000/10000  Cost: 82995728.000000\n",
      "Epoch 2000/10000  Cost: 82722824.000000\n",
      "Epoch 3000/10000  Cost: 82620040.000000\n",
      "Epoch 4000/10000  Cost: 82518928.000000\n",
      "Epoch 5000/10000  Cost: 82419360.000000\n",
      "Epoch 6000/10000  Cost: 82321288.000000\n",
      "Epoch 7000/10000  Cost: 82224696.000000\n",
      "Epoch 8000/10000  Cost: 82129576.000000\n",
      "Epoch 9000/10000  Cost: 82035896.000000\n",
      "Epoch 10000/10000  Cost: 81943616.000000\n"
     ]
    }
   ],
   "source": [
    "# optimizer 설정\n",
    "optimizer = optim.SGD([w1, w2, w3,w4,w5,w6,w7,w8,w9, b], lr=9.7e-10)\n",
    "\n",
    "nb_epochs = 10000\n",
    "for epoch in range(nb_epochs + 1):\n",
    "    hypothesis = x1train * w1 + x2train * w2 + x3train * w3 + x4train * w4 + x5train * w5+ x6train * w6+x7train * w7+x8train * w8+x9train * w9 + b\n",
    "    cost = torch.mean((hypothesis - ytrain) ** 2)\n",
    "    \n",
    "    optimizer.zero_grad()\n",
    "    cost.backward()\n",
    "    optimizer.step()\n",
    "\n",
    "    if epoch % 1000 == 0:\n",
    "        print('Epoch {:4d}/{}  Cost: {:.6f}'.format(\n",
    "            epoch, nb_epochs, cost.item()\n",
    "        ))"
   ]
  },
  {
   "cell_type": "code",
   "execution_count": 9,
   "id": "498550ce",
   "metadata": {
    "execution": {
     "iopub.execute_input": "2021-09-19T11:48:44.271073Z",
     "iopub.status.busy": "2021-09-19T11:48:44.267075Z",
     "iopub.status.idle": "2021-09-19T11:48:44.330607Z",
     "shell.execute_reply": "2021-09-19T11:48:44.331374Z",
     "shell.execute_reply.started": "2021-09-19T11:47:11.588691Z"
    },
    "papermill": {
     "duration": 0.085603,
     "end_time": "2021-09-19T11:48:44.331556",
     "exception": false,
     "start_time": "2021-09-19T11:48:44.245953",
     "status": "completed"
    },
    "tags": []
   },
   "outputs": [
    {
     "name": "stdout",
     "output_type": "stream",
     "text": [
      "tensor([19529.7383, 11866.7910, 15160.9873,  ..., 12575.8721, 18666.4023,\n",
      "         6409.1162], device='cuda:0', grad_fn=<AddBackward0>)\n"
     ]
    }
   ],
   "source": [
    "x1test = torch.FloatTensor(test_data['company']).cuda()\n",
    "x2test = torch.FloatTensor(test_data['model']).cuda()\n",
    "x3test = torch.FloatTensor(test_data['year']).cuda()\n",
    "x4test = torch.FloatTensor(test_data['transmission']).cuda()\n",
    "x5test = torch.FloatTensor(test_data['mileage']).cuda()\n",
    "x6test = torch.FloatTensor(test_data['fueltype']).cuda()\n",
    "x7test = torch.FloatTensor(test_data['tax']).cuda()\n",
    "x8test = torch.FloatTensor(test_data['mpg']).cuda()\n",
    "x9test = torch.FloatTensor(test_data['engineSize']).cuda()\n",
    "ytest = x1test * w1 + x2test * w2 + x3test * w3 + x4test * w4 + x5test * w5+ x6test * w6+x7test * w7+x8test * w8+x9test * w9 + b\n",
    "print(ytest)"
   ]
  },
  {
   "cell_type": "code",
   "execution_count": 10,
   "id": "1fe25687",
   "metadata": {
    "execution": {
     "iopub.execute_input": "2021-09-19T11:48:44.365270Z",
     "iopub.status.busy": "2021-09-19T11:48:44.364667Z",
     "iopub.status.idle": "2021-09-19T11:48:44.370078Z",
     "shell.execute_reply": "2021-09-19T11:48:44.371139Z",
     "shell.execute_reply.started": "2021-09-19T11:47:58.568997Z"
    },
    "papermill": {
     "duration": 0.02522,
     "end_time": "2021-09-19T11:48:44.371310",
     "exception": false,
     "start_time": "2021-09-19T11:48:44.346090",
     "status": "completed"
    },
    "tags": []
   },
   "outputs": [
    {
     "name": "stdout",
     "output_type": "stream",
     "text": [
      "   ID         price\n",
      "0   0  19529.738281\n",
      "1   1  11866.791016\n",
      "2   2  15160.987305\n",
      "3   3  21123.083984\n",
      "4   4   5748.901855\n"
     ]
    }
   ],
   "source": [
    "submit_data['price']=ytest.cpu().detach().numpy()\n",
    "print(submit_data.head())"
   ]
  },
  {
   "cell_type": "code",
   "execution_count": 11,
   "id": "2152db38",
   "metadata": {
    "execution": {
     "iopub.execute_input": "2021-09-19T11:48:44.403615Z",
     "iopub.status.busy": "2021-09-19T11:48:44.402983Z",
     "iopub.status.idle": "2021-09-19T11:48:44.456042Z",
     "shell.execute_reply": "2021-09-19T11:48:44.456430Z",
     "shell.execute_reply.started": "2021-09-19T11:48:00.020292Z"
    },
    "papermill": {
     "duration": 0.071835,
     "end_time": "2021-09-19T11:48:44.456562",
     "exception": false,
     "start_time": "2021-09-19T11:48:44.384727",
     "status": "completed"
    },
    "tags": []
   },
   "outputs": [],
   "source": [
    "submit_data.to_csv(\"submission.csv\",mode='w',index=False)"
   ]
  }
 ],
 "metadata": {
  "kernelspec": {
   "display_name": "Python 3",
   "language": "python",
   "name": "python3"
  },
  "language_info": {
   "codemirror_mode": {
    "name": "ipython",
    "version": 3
   },
   "file_extension": ".py",
   "mimetype": "text/x-python",
   "name": "python",
   "nbconvert_exporter": "python",
   "pygments_lexer": "ipython3",
   "version": "3.7.10"
  },
  "papermill": {
   "default_parameters": {},
   "duration": 31.544012,
   "end_time": "2021-09-19T11:48:45.888832",
   "environment_variables": {},
   "exception": null,
   "input_path": "__notebook__.ipynb",
   "output_path": "__notebook__.ipynb",
   "parameters": {},
   "start_time": "2021-09-19T11:48:14.344820",
   "version": "2.3.3"
  }
 },
 "nbformat": 4,
 "nbformat_minor": 5
}
