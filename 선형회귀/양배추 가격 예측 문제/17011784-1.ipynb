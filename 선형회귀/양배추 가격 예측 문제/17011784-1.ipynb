{
 "cells": [
  {
   "cell_type": "code",
   "execution_count": 1,
   "id": "72f8e821",
   "metadata": {
    "_cell_guid": "b1076dfc-b9ad-4769-8c92-a6c4dae69d19",
    "_uuid": "8f2839f25d086af736a60e9eeb907d3b93b6e0e5",
    "execution": {
     "iopub.execute_input": "2021-09-19T05:39:49.532959Z",
     "iopub.status.busy": "2021-09-19T05:39:49.532106Z",
     "iopub.status.idle": "2021-09-19T05:39:49.539574Z",
     "shell.execute_reply": "2021-09-19T05:39:49.540238Z",
     "shell.execute_reply.started": "2021-09-19T05:35:11.759030Z"
    },
    "papermill": {
     "duration": 0.036133,
     "end_time": "2021-09-19T05:39:49.540601",
     "exception": false,
     "start_time": "2021-09-19T05:39:49.504468",
     "status": "completed"
    },
    "tags": []
   },
   "outputs": [
    {
     "name": "stdout",
     "output_type": "stream",
     "text": [
      "/kaggle/input/2021-ai-w3-p1/train.csv\n",
      "/kaggle/input/2021-ai-w3-p1/test.csv\n",
      "/kaggle/input/2021-ai-w3-p1/submit_sample.csv\n"
     ]
    }
   ],
   "source": [
    "#### This Python 3 environment comes with many helpful analytics libraries installed\n",
    "# It is defined by the kaggle/python Docker image: https://github.com/kaggle/docker-python\n",
    "# For example, here's several helpful packages to load\n",
    "\n",
    "import numpy as np # linear algebra\n",
    "import pandas as pd # data processing, CSV file I/O (e.g. pd.read_csv)\n",
    "\n",
    "# Input data files are available in the read-only \"../input/\" directory\n",
    "# For example, running this (by clicking run or pressing Shift+Enter) will list all files under the input directory\n",
    "\n",
    "import os\n",
    "for dirname, _, filenames in os.walk('/kaggle/input'):\n",
    "    for filename in filenames:\n",
    "        print(os.path.join(dirname, filename))\n",
    "\n",
    "# You can write up to 20GB to the current directory (/kaggle/working/) that gets preserved as output when you create a version using \"Save & Run All\" \n",
    "# You can also write temporary files to /kaggle/temp/, but they won't be saved outside of the current session"
   ]
  },
  {
   "cell_type": "code",
   "execution_count": 2,
   "id": "3a664fa8",
   "metadata": {
    "execution": {
     "iopub.execute_input": "2021-09-19T05:39:49.581479Z",
     "iopub.status.busy": "2021-09-19T05:39:49.579737Z",
     "iopub.status.idle": "2021-09-19T05:39:50.766485Z",
     "shell.execute_reply": "2021-09-19T05:39:50.765747Z",
     "shell.execute_reply.started": "2021-09-19T05:35:11.785623Z"
    },
    "papermill": {
     "duration": 1.205045,
     "end_time": "2021-09-19T05:39:50.766626",
     "exception": false,
     "start_time": "2021-09-19T05:39:49.561581",
     "status": "completed"
    },
    "tags": []
   },
   "outputs": [],
   "source": [
    "import torch\n",
    "import torch.optim as optim"
   ]
  },
  {
   "cell_type": "code",
   "execution_count": 3,
   "id": "dccb4d8d",
   "metadata": {
    "execution": {
     "iopub.execute_input": "2021-09-19T05:39:50.796744Z",
     "iopub.status.busy": "2021-09-19T05:39:50.795955Z",
     "iopub.status.idle": "2021-09-19T05:39:50.805966Z",
     "shell.execute_reply": "2021-09-19T05:39:50.805290Z",
     "shell.execute_reply.started": "2021-09-19T05:35:12.915640Z"
    },
    "papermill": {
     "duration": 0.026262,
     "end_time": "2021-09-19T05:39:50.806111",
     "exception": false,
     "start_time": "2021-09-19T05:39:50.779849",
     "status": "completed"
    },
    "tags": []
   },
   "outputs": [
    {
     "data": {
      "text/plain": [
       "<torch._C.Generator at 0x7fc140bf2310>"
      ]
     },
     "execution_count": 3,
     "metadata": {},
     "output_type": "execute_result"
    }
   ],
   "source": [
    "# For reproducibility\n",
    "torch.manual_seed(1)"
   ]
  },
  {
   "cell_type": "code",
   "execution_count": 4,
   "id": "0009cbd0",
   "metadata": {
    "execution": {
     "iopub.execute_input": "2021-09-19T05:39:50.835528Z",
     "iopub.status.busy": "2021-09-19T05:39:50.834840Z",
     "iopub.status.idle": "2021-09-19T05:39:50.880826Z",
     "shell.execute_reply": "2021-09-19T05:39:50.881354Z",
     "shell.execute_reply.started": "2021-09-19T05:35:12.928030Z"
    },
    "papermill": {
     "duration": 0.063609,
     "end_time": "2021-09-19T05:39:50.881532",
     "exception": false,
     "start_time": "2021-09-19T05:39:50.817923",
     "status": "completed"
    },
    "tags": []
   },
   "outputs": [
    {
     "name": "stdout",
     "output_type": "stream",
     "text": [
      "       year  avgTemp  minTemp  maxTemp  rainFall  avgPrice\n",
      "0  20100101     -4.9    -11.0      0.9       0.0      2123\n",
      "1  20100102     -3.1     -5.5      5.5       0.8      2123\n",
      "2  20100103     -2.9     -6.9      1.4       0.0      2123\n",
      "3  20100104     -1.8     -5.1      2.2       5.9      2020\n",
      "4  20100105     -5.2     -8.7     -1.8       0.7      2060\n",
      "       year  avgTemp  minTemp  maxTemp  rainFall\n",
      "0  20170107      4.0     -1.4      9.5       0.1\n",
      "1  20170120     -1.7     -5.4      1.4       3.3\n",
      "2  20170223      1.4     -2.0      5.0       0.0\n",
      "3  20170227      3.6     -2.5     11.1       0.1\n",
      "4  20170309      5.0     -1.6     11.3       0.0\n",
      "   Id  Expected\n",
      "0   0      1000\n",
      "1   1      1000\n",
      "2   2      1000\n",
      "3   3      1000\n",
      "4   4      1000\n"
     ]
    }
   ],
   "source": [
    "train_data=pd.read_csv(\"/kaggle/input/2021-ai-w3-p1/train.csv\")\n",
    "test_data=pd.read_csv(\"/kaggle/input/2021-ai-w3-p1/test.csv\")\n",
    "submit_data=pd.read_csv(\"/kaggle/input/2021-ai-w3-p1/submit_sample.csv\")\n",
    "print(train_data.head())\n",
    "print(test_data.head())\n",
    "print(submit_data.head())"
   ]
  },
  {
   "cell_type": "code",
   "execution_count": 5,
   "id": "71676293",
   "metadata": {
    "execution": {
     "iopub.execute_input": "2021-09-19T05:39:50.923848Z",
     "iopub.status.busy": "2021-09-19T05:39:50.923088Z",
     "iopub.status.idle": "2021-09-19T05:39:50.943200Z",
     "shell.execute_reply": "2021-09-19T05:39:50.943718Z",
     "shell.execute_reply.started": "2021-09-19T05:35:12.974821Z"
    },
    "papermill": {
     "duration": 0.049984,
     "end_time": "2021-09-19T05:39:50.943908",
     "exception": false,
     "start_time": "2021-09-19T05:39:50.893924",
     "status": "completed"
    },
    "tags": []
   },
   "outputs": [],
   "source": [
    "x_train=np.array([train_data['avgTemp'],train_data['minTemp'],train_data['maxTemp'],train_data['rainFall']])\n",
    "x_train=x_train.T\n",
    "x_train=torch.FloatTensor(x_train)\n",
    "y_train=torch.FloatTensor(train_data['avgPrice'])"
   ]
  },
  {
   "cell_type": "code",
   "execution_count": 6,
   "id": "505c8d2c",
   "metadata": {
    "execution": {
     "iopub.execute_input": "2021-09-19T05:39:50.973597Z",
     "iopub.status.busy": "2021-09-19T05:39:50.971874Z",
     "iopub.status.idle": "2021-09-19T05:39:50.978034Z",
     "shell.execute_reply": "2021-09-19T05:39:50.977439Z",
     "shell.execute_reply.started": "2021-09-19T05:35:13.005990Z"
    },
    "papermill": {
     "duration": 0.021507,
     "end_time": "2021-09-19T05:39:50.978180",
     "exception": false,
     "start_time": "2021-09-19T05:39:50.956673",
     "status": "completed"
    },
    "tags": []
   },
   "outputs": [
    {
     "name": "stdout",
     "output_type": "stream",
     "text": [
      "torch.Size([2557, 4])\n",
      "torch.Size([2557])\n"
     ]
    }
   ],
   "source": [
    "print(x_train.shape)\n",
    "print(y_train.shape)"
   ]
  },
  {
   "cell_type": "code",
   "execution_count": 7,
   "id": "0f121673",
   "metadata": {
    "execution": {
     "iopub.execute_input": "2021-09-19T05:39:51.009023Z",
     "iopub.status.busy": "2021-09-19T05:39:51.008291Z",
     "iopub.status.idle": "2021-09-19T05:39:51.016334Z",
     "shell.execute_reply": "2021-09-19T05:39:51.015662Z",
     "shell.execute_reply.started": "2021-09-19T05:35:13.011949Z"
    },
    "papermill": {
     "duration": 0.025709,
     "end_time": "2021-09-19T05:39:51.016497",
     "exception": false,
     "start_time": "2021-09-19T05:39:50.990788",
     "status": "completed"
    },
    "tags": []
   },
   "outputs": [],
   "source": [
    "#모델초기화\n",
    "W=torch.zeros((4,1), requires_grad=True)\n",
    "b=torch.zeros(1, requires_grad=True)"
   ]
  },
  {
   "cell_type": "code",
   "execution_count": 8,
   "id": "dbb5dd58",
   "metadata": {
    "execution": {
     "iopub.execute_input": "2021-09-19T05:39:51.053094Z",
     "iopub.status.busy": "2021-09-19T05:39:51.052333Z",
     "iopub.status.idle": "2021-09-19T05:42:15.425383Z",
     "shell.execute_reply": "2021-09-19T05:42:15.426763Z",
     "shell.execute_reply.started": "2021-09-19T05:35:13.028252Z"
    },
    "papermill": {
     "duration": 144.397167,
     "end_time": "2021-09-19T05:42:15.427128",
     "exception": false,
     "start_time": "2021-09-19T05:39:51.029961",
     "status": "completed"
    },
    "tags": []
   },
   "outputs": [
    {
     "name": "stdout",
     "output_type": "stream",
     "text": [
      "Epoch    0/5000 hypothesis: tensor([0., 0., 0.,  ..., 0., 0., 0.]) Cost: 12013343.000000\n",
      "Epoch  500/5000 hypothesis: tensor([2525.0376, 2532.8330, 1805.8557,  ..., 1492.0636, 2602.8203,\n",
      "        2369.4519]) Cost: 2406400.750000\n",
      "Epoch 1000/5000 hypothesis: tensor([2827.7119, 2791.4763, 2016.6981,  ..., 1653.4608, 2858.8821,\n",
      "        2559.3027]) Cost: 2373814.250000\n",
      "Epoch 1500/5000 hypothesis: tensor([2857.7812, 2829.7754, 2043.3334,  ..., 1677.0248, 2885.4524,\n",
      "        2581.7173]) Cost: 2366631.250000\n",
      "Epoch 2000/5000 hypothesis: tensor([2861.4504, 2846.5366, 2052.0850,  ..., 1687.1879, 2889.7815,\n",
      "        2587.8818]) Cost: 2359781.750000\n",
      "Epoch 2500/5000 hypothesis: tensor([2862.5725, 2861.0249, 2059.0676,  ..., 1696.0063, 2891.9480,\n",
      "        2592.4421]) Cost: 2353029.000000\n",
      "Epoch 3000/5000 hypothesis: tensor([2863.4565, 2875.1069, 2065.8408,  ..., 1704.6471, 2893.8958,\n",
      "        2596.8167]) Cost: 2346369.750000\n",
      "Epoch 3500/5000 hypothesis: tensor([2864.3184, 2888.9609, 2072.5513,  ..., 1713.2203, 2895.8081,\n",
      "        2601.1401]) Cost: 2339802.000000\n",
      "Epoch 4000/5000 hypothesis: tensor([2865.1807, 2902.6062, 2079.2148,  ..., 1721.7375, 2897.7014,\n",
      "        2605.4229]) Cost: 2333324.500000\n",
      "Epoch 4500/5000 hypothesis: tensor([2866.0481, 2916.0498, 2085.8345,  ..., 1730.2013, 2899.5825,\n",
      "        2609.6719]) Cost: 2326936.000000\n",
      "Epoch 5000/5000 hypothesis: tensor([2866.9255, 2929.2996, 2092.4143,  ..., 1738.6150, 2901.4543,\n",
      "        2613.8887]) Cost: 2320634.500000\n"
     ]
    }
   ],
   "source": [
    "#optimizer설정\n",
    "optimizer=optim.SGD([W,b], lr=0.0001)\n",
    "\n",
    "nb_epochs=5000\n",
    "for epoch in range(nb_epochs + 1):\n",
    "    #H(x)\n",
    "    hypothesis=x_train.matmul(W)+b\n",
    "    #Cost\n",
    "    cost=torch.mean((hypothesis - y_train) ** 2)\n",
    "    #change H(x)\n",
    "    optimizer.zero_grad()\n",
    "    cost.backward()\n",
    "    optimizer.step()\n",
    "    #500번 마다 출력\n",
    "    if epoch % 500 == 0:\n",
    "        print('Epoch {:4d}/{} hypothesis: {} Cost: {:.6f}'.format(epoch,nb_epochs,hypothesis.squeeze().detach(),cost.item()))"
   ]
  },
  {
   "cell_type": "code",
   "execution_count": 9,
   "id": "3bcdb6dc",
   "metadata": {
    "execution": {
     "iopub.execute_input": "2021-09-19T05:42:15.465346Z",
     "iopub.status.busy": "2021-09-19T05:42:15.464412Z",
     "iopub.status.idle": "2021-09-19T05:42:15.470965Z",
     "shell.execute_reply": "2021-09-19T05:42:15.470407Z",
     "shell.execute_reply.started": "2021-09-19T05:37:31.859044Z"
    },
    "papermill": {
     "duration": 0.026866,
     "end_time": "2021-09-19T05:42:15.471104",
     "exception": false,
     "start_time": "2021-09-19T05:42:15.444238",
     "status": "completed"
    },
    "tags": []
   },
   "outputs": [
    {
     "name": "stdout",
     "output_type": "stream",
     "text": [
      "tensor([[ -37.0251],\n",
      "        [-203.0161],\n",
      "        [ 263.8333],\n",
      "        [  39.9994]], requires_grad=True)\n",
      "tensor([214.8767], requires_grad=True)\n"
     ]
    }
   ],
   "source": [
    "print(W)\n",
    "print(b)"
   ]
  },
  {
   "cell_type": "code",
   "execution_count": 10,
   "id": "d6ef44c0",
   "metadata": {
    "execution": {
     "iopub.execute_input": "2021-09-19T05:42:15.510093Z",
     "iopub.status.busy": "2021-09-19T05:42:15.509355Z",
     "iopub.status.idle": "2021-09-19T05:42:15.515963Z",
     "shell.execute_reply": "2021-09-19T05:42:15.515355Z",
     "shell.execute_reply.started": "2021-09-19T05:37:31.869169Z"
    },
    "papermill": {
     "duration": 0.028844,
     "end_time": "2021-09-19T05:42:15.516110",
     "exception": false,
     "start_time": "2021-09-19T05:42:15.487266",
     "status": "completed"
    },
    "tags": []
   },
   "outputs": [
    {
     "name": "stdout",
     "output_type": "stream",
     "text": [
      "tensor([[2861.4153],\n",
      "        [1875.4711],\n",
      "        [1888.2404],\n",
      "        [3521.6765],\n",
      "        [3335.8933],\n",
      "        [3418.6145],\n",
      "        [2967.6013],\n",
      "        [4374.0698],\n",
      "        [3649.7529],\n",
      "        [4523.0508],\n",
      "        [2118.9209],\n",
      "        [3835.0054],\n",
      "        [2943.0647],\n",
      "        [3165.0242],\n",
      "        [2453.0134],\n",
      "        [3531.3711],\n",
      "        [3459.7830],\n",
      "        [4397.7646],\n",
      "        [3141.9841],\n",
      "        [3488.5959],\n",
      "        [2485.1023],\n",
      "        [2841.3582],\n",
      "        [3220.1492],\n",
      "        [1679.0319]], grad_fn=<AddBackward0>)\n"
     ]
    }
   ],
   "source": [
    "x_test=torch.FloatTensor(np.array([test_data['avgTemp'],test_data['minTemp'],test_data['maxTemp'],test_data['rainFall']]))\n",
    "x_test=x_test.T\n",
    "y_test=x_test.matmul(W)+b\n",
    "print(y_test)"
   ]
  },
  {
   "cell_type": "code",
   "execution_count": 11,
   "id": "38354607",
   "metadata": {
    "execution": {
     "iopub.execute_input": "2021-09-19T05:42:15.560243Z",
     "iopub.status.busy": "2021-09-19T05:42:15.559229Z",
     "iopub.status.idle": "2021-09-19T05:42:15.562556Z",
     "shell.execute_reply": "2021-09-19T05:42:15.563072Z",
     "shell.execute_reply.started": "2021-09-19T05:37:31.887044Z"
    },
    "papermill": {
     "duration": 0.030455,
     "end_time": "2021-09-19T05:42:15.563255",
     "exception": false,
     "start_time": "2021-09-19T05:42:15.532800",
     "status": "completed"
    },
    "tags": []
   },
   "outputs": [
    {
     "name": "stdout",
     "output_type": "stream",
     "text": [
      "   Id     Expected\n",
      "0   0  2861.415283\n",
      "1   1  1875.471069\n",
      "2   2  1888.240356\n",
      "3   3  3521.676514\n",
      "4   4  3335.893311\n"
     ]
    }
   ],
   "source": [
    "submit_data['Expected']=y_test.detach().numpy()\n",
    "print(submit_data.head())"
   ]
  },
  {
   "cell_type": "code",
   "execution_count": 12,
   "id": "6f934189",
   "metadata": {
    "execution": {
     "iopub.execute_input": "2021-09-19T05:42:15.602844Z",
     "iopub.status.busy": "2021-09-19T05:42:15.601844Z",
     "iopub.status.idle": "2021-09-19T05:42:15.607504Z",
     "shell.execute_reply": "2021-09-19T05:42:15.606988Z",
     "shell.execute_reply.started": "2021-09-19T05:37:31.903287Z"
    },
    "papermill": {
     "duration": 0.027703,
     "end_time": "2021-09-19T05:42:15.607649",
     "exception": false,
     "start_time": "2021-09-19T05:42:15.579946",
     "status": "completed"
    },
    "tags": []
   },
   "outputs": [],
   "source": [
    "submit_data.to_csv(\"submission.csv\",mode='w',index=False)"
   ]
  }
 ],
 "metadata": {
  "kernelspec": {
   "display_name": "Python 3",
   "language": "python",
   "name": "python3"
  },
  "language_info": {
   "codemirror_mode": {
    "name": "ipython",
    "version": 3
   },
   "file_extension": ".py",
   "mimetype": "text/x-python",
   "name": "python",
   "nbconvert_exporter": "python",
   "pygments_lexer": "ipython3",
   "version": "3.7.10"
  },
  "papermill": {
   "default_parameters": {},
   "duration": 155.878779,
   "end_time": "2021-09-19T05:42:16.335968",
   "environment_variables": {},
   "exception": null,
   "input_path": "__notebook__.ipynb",
   "output_path": "__notebook__.ipynb",
   "parameters": {},
   "start_time": "2021-09-19T05:39:40.457189",
   "version": "2.3.3"
  }
 },
 "nbformat": 4,
 "nbformat_minor": 5
}
